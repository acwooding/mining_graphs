{
 "cells": [
  {
   "cell_type": "code",
   "execution_count": null,
   "metadata": {},
   "outputs": [],
   "source": [
    "## path to the datasets\n",
    "datadir='./Datasets/'\n",
    "\n",
    "## required packages\n",
    "import numpy as np\n",
    "import pandas as pd\n",
    "import matplotlib.pyplot as plt\n",
    "import igraph as ig\n",
    "import partition_igraph\n",
    "from collections import Counter\n",
    "from sklearn.metrics import adjusted_mutual_info_score as AMI\n",
    "import random\n"
   ]
  },
  {
   "cell_type": "markdown",
   "metadata": {},
   "source": [
    "## 2.4 Bonus module - Community-based anomaly detection"
   ]
  },
  {
   "cell_type": "markdown",
   "metadata": {},
   "source": [
    "### New dataset -- American College Football Graph\n",
    "\n",
    "This is a nice, small graph for illustrating anomaly detection methods.\n",
    "\n",
    "The graph consists of 115 US college football teams (nodes) playing games (edges).\n",
    "\n",
    "Teams are part of 12 conferences (the 'communities'):\n",
    "*   0 = Atlantic Coast\n",
    "*   1 = Big East\n",
    "*   2 = Big Ten\n",
    "*   3 = Big Twelve\n",
    "*   4 = Conference USA\n",
    "*   5 = Independents\n",
    "*   6 = Mid-American\n",
    "*   7 = Mountain West\n",
    "*   8 = Pacific Ten\n",
    "*   9 = Southeastern\n",
    "*  10 = Sun Belt\n",
    "*  11 = Western Athletic\n",
    "\n",
    "14 teams out of 115 appear as \"anomalies\", namely:\n",
    "- the 5 teams in #5 conference (Independent) play teams in other conferences \n",
    "- the 7 teams in #10 conference (Sun Belt) are broken in 2 clumps \n",
    "- 2 teams from #11 conference play mainly with #10 conference\n",
    "\n",
    "[REF]: \"Community structure in social and biological networks\", M. Girvan and M. E. J. Newman\n",
    "PNAS June 11, 2002 99 (12) 7821-7826; https://doi.org/10.1073/pnas.122653799\n"
   ]
  },
  {
   "cell_type": "code",
   "execution_count": null,
   "metadata": {},
   "outputs": [],
   "source": [
    "cfg = ig.Graph.Read_Ncol(datadir+'Football/football.edgelist',directed=False)\n",
    "c = np.loadtxt(datadir+'Football/football.community',dtype='uint16',usecols=(0))\n",
    "cfg.vs['community'] = [c[int(x['name'])] for x in cfg.vs]"
   ]
  },
  {
   "cell_type": "markdown",
   "metadata": {},
   "source": [
    "Let's look at the College Football Graph and show communities in different colors, and anomalies as squares"
   ]
  },
  {
   "cell_type": "code",
   "execution_count": null,
   "metadata": {},
   "outputs": [],
   "source": [
    "cfg.vs['shape'] = 'circle'\n",
    "cfg.vs['anomaly'] = 0\n",
    "pal = ig.ClusterColoringPalette(n=max(cfg.vs['community'])+1) \n",
    "cfg.vs['color'] = [pal.get(int(i)) for i in cfg.vs['community']]\n",
    "for v in cfg.vs:\n",
    "    if v['community'] in [5,10] or v['name'] in ['28','58']:\n",
    "        v['shape']='square'\n",
    "        v['anomaly']=1\n",
    "ly = cfg.layout_fruchterman_reingold()\n",
    "ig.plot(cfg, layout=ly, bbox=(0,0,500,300), vertex_size=6, edge_color='lightgray')\n"
   ]
  },
  {
   "cell_type": "code",
   "execution_count": null,
   "metadata": {},
   "outputs": [],
   "source": [
    "## cluster with ECG\n",
    "ec = cfg.community_ecg()\n",
    "cfg.vs['ecg'] = ec.membership\n",
    "print('number of communities found:',np.max(cfg.vs['ecg'])+1)"
   ]
  },
  {
   "cell_type": "code",
   "execution_count": null,
   "metadata": {},
   "outputs": [],
   "source": [
    "## AMI (<=1) in a measure of the cluster quality given ground-truth\n",
    "AMI(cfg.vs['community'],cfg.vs['ecg'])"
   ]
  },
  {
   "cell_type": "markdown",
   "metadata": {},
   "source": [
    "Compute and compare the participation coefficients; a **high** value indicative of **outlier**"
   ]
  },
  {
   "cell_type": "code",
   "execution_count": null,
   "metadata": {
    "scrolled": false
   },
   "outputs": [],
   "source": [
    "## measures the homogeneity of a list\n",
    "def partCoef(l):\n",
    "    s = sum(l)\n",
    "    pc = 1-sum([i**2/s**2 for i in l]) \n",
    "    return pc\n",
    "\n",
    "## for each node, list the clusters of its neighbours and compute the participation coefficient\n",
    "for v in cfg.vs:\n",
    "    l = list(Counter([cfg.vs[x]['ecg'] for x in cfg.neighbors(v)]).values()) ## neighbour's communities    \n",
    "    v['pc'] = partCoef(l)\n",
    "\n",
    "## boxplot - outliers vs \"regular\" nodes\n",
    "plt.rcParams['font.size'] = '14'\n",
    "X = [v['pc'] for v in cfg.vs if v['anomaly']==0]\n",
    "Y = [v['pc'] for v in cfg.vs if v['anomaly']==1]\n",
    "plt.boxplot([X,Y],labels=['Regular','Outlier'],sym='.',whis=(0,100), widths=.5)\n",
    "plt.ylabel('Participation coefficient',fontsize=14);"
   ]
  },
  {
   "cell_type": "markdown",
   "metadata": {},
   "source": [
    "With ECG, node strongly in a community should have **high** \"ecg weights\" on edges linking its neighbours"
   ]
  },
  {
   "cell_type": "code",
   "execution_count": null,
   "metadata": {},
   "outputs": [],
   "source": [
    "## collect ECG weights\n",
    "cfg.es['ecg_weight'] = ec.W\n",
    "\n",
    "## average those for each node\n",
    "for v in cfg.vs:\n",
    "    v['ecg'] = np.mean([cfg.es[e]['ecg_weight'] for e in cfg.incident(v)])\n",
    "\n",
    "## boxplot - outliers vs \"regular\" nodes\n",
    "X = [v['ecg'] for v in cfg.vs if v['anomaly']==0]\n",
    "Y = [v['ecg'] for v in cfg.vs if v['anomaly']==1]\n",
    "plt.boxplot([X,Y],labels=['Regular','Outlier'],sym='.',whis=(0,100), widths=.5)\n",
    "plt.ylabel('ECG weights',fontsize=14);\n"
   ]
  }
 ],
 "metadata": {
  "kernelspec": {
   "display_name": "Python [conda env:MiningComplexNetworks_2022] *",
   "language": "python",
   "name": "conda-env-MiningComplexNetworks_2022-py"
  },
  "language_info": {
   "codemirror_mode": {
    "name": "ipython",
    "version": 3
   },
   "file_extension": ".py",
   "mimetype": "text/x-python",
   "name": "python",
   "nbconvert_exporter": "python",
   "pygments_lexer": "ipython3",
   "version": "3.7.9"
  }
 },
 "nbformat": 4,
 "nbformat_minor": 4
}
