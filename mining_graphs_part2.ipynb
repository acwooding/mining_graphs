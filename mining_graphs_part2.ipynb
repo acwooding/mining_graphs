{
 "cells": [
  {
   "cell_type": "code",
   "execution_count": null,
   "metadata": {},
   "outputs": [],
   "source": [
    "## path to the datasets\n",
    "datadir='./Datasets/'\n",
    "\n",
    "## required packages\n",
    "import numpy as np\n",
    "import pandas as pd\n",
    "import matplotlib.pyplot as plt\n",
    "import igraph as ig\n",
    "import partition_igraph\n",
    "from collections import Counter\n",
    "from sklearn.metrics import adjusted_rand_score as ARI\n",
    "from sklearn.metrics import adjusted_mutual_info_score as AMI\n",
    "import random\n"
   ]
  },
  {
   "cell_type": "markdown",
   "metadata": {},
   "source": [
    "# Part 2 - Clustering\n",
    "\n",
    "First, let's build the airport graph as in Part 1."
   ]
  },
  {
   "cell_type": "code",
   "execution_count": null,
   "metadata": {},
   "outputs": [],
   "source": [
    "## the airports\n",
    "airport_df = pd.read_csv(datadir + 'Airports/airports_loc.csv')\n",
    "airport_df.head()\n",
    "## read edges from csv file\n",
    "df_edges = pd.read_csv(datadir + 'Airports/connections.csv')\n",
    "df_edges.head() ## look at a few edges\n",
    "## directed graph\n",
    "tuple_list = [tuple(x) for x in df_edges.values]\n",
    "g = ig.Graph.TupleList(tuple_list, directed=True, edge_attrs=['weight'])\n",
    "## add vertex attributes\n",
    "lookup = {k:v for v,k in enumerate(airport_df['airport'])}\n",
    "l = [lookup[x] for x in g.vs()['name']]\n",
    "g.vs['layout'] = [(airport_df['lon'][i],-airport_df['lat'][i]) for i in l]\n",
    "g.vs['state'] = [airport_df['state'][i] for i in l]\n",
    "g.vs['city'] = [airport_df['city'][i] for i in l]\n",
    "g.vs['color'] = 'lightblue'\n",
    "## undirected graph w/o loops\n",
    "g_und = g.as_undirected(combine_edges=sum)\n",
    "g_und = g_und.simplify(combine_edges=sum)\n"
   ]
  },
  {
   "cell_type": "markdown",
   "metadata": {},
   "source": [
    "## 2.1 Triangles and Transitivity\n",
    "\n",
    "Edges represent relations between entities (nodes) in graphs/networks.\n",
    "\n",
    "The next step is to consider **triads** of nodes \n",
    "\n",
    "Fully connected triads form **triangles**\n",
    "\n",
    "The presence of triangles is indicative of communities (dense subgraph(s) in a graph): ''the friend of my friend is my friend''.\n",
    "\n",
    "Two fundamental measures of the presence of triangles in graphs are:\n",
    "\n",
    "* **transitivity** (global clustering coefficient) measures the proportion of wedges (two-hop path in an undirected graph) that form a triangle\n",
    "* **local transitivity** (local clustering coefficient) for a node is the proportion of pairs of neighbours that form a triangle\n",
    "  * nodes of degree less than 2 are either ignored or given value 0\n",
    "  * **average local transitivity** is obtained by averaging local transitivity over all nodes\n",
    "\n",
    "Those measures assume **undirected** graphs.\n",
    "\n",
    "While we can define triangles and other motifs for directed graphs, clustering generally assumes undirected graphs.\n",
    "\n",
    "We compute the above for the airport graph, as we look for nodes with high/low local transitivity."
   ]
  },
  {
   "cell_type": "code",
   "execution_count": null,
   "metadata": {},
   "outputs": [],
   "source": [
    "## nodes with degree < 2 will get 0 local transitivity\n",
    "print('trans:',g_und.transitivity_undirected())\n",
    "print('avg local trans:',g_und.transitivity_avglocal_undirected(mode='zero'))\n",
    "g_und.vs['trans'] = g_und.transitivity_local_undirected(mode='zero') \n",
    "print('avg local trans:',np.mean(g_und.vs['trans']))"
   ]
  },
  {
   "cell_type": "markdown",
   "metadata": {},
   "source": [
    "High transitivity example"
   ]
  },
  {
   "cell_type": "code",
   "execution_count": null,
   "metadata": {
    "scrolled": false
   },
   "outputs": [],
   "source": [
    "v = np.argmax(g_und.vs['trans'])\n",
    "print('airport:',g_und.vs[v]['name'],', transitivity',g_und.vs[v]['trans'],', plotting its ego-net:')\n",
    "sg = g_und.subgraph(g_und.neighborhood(v))\n",
    "ig.plot(sg,bbox=(400,300), vertex_label=sg.vs['name'], vertex_size=15, layout=sg.vs['layout'],\n",
    "            vertex_label_size=6, margin=50)\n",
    "## we see that all neighbour pairs are linked by an edge"
   ]
  },
  {
   "cell_type": "markdown",
   "metadata": {},
   "source": [
    "### directed graphs\n",
    "\n",
    "For directed graphs, there are 16 different possibilities for each **triad**\n",
    "\n",
    "The **triad census** function counts all occurrences, and returns the counts in a specific ordering:\n",
    "```\n",
    "  - C{003} -- the empty graph\n",
    "  - C{012} -- a graph with a single directed edge (C{A --> B, C})\n",
    "  - C{102} -- a graph with a single mutual edge (C{A <-> B, C})\n",
    "  - C{021D} -- the binary out-tree (C{A <-- B --> C})\n",
    "  - C{021U} -- the binary in-tree (C{A --> B <-- C})\n",
    "  - C{021C} -- the directed line (C{A --> B --> C})\n",
    "  - C{111D} -- C{A <-> B <-- C}\n",
    "  - C{111U} -- C{A <-> B --> C}\n",
    "  - C{030T} -- C{A --> B <-- C, A --> C}\n",
    "  - C{030C} -- C{A <-- B <-- C, A --> C}\n",
    "  - C{201} -- C{A <-> B <-> C}\n",
    "  - C{120D} -- C{A <-- B --> C, A <-> C}\n",
    "  - C{120U} -- C{A --> B <-- C, A <-> C}\n",
    "  - C{120C} -- C{A --> B --> C, A <-> C}\n",
    "  - C{210C} -- C{A --> B <-> C, A <-> C}\n",
    "  - C{300} -- the complete graph (C{A <-> B <-> C, A <-> C})\n",
    "```"
   ]
  },
  {
   "cell_type": "code",
   "execution_count": null,
   "metadata": {},
   "outputs": [],
   "source": [
    "tc = g.triad_census()\n",
    "print('number of triads:',np.sum(tc))\n",
    "print('number of complete subgraphs (300):',tc.t300) \n",
    "print('number of 3-edge cycles (030C)',tc.t030C)\n",
    "print('complete list by type:',tuple(tc))\n"
   ]
  },
  {
   "cell_type": "markdown",
   "metadata": {},
   "source": [
    "### Cliques\n",
    "\n",
    "Triangles are also known as **3-cliques**\n",
    "\n",
    "A **k-clique** is a fully connected subgraph with k nodes\n",
    "\n",
    "The **clique number** is the size of the largest clique.\n"
   ]
  },
  {
   "cell_type": "code",
   "execution_count": null,
   "metadata": {
    "scrolled": true
   },
   "outputs": [],
   "source": [
    "# Cliques in the Airport graph\n",
    "print('number of 3-cliques:', len(g_und.cliques(min=3, max=3)))\n",
    "print('number of 4-cliques:', len(g_und.cliques(min=4, max=4)))\n",
    "print('max clique size:', g_und.clique_number())"
   ]
  },
  {
   "cell_type": "markdown",
   "metadata": {},
   "source": [
    "print some airport in a max clique - those are all major hubs"
   ]
  },
  {
   "cell_type": "code",
   "execution_count": null,
   "metadata": {},
   "outputs": [],
   "source": [
    "[g_und.vs[v]['name'] for v in g_und.cliques(min=38)[0][:10]]"
   ]
  },
  {
   "cell_type": "markdown",
   "metadata": {},
   "source": [
    "### Questions\n",
    "\n",
    "#### 1. Find the node in the undirected airport graph with degree 5 or more having the lowest transitivity.\n"
   ]
  },
  {
   "cell_type": "code",
   "execution_count": null,
   "metadata": {},
   "outputs": [],
   "source": []
  },
  {
   "cell_type": "markdown",
   "metadata": {},
   "source": [
    "#### 2. Plot its ego-net, what do you observe?\n"
   ]
  },
  {
   "cell_type": "code",
   "execution_count": null,
   "metadata": {},
   "outputs": [],
   "source": []
  },
  {
   "cell_type": "markdown",
   "metadata": {},
   "source": [
    "#### 3. Compute its betweenness, compare with average betweenness for all nodes"
   ]
  },
  {
   "cell_type": "code",
   "execution_count": null,
   "metadata": {},
   "outputs": [],
   "source": []
  },
  {
   "cell_type": "markdown",
   "metadata": {},
   "source": [
    "### Possible Solutions"
   ]
  },
  {
   "cell_type": "code",
   "execution_count": null,
   "metadata": {
    "scrolled": false
   },
   "outputs": [],
   "source": [
    "## node with low transitivity, degree at least 5\n",
    "x = np.argmin([v['trans'] for v in g_und.vs if g_und.degree(v)>=5])\n",
    "v = [v for v in g_und.vs if g_und.degree(v)>=5][x]\n",
    "print('airport:',v['name'],', transitivity',v['trans'],', plotting its ego-net:')\n",
    "sg = g_und.subgraph(g_und.neighborhood(v))\n",
    "ig.plot(sg,bbox=(400,300), vertex_label=sg.vs['name'], vertex_size=15,layout=sg.vs['layout'],\n",
    "            vertex_label_size=6, vertex_color='lightblue', margin=50)\n",
    "\n",
    "## We see that very few pairs of neighhbours are connected\n"
   ]
  },
  {
   "cell_type": "code",
   "execution_count": null,
   "metadata": {},
   "outputs": [],
   "source": [
    "## compare its betweenness with average node beteweenness\n",
    "g_und.betweenness(v) / np.mean(g_und.betweenness())\n",
    "\n",
    "## it has high betweenness ... \n",
    "## with several neighbours not linked by an edge, this node is on several geodesics!\n"
   ]
  },
  {
   "cell_type": "code",
   "execution_count": null,
   "metadata": {},
   "outputs": [],
   "source": [
    "## clean-up\n",
    "del(g_und.vs['trans'])"
   ]
  },
  {
   "cell_type": "markdown",
   "metadata": {},
   "source": [
    "## 2.2 Clustering\n",
    "\n",
    "Graph clustering, a.k.a. **node partitioning**, is a very active research area, with dozens of algorithms.\n",
    "\n",
    "Some good ones are:\n",
    "\n",
    "* Louvain (multilevel): \n",
    "    * fast, but may return disconnected communities\n",
    "    * unstable for graphs with homogeneous edge weights\n",
    "* Leiden:\n",
    "    * fast, connected communities\n",
    "* ECG (ensemble clustering):\n",
    "    * better stability for graphs with homogeneous edge weights\n",
    "\n",
    "Measures of community strength include:\n",
    "* modularity (\"proportion of edges within communities\" - \"expected proportion under null model\")\n",
    "* comparing degree within and between communities\n"
   ]
  },
  {
   "cell_type": "markdown",
   "metadata": {},
   "source": [
    "### Clusters in the airport graph"
   ]
  },
  {
   "cell_type": "code",
   "execution_count": null,
   "metadata": {},
   "outputs": [],
   "source": [
    "## Leiden algorithm is randomized - fix the seed to compare results\n",
    "random.seed(31416)\n",
    "\n",
    "## cluster and color nodes w.r.t. communities\n",
    "cl = g_und.community_leiden(objective_function='modularity', weights='weight')\n",
    "g_und.vs['cl'] = cl.membership\n",
    "pal = ig.ClusterColoringPalette(n=np.max(cl.membership)+1)\n",
    "g_und.vs['color'] = [pal.get(i) for i in cl.membership]"
   ]
  },
  {
   "cell_type": "code",
   "execution_count": null,
   "metadata": {},
   "outputs": [],
   "source": [
    "## Compute modularity (<=1); \n",
    "## large positive values are indicative of community structure\n",
    "g_und.modularity(cl.membership, weights='weight')"
   ]
  },
  {
   "cell_type": "code",
   "execution_count": null,
   "metadata": {},
   "outputs": [],
   "source": [
    "## we see 4 big clusters related to geographical locations\n",
    "ig.plot(g_und, vertex_size=5, edge_color='grey', layout=g.vs['layout'], bbox=(500,400))"
   ]
  },
  {
   "cell_type": "markdown",
   "metadata": {},
   "source": [
    "Size of each cluster found"
   ]
  },
  {
   "cell_type": "code",
   "execution_count": null,
   "metadata": {},
   "outputs": [],
   "source": [
    "cl.sizes()"
   ]
  },
  {
   "cell_type": "markdown",
   "metadata": {},
   "source": [
    "Showing one (small) cluster"
   ]
  },
  {
   "cell_type": "code",
   "execution_count": null,
   "metadata": {
    "scrolled": false
   },
   "outputs": [],
   "source": [
    "sg = cl.subgraph(6)\n",
    "ig.plot(sg, bbox=(400,300), vertex_label_size=8, vertex_label=sg.vs['name'], layout=sg.vs['layout'], )"
   ]
  },
  {
   "cell_type": "markdown",
   "metadata": {},
   "source": [
    "Collapse communities to show degree between and within communities"
   ]
  },
  {
   "cell_type": "code",
   "execution_count": null,
   "metadata": {
    "scrolled": false
   },
   "outputs": [],
   "source": [
    "g_und.es['label'] = 1\n",
    "g_und.vs['lat'] = [v['layout'][0] for v in g_und.vs]\n",
    "g_und.vs['lon'] = [v['layout'][1] for v in g_und.vs]\n",
    "G = cl.cluster_graph(combine_vertices={'lat':np.mean,'lon':np.mean, 'color':'first'}, combine_edges={'label':sum})\n",
    "G.vs['label'] = [2*G.ecount() for G in cl.subgraphs()]\n",
    "ly = [(v['lat'],v['lon']) for v in G.vs]\n",
    "ig.plot(G, layout=ly, bbox=(450,350), vertex_label_size=8, edge_label_size=8)\n"
   ]
  },
  {
   "cell_type": "code",
   "execution_count": null,
   "metadata": {},
   "outputs": [],
   "source": [
    "## clean up\n",
    "del(g_und.es['label'])\n",
    "del(g_und.vs['lat'])\n",
    "del(g_und.vs['lon'])"
   ]
  },
  {
   "cell_type": "markdown",
   "metadata": {},
   "source": [
    "### Questions\n",
    "\n",
    "#### 1. What are the most frequent states in each of the clusters we found?\n"
   ]
  },
  {
   "cell_type": "code",
   "execution_count": null,
   "metadata": {},
   "outputs": [],
   "source": []
  },
  {
   "cell_type": "markdown",
   "metadata": {},
   "source": [
    "#### 2. Compute the transitivity fo each cluster and compare with the transitivity for the who;le graph \n"
   ]
  },
  {
   "cell_type": "code",
   "execution_count": null,
   "metadata": {},
   "outputs": [],
   "source": []
  },
  {
   "cell_type": "markdown",
   "metadata": {},
   "source": [
    "### Possible Solutions"
   ]
  },
  {
   "cell_type": "code",
   "execution_count": null,
   "metadata": {},
   "outputs": [],
   "source": [
    "## Louvain - most frequent states\n",
    "for sg in cl.subgraphs():\n",
    "    print('cluster:',sg.vcount(),'nodes, frequent states:',Counter(sg.vs['state']).most_common(5))\n",
    "    \n",
    "## Transitivity    \n",
    "print('\\ntransitivity:',g_und.transitivity_undirected(mode='zero'))\n",
    "print('\\ntransitivity per community:')\n",
    "[(sg.vcount(),sg.transitivity_undirected(mode='zero')) for sg in cl.subgraphs()]\n"
   ]
  },
  {
   "cell_type": "code",
   "execution_count": null,
   "metadata": {},
   "outputs": [],
   "source": [
    "## clean-up\n",
    "del(g_und.vs['cl'])\n"
   ]
  },
  {
   "cell_type": "markdown",
   "metadata": {},
   "source": [
    "## 2.3 Random Graph Models\n",
    "\n",
    "Random graph models are useful for various reasons:\n",
    "* interpretation of results on real graphs (ex: is this value expected? high? low?)\n",
    "* to compare algorithms (ex: clustering algorithms)\n",
    "* to study theoretical properties\n",
    "\n",
    "Usually, we fix some aspects of the graph, such as the **number of nodes**, and randomly sample.\n",
    "\n",
    "There are many such models, including:\n",
    "* Erdos-Renyi model: fix the number of nodes and randomly place edges\n",
    "* Configuration model: as above, but given a degree distribution for the nodes\n",
    "* ABCD model: power-law node degree distribution with ground-truth communities\n",
    "\n",
    "Let's build an Erdos-Renyi (ER) graph with same number of nodes/edges as (undirected) airport graph"
   ]
  },
  {
   "cell_type": "code",
   "execution_count": null,
   "metadata": {},
   "outputs": [],
   "source": [
    "g_er = ig.Graph.Erdos_Renyi(n=g_und.vcount(), m=g_und.ecount())\n",
    "print('min degree',np.min(g_er.degree()),'max degree',np.max(g_er.degree()))\n"
   ]
  },
  {
   "cell_type": "markdown",
   "metadata": {},
   "source": [
    "Transitivity for the ER graph; recall we had 0.48/0.53 for the airport graph\n"
   ]
  },
  {
   "cell_type": "code",
   "execution_count": null,
   "metadata": {},
   "outputs": [],
   "source": [
    "print('trans:',g_er.transitivity_undirected())\n",
    "print('avg local trans:',g_er.transitivity_avglocal_undirected())"
   ]
  },
  {
   "cell_type": "markdown",
   "metadata": {},
   "source": [
    "Number of cliques in the ER graph and clique number\n",
    "\n",
    "All values much smaller than for the airport graph!\n"
   ]
  },
  {
   "cell_type": "code",
   "execution_count": null,
   "metadata": {},
   "outputs": [],
   "source": [
    "print('number of 3-cliques:', len(g_er.cliques(min=3, max=3)))\n",
    "print('number of 4-cliques:', len(g_er.cliques(min=4, max=4)))\n",
    "print('max clique:', g_er.clique_number())"
   ]
  },
  {
   "cell_type": "markdown",
   "metadata": {},
   "source": [
    "Modularity for Leiden communities; recall we had 0.23 for the airport graph"
   ]
  },
  {
   "cell_type": "code",
   "execution_count": null,
   "metadata": {},
   "outputs": [],
   "source": [
    "er_cl = g_er.community_leiden(objective_function='modularity')\n",
    "g_er.modularity(er_cl.membership)\n"
   ]
  },
  {
   "cell_type": "markdown",
   "metadata": {},
   "source": [
    "# To go further\n",
    "\n",
    "More topics can be found in:\n",
    "* book: https://www.ryerson.ca/mining-complex-networks\n",
    "* notebooks: https://github.com/ftheberge/GraphMiningNotebooks\n",
    "    \n",
    "including:   \n",
    "* more centrality measures\n",
    "* clustering: overlapping clusters, outliers    \n",
    "* degree assortativity\n",
    "* vertex and graph embedding\n",
    "* hypergraphs\n",
    "* network robustness\n",
    "* road networks\n"
   ]
  }
 ],
 "metadata": {
  "kernelspec": {
   "display_name": "Python [conda env:MiningComplexNetworks_2022] *",
   "language": "python",
   "name": "conda-env-MiningComplexNetworks_2022-py"
  },
  "language_info": {
   "codemirror_mode": {
    "name": "ipython",
    "version": 3
   },
   "file_extension": ".py",
   "mimetype": "text/x-python",
   "name": "python",
   "nbconvert_exporter": "python",
   "pygments_lexer": "ipython3",
   "version": "3.7.9"
  }
 },
 "nbformat": 4,
 "nbformat_minor": 4
}
