{
 "cells": [
  {
   "cell_type": "markdown",
   "metadata": {},
   "source": [
    "# Proposed format\n",
    "\n",
    "References:\n",
    "* book: https://www.ryerson.ca/mining-complex-networks\n",
    "* notebooks: https://github.com/ftheberge/GraphMiningNotebooks\n",
    "    \n",
    "**Part 1: EDA**\n",
    "\n",
    "- 1.1 Relational data as graphs\n",
    "    - basic igraph commands, main dataset, types of graphs\n",
    "- 1.2 Exploratory data analysis (EDA)\n",
    "    - degree, paths, connected components\n",
    "- 1.3 Node importance: \n",
    "    - coreness, centrality, betweenness\n",
    "\n",
    "**Part 2: Clustering**\n",
    "\n",
    "- 2.1 Random graph models and benchmarks (ex: Erdos-Renyi, ABCD)\n",
    "- 2.2 Transitivity\n",
    "    - triangles and other motifs, local and global clustering coefficients, cliques\n",
    "- 2.3 Clustering: modularity, Louvain, Leiden, ECG and properties; other methods\n",
    "    - illustrations on various graphs; measures of cluster quality; ego-nets vs clusters\n",
    "- 2.4 Extra module: Anomaly detection\n",
    "    - illustration with football dataset\n",
    "\n",
    "Some **igraph** references:\n",
    "* https://igraph.readthedocs.io/en/0.10.2/\n",
    "* https://towardsdatascience.com/newbies-guide-to-python-igraph-4e51689c35b4\n"
   ]
  },
  {
   "cell_type": "markdown",
   "metadata": {},
   "source": [
    "## Required packages\n",
    "\n",
    "* Minimal conda environment\n",
    "\n",
    "```\n",
    "conda create --name shortcourse python=3.7.9 numpy pandas jupyter matplotlib pycairo scikit-learn\n",
    "source activate shortcourse\n",
    "pip install igraph\n",
    "pip install partition-igraph\n",
    "\n",
    "python -m ipykernel install --user --name=shortcourse ## add to Jupyter\n",
    "\n",
    "```\n",
    "\n",
    "* Caveat: igraph is NOT the best tool for graph visualization, there are more specialized tool for this such as Graphviz, Bokeh, etc. However, igraph is a very powerful tool for graph analysis, is scalable (C background) and has R, Python and now Mathematica interfaces. We will use viz mainly to illustrate some concepts."
   ]
  },
  {
   "cell_type": "code",
   "execution_count": 1,
   "metadata": {},
   "outputs": [],
   "source": [
    "## path to the datasets\n",
    "datadir='./Datasets/'\n",
    "\n",
    "## required packages\n",
    "import numpy as np\n",
    "import pandas as pd\n",
    "import matplotlib.pyplot as plt\n",
    "import igraph as ig\n",
    "import partition_igraph\n",
    "from collections import Counter\n",
    "from sklearn.metrics import adjusted_rand_score as ARI\n",
    "from sklearn.metrics import adjusted_mutual_info_score as AMI\n"
   ]
  },
  {
   "cell_type": "markdown",
   "metadata": {},
   "source": [
    "# Part 1 - Basic Concepts and Exploratory Data Analysis (EDA)\n"
   ]
  },
  {
   "cell_type": "markdown",
   "metadata": {},
   "source": [
    "## 1.1 Relational data as graphs\n",
    "\n",
    "We will use the open source US airport graph as our main dataset:\n",
    "\n",
    "* 2008 air traffic in the USA\n",
    "* 464 nodes representing airports\n",
    "* 12,000 edges representing travel from airport A to airport B, weighted by number of passengers \n",
    "* Some extra node attributes (city, state, lat/lon)\n",
    "* Open access data\n",
    "\n",
    "Some initial questions to ask when looking at (pairwise) relational data:\n",
    "* is there a sense of **direction** to the relationship? (directed vs undirected graphs)\n",
    "    * ex: direction of travel from airport A to B, I follow you vs. we are friends\n",
    "\n",
    "* are some ties **stronger** than others? This is usually modelled in one of two ways:\n",
    "  * **weights**: higher weights can mean stronger ties (ex: number of passengers; number of common friends);\n",
    "  * **distance**: smaller distance can mean stronger ties (ex: distance between airports; commute time between cities; resistance in an electric circuit)\n",
    "\n",
    "* can there be a relationship with oneself? This is modelled by edges from a node back to **itself**. (loops vs simple graphs)\n",
    "  * ex: XXX add one\n",
    "\n",
    "* are there other **attributes**? This can either be of the nodes or the edges.\n",
    "  * ex: city, state as a node attributes"
   ]
  },
  {
   "cell_type": "code",
   "execution_count": 2,
   "metadata": {},
   "outputs": [
    {
     "data": {
      "text/html": [
       "<div>\n",
       "<style scoped>\n",
       "    .dataframe tbody tr th:only-of-type {\n",
       "        vertical-align: middle;\n",
       "    }\n",
       "\n",
       "    .dataframe tbody tr th {\n",
       "        vertical-align: top;\n",
       "    }\n",
       "\n",
       "    .dataframe thead th {\n",
       "        text-align: right;\n",
       "    }\n",
       "</style>\n",
       "<table border=\"1\" class=\"dataframe\">\n",
       "  <thead>\n",
       "    <tr style=\"text-align: right;\">\n",
       "      <th></th>\n",
       "      <th>orig_airport</th>\n",
       "      <th>dest_airport</th>\n",
       "      <th>total_passengers</th>\n",
       "    </tr>\n",
       "  </thead>\n",
       "  <tbody>\n",
       "    <tr>\n",
       "      <th>0</th>\n",
       "      <td>SFO</td>\n",
       "      <td>LAX</td>\n",
       "      <td>1442105</td>\n",
       "    </tr>\n",
       "    <tr>\n",
       "      <th>1</th>\n",
       "      <td>LAX</td>\n",
       "      <td>SFO</td>\n",
       "      <td>1438639</td>\n",
       "    </tr>\n",
       "    <tr>\n",
       "      <th>2</th>\n",
       "      <td>MCO</td>\n",
       "      <td>ATL</td>\n",
       "      <td>1436625</td>\n",
       "    </tr>\n",
       "    <tr>\n",
       "      <th>3</th>\n",
       "      <td>ATL</td>\n",
       "      <td>MCO</td>\n",
       "      <td>1424069</td>\n",
       "    </tr>\n",
       "    <tr>\n",
       "      <th>4</th>\n",
       "      <td>LAX</td>\n",
       "      <td>JFK</td>\n",
       "      <td>1277731</td>\n",
       "    </tr>\n",
       "  </tbody>\n",
       "</table>\n",
       "</div>"
      ],
      "text/plain": [
       "  orig_airport dest_airport  total_passengers\n",
       "0          SFO          LAX           1442105\n",
       "1          LAX          SFO           1438639\n",
       "2          MCO          ATL           1436625\n",
       "3          ATL          MCO           1424069\n",
       "4          LAX          JFK           1277731"
      ]
     },
     "execution_count": 2,
     "metadata": {},
     "output_type": "execute_result"
    }
   ],
   "source": [
    "## read edges from csv file\n",
    "D = pd.read_csv(datadir + 'Airports/connections.csv')\n",
    "D.head() ## look at a few edges"
   ]
  },
  {
   "cell_type": "markdown",
   "metadata": {},
   "source": [
    "### Build a weighted directed graph from the edges\n",
    "\n",
    "One way to create a (directed) graph in igraph is by handing it a list of edges in tuples of the form `(source, target, weight)`. We'll convert the above dataframe to a list of tuples and create a directed, weighted graph from it. "
   ]
  },
  {
   "cell_type": "code",
   "execution_count": 3,
   "metadata": {},
   "outputs": [],
   "source": [
    "tuple_list = [tuple(x) for x in D.values]\n",
    "g = ig.Graph.TupleList(tuple_list, directed=True, edge_attrs=['weight'])"
   ]
  },
  {
   "cell_type": "markdown",
   "metadata": {},
   "source": [
    "### Graph Objects in igraph\n",
    "\n",
    "A graph in igraph consists of:\n",
    "* a **vertex** sequence object, with 0-based indices\n",
    "* an **edge** sequence object, each connecting a 2-ple of vertices\n",
    "\n",
    "Note: nodes and vertices mean the same thing. igraph uses the language of vertices and we will use node and vertex interchangeably.\n",
    "\n",
    "**WARNING**: node names, if stored, can also be integers and may not correspond to node indices.\n"
   ]
  },
  {
   "cell_type": "markdown",
   "metadata": {},
   "source": [
    "### Vertices"
   ]
  },
  {
   "cell_type": "code",
   "execution_count": 4,
   "metadata": {},
   "outputs": [
    {
     "data": {
      "text/plain": [
       "igraph.Vertex(<igraph.Graph object at 0x7ffc2c62b490>, 0, {'name': 'SFO'})"
      ]
     },
     "execution_count": 4,
     "metadata": {},
     "output_type": "execute_result"
    }
   ],
   "source": [
    "## get a vertex by index (NOT the same thing as accessing the vertex by the name)\n",
    "g.vs[0]"
   ]
  },
  {
   "cell_type": "code",
   "execution_count": 5,
   "metadata": {},
   "outputs": [
    {
     "data": {
      "text/plain": [
       "igraph.Vertex(<igraph.Graph object at 0x7ffc2c62b490>, 1, {'name': 'LAX'})"
      ]
     },
     "execution_count": 5,
     "metadata": {},
     "output_type": "execute_result"
    }
   ],
   "source": [
    "## find a vertex given its name (be careful if names are also integers!)\n",
    "g.vs.find('LAX')"
   ]
  },
  {
   "cell_type": "code",
   "execution_count": 6,
   "metadata": {},
   "outputs": [
    {
     "data": {
      "text/plain": [
       "1"
      ]
     },
     "execution_count": 6,
     "metadata": {},
     "output_type": "execute_result"
    }
   ],
   "source": [
    "## find a vertex index given its name\n",
    "g.vs.find('LAX').index"
   ]
  },
  {
   "cell_type": "code",
   "execution_count": 7,
   "metadata": {},
   "outputs": [
    {
     "data": {
      "text/plain": [
       "[igraph.Vertex(<igraph.Graph object at 0x7ffc2c62b490>, 0, {'name': 'SFO'}),\n",
       " igraph.Vertex(<igraph.Graph object at 0x7ffc2c62b490>, 1, {'name': 'LAX'}),\n",
       " igraph.Vertex(<igraph.Graph object at 0x7ffc2c62b490>, 2, {'name': 'MCO'}),\n",
       " igraph.Vertex(<igraph.Graph object at 0x7ffc2c62b490>, 3, {'name': 'ATL'}),\n",
       " igraph.Vertex(<igraph.Graph object at 0x7ffc2c62b490>, 4, {'name': 'JFK'})]"
      ]
     },
     "execution_count": 7,
     "metadata": {},
     "output_type": "execute_result"
    }
   ],
   "source": [
    "## listing vertices (showing top 5)\n",
    "[v for v in g.vs][:5]"
   ]
  },
  {
   "cell_type": "markdown",
   "metadata": {},
   "source": [
    "Any vertex attribute may be added. In this case, the vertex set is used as a dictionary where the keys are the\n",
    "attribute names. The values corresponding to the keys are the values of the given attribute for every vertex selected by the sequence. "
   ]
  },
  {
   "cell_type": "code",
   "execution_count": 8,
   "metadata": {},
   "outputs": [
    {
     "data": {
      "text/plain": [
       "[igraph.Vertex(<igraph.Graph object at 0x7ffc2c62b490>, 0, {'name': 'SFO', 'color': ['fuscia']}),\n",
       " igraph.Vertex(<igraph.Graph object at 0x7ffc2c62b490>, 1, {'name': 'LAX', 'color': None}),\n",
       " igraph.Vertex(<igraph.Graph object at 0x7ffc2c62b490>, 2, {'name': 'MCO', 'color': None}),\n",
       " igraph.Vertex(<igraph.Graph object at 0x7ffc2c62b490>, 3, {'name': 'ATL', 'color': None}),\n",
       " igraph.Vertex(<igraph.Graph object at 0x7ffc2c62b490>, 4, {'name': 'JFK', 'color': None})]"
      ]
     },
     "execution_count": 8,
     "metadata": {},
     "output_type": "execute_result"
    }
   ],
   "source": [
    "g.vs[0]['color'] = ['fuscia']\n",
    "[v for v in g.vs][:5]"
   ]
  },
  {
   "cell_type": "markdown",
   "metadata": {},
   "source": [
    "If you specify a sequence that is shorter than the number of vertices in\n",
    "vertex sequence, the sequence is reused:"
   ]
  },
  {
   "cell_type": "code",
   "execution_count": 27,
   "metadata": {},
   "outputs": [
    {
     "data": {
      "text/plain": [
       "[igraph.Vertex(<igraph.Graph object at 0x7ffc2c62b490>, 0, {'name': 'SFO', 'color': 'lightblue'}),\n",
       " igraph.Vertex(<igraph.Graph object at 0x7ffc2c62b490>, 1, {'name': 'LAX', 'color': 'pink'}),\n",
       " igraph.Vertex(<igraph.Graph object at 0x7ffc2c62b490>, 2, {'name': 'MCO', 'color': 'purple'}),\n",
       " igraph.Vertex(<igraph.Graph object at 0x7ffc2c62b490>, 3, {'name': 'ATL', 'color': 'lightblue'}),\n",
       " igraph.Vertex(<igraph.Graph object at 0x7ffc2c62b490>, 4, {'name': 'JFK', 'color': 'pink'})]"
      ]
     },
     "execution_count": 27,
     "metadata": {},
     "output_type": "execute_result"
    }
   ],
   "source": [
    "g.vs['color'] = ['lightblue', 'pink', 'purple']\n",
    "[v for v in g.vs][:5]"
   ]
  },
  {
   "cell_type": "markdown",
   "metadata": {},
   "source": [
    "Number of vertices"
   ]
  },
  {
   "cell_type": "code",
   "execution_count": 10,
   "metadata": {},
   "outputs": [
    {
     "data": {
      "text/plain": [
       "(464, True)"
      ]
     },
     "execution_count": 10,
     "metadata": {},
     "output_type": "execute_result"
    }
   ],
   "source": [
    "g.vcount(), g.vcount() == len(g.vs)"
   ]
  },
  {
   "cell_type": "markdown",
   "metadata": {},
   "source": [
    "### Edges"
   ]
  },
  {
   "cell_type": "code",
   "execution_count": 11,
   "metadata": {},
   "outputs": [
    {
     "data": {
      "text/plain": [
       "igraph.Edge(<igraph.Graph object at 0x7ffc2c62b490>, 0, {'weight': 1442105})"
      ]
     },
     "execution_count": 11,
     "metadata": {},
     "output_type": "execute_result"
    }
   ],
   "source": [
    "## get an edge by index in the edge sequence\n",
    "g.es[0]"
   ]
  },
  {
   "cell_type": "code",
   "execution_count": 12,
   "metadata": {},
   "outputs": [
    {
     "data": {
      "text/plain": [
       "(0, 1)"
      ]
     },
     "execution_count": 12,
     "metadata": {},
     "output_type": "execute_result"
    }
   ],
   "source": [
    "## edges have a 2-ple of vertices of an edge representing `(source, target)` nodes\n",
    "g.es[0].tuple"
   ]
  },
  {
   "cell_type": "code",
   "execution_count": 13,
   "metadata": {},
   "outputs": [
    {
     "data": {
      "text/plain": [
       "(0, 1)"
      ]
     },
     "execution_count": 13,
     "metadata": {},
     "output_type": "execute_result"
    }
   ],
   "source": [
    "g.es[0].source, g.es[0].target"
   ]
  },
  {
   "cell_type": "markdown",
   "metadata": {},
   "source": [
    "The edge source and target vertices refer to the index of the source an target in the vertex sequence. Let's look up the details of the edge. "
   ]
  },
  {
   "cell_type": "code",
   "execution_count": 14,
   "metadata": {},
   "outputs": [
    {
     "name": "stdout",
     "output_type": "stream",
     "text": [
      "SFO ---> LAX has weight 1442105\n"
     ]
    }
   ],
   "source": [
    "e_idx = 0\n",
    "\n",
    "source_idx = g.es[e_idx].tuple[0]\n",
    "target_idx = g.es[e_idx].tuple[1]\n",
    "\n",
    "source_name = g.vs[source_idx]['name']\n",
    "target_name = g.vs[target_idx]['name']\n",
    "edge_weight = g.es[e_idx]['weight']\n",
    "\n",
    "print(source_name, '--->' ,target_name,'has weight',edge_weight)"
   ]
  },
  {
   "cell_type": "code",
   "execution_count": 15,
   "metadata": {},
   "outputs": [],
   "source": [
    "# package this in a function\n",
    "def print_edge_details(e_idx):\n",
    "    print(g.vs[g.es[e_idx].tuple[0]]['name'],'--->',g.vs[g.es[e_idx].tuple[1]]['name'],'has weight',g.es[e_idx]['weight'])"
   ]
  },
  {
   "cell_type": "code",
   "execution_count": 16,
   "metadata": {},
   "outputs": [
    {
     "data": {
      "text/plain": [
       "1"
      ]
     },
     "execution_count": 16,
     "metadata": {},
     "output_type": "execute_result"
    }
   ],
   "source": [
    "## is there an edge in the other direction? Look up an edge by vertex ids.\n",
    "rev_e_idx = g.get_eid(target_idx, source_idx)\n",
    "rev_e_idx"
   ]
  },
  {
   "cell_type": "code",
   "execution_count": 17,
   "metadata": {},
   "outputs": [
    {
     "name": "stdout",
     "output_type": "stream",
     "text": [
      "LAX ---> SFO has weight 1438639\n"
     ]
    }
   ],
   "source": [
    "print_edge_details(rev_e_idx)"
   ]
  },
  {
   "cell_type": "markdown",
   "metadata": {},
   "source": [
    "Number of edges"
   ]
  },
  {
   "cell_type": "code",
   "execution_count": 18,
   "metadata": {},
   "outputs": [
    {
     "data": {
      "text/plain": [
       "(12000, True)"
      ]
     },
     "execution_count": 18,
     "metadata": {},
     "output_type": "execute_result"
    }
   ],
   "source": [
    "g.ecount(), g.ecount() == len(g.es)"
   ]
  },
  {
   "cell_type": "markdown",
   "metadata": {},
   "source": [
    "It's easy to check if there is a way to get from one airport to another. This is like asking if the nodes are **connected**, that is, is there a path of edges between them. "
   ]
  },
  {
   "cell_type": "code",
   "execution_count": 19,
   "metadata": {},
   "outputs": [
    {
     "data": {
      "text/plain": [
       "True"
      ]
     },
     "execution_count": 19,
     "metadata": {},
     "output_type": "execute_result"
    }
   ],
   "source": [
    "## sanity check if SFO and LAX are connected. We know this to be true already.\n",
    "g.are_connected(0,1)"
   ]
  },
  {
   "cell_type": "code",
   "execution_count": 20,
   "metadata": {},
   "outputs": [
    {
     "data": {
      "text/plain": [
       "100"
      ]
     },
     "execution_count": 20,
     "metadata": {},
     "output_type": "execute_result"
    }
   ],
   "source": [
    "# We'll see later that we can't get from BMI to SFO. \n",
    "g.vs.find('BMI').index"
   ]
  },
  {
   "cell_type": "code",
   "execution_count": 21,
   "metadata": {},
   "outputs": [
    {
     "data": {
      "text/plain": [
       "False"
      ]
     },
     "execution_count": 21,
     "metadata": {},
     "output_type": "execute_result"
    }
   ],
   "source": [
    "g.are_connected(0, 100)"
   ]
  },
  {
   "cell_type": "markdown",
   "metadata": {},
   "source": [
    "What if we want to find all routes orignating from SFO? We can do this by asking which edges are **incident**."
   ]
  },
  {
   "cell_type": "code",
   "execution_count": 22,
   "metadata": {},
   "outputs": [
    {
     "data": {
      "text/plain": [
       "102"
      ]
     },
     "execution_count": 22,
     "metadata": {},
     "output_type": "execute_result"
    }
   ],
   "source": [
    "## list of all edges a given vertex is incident on\n",
    "len(g.incident(0, mode='out'))"
   ]
  },
  {
   "cell_type": "markdown",
   "metadata": {},
   "source": [
    "There are a lot. Let's see what a few of them are. "
   ]
  },
  {
   "cell_type": "code",
   "execution_count": 23,
   "metadata": {},
   "outputs": [
    {
     "name": "stdout",
     "output_type": "stream",
     "text": [
      "SFO ---> SFO has weight 272\n",
      "SFO ---> LAX has weight 1442105\n",
      "SFO ---> MCO has weight 56437\n",
      "SFO ---> ATL has weight 543811\n",
      "SFO ---> JFK has weight 1000733\n"
     ]
    }
   ],
   "source": [
    "n = 5\n",
    "for e_idx in  g.incident(0, mode='out')[:n]:\n",
    "    print_edge_details(e_idx)"
   ]
  },
  {
   "cell_type": "markdown",
   "metadata": {},
   "source": [
    "### Subgraphs and different types of graphs\n",
    "To make our next analysis easier, we'll work off of a small subgraph."
   ]
  },
  {
   "cell_type": "code",
   "execution_count": 24,
   "metadata": {},
   "outputs": [
    {
     "data": {
      "text/plain": [
       "[1, 0, 38]"
      ]
     },
     "execution_count": 24,
     "metadata": {},
     "output_type": "execute_result"
    }
   ],
   "source": [
    "subgraph_nodes = [g.vs.find(name='LAX').index,\n",
    "                  g.vs.find(name='SFO').index,\n",
    "                  g.vs.find(name='OAK').index]\n",
    "subgraph_nodes"
   ]
  },
  {
   "cell_type": "code",
   "execution_count": 25,
   "metadata": {},
   "outputs": [],
   "source": [
    "# induced subgraph from the list of nodes\n",
    "sg = g.subgraph(subgraph_nodes)"
   ]
  },
  {
   "cell_type": "code",
   "execution_count": 28,
   "metadata": {},
   "outputs": [
    {
     "data": {
      "image/svg+xml": [
       "<?xml version=\"1.0\" encoding=\"UTF-8\"?>\n",
       "<svg xmlns=\"http://www.w3.org/2000/svg\" xmlns:xlink=\"http://www.w3.org/1999/xlink\" width=\"250pt\" height=\"250pt\" viewBox=\"0 0 250 250\" version=\"1.1\">\n",
       "<defs>\n",
       "<g>\n",
       "<symbol overflow=\"visible\" id=\"glyph0-0\">\n",
       "<path style=\"stroke:none;\" d=\"M 0.257812 0 L 0.257812 -5.738281 L 4.8125 -5.738281 L 4.8125 0 Z M 4.09375 -0.71875 L 4.09375 -5.019531 L 0.976562 -5.019531 L 0.976562 -0.71875 Z M 4.09375 -0.71875 \"/>\n",
       "</symbol>\n",
       "<symbol overflow=\"visible\" id=\"glyph0-1\">\n",
       "<path style=\"stroke:none;\" d=\"M 1.117188 -1.851562 C 1.136719 -1.527344 1.210938 -1.261719 1.347656 -1.058594 C 1.605469 -0.679688 2.058594 -0.488281 2.710938 -0.488281 C 3.003906 -0.488281 3.269531 -0.53125 3.507812 -0.613281 C 3.972656 -0.773438 4.203125 -1.0625 4.203125 -1.480469 C 4.203125 -1.792969 4.105469 -2.015625 3.910156 -2.148438 C 3.710938 -2.277344 3.402344 -2.390625 2.980469 -2.488281 L 2.203125 -2.664062 C 1.695312 -2.777344 1.335938 -2.90625 1.125 -3.042969 C 0.761719 -3.28125 0.578125 -3.640625 0.578125 -4.117188 C 0.578125 -4.632812 0.757812 -5.054688 1.113281 -5.386719 C 1.46875 -5.71875 1.976562 -5.882812 2.628906 -5.882812 C 3.230469 -5.882812 3.742188 -5.738281 4.164062 -5.445312 C 4.582031 -5.15625 4.792969 -4.691406 4.792969 -4.054688 L 4.0625 -4.054688 C 4.023438 -4.363281 3.941406 -4.597656 3.8125 -4.761719 C 3.574219 -5.0625 3.171875 -5.210938 2.605469 -5.210938 C 2.148438 -5.210938 1.816406 -5.113281 1.617188 -4.921875 C 1.417969 -4.730469 1.316406 -4.503906 1.316406 -4.25 C 1.316406 -3.96875 1.433594 -3.761719 1.667969 -3.632812 C 1.820312 -3.550781 2.167969 -3.445312 2.710938 -3.320312 L 3.515625 -3.136719 C 3.902344 -3.046875 4.203125 -2.925781 4.414062 -2.773438 C 4.777344 -2.503906 4.960938 -2.117188 4.960938 -1.605469 C 4.960938 -0.96875 4.730469 -0.515625 4.265625 -0.242188 C 3.804688 0.03125 3.269531 0.167969 2.65625 0.167969 C 1.941406 0.167969 1.382812 -0.015625 0.980469 -0.378906 C 0.578125 -0.742188 0.378906 -1.230469 0.386719 -1.851562 Z M 1.117188 -1.851562 \"/>\n",
       "</symbol>\n",
       "<symbol overflow=\"visible\" id=\"glyph0-2\">\n",
       "<path style=\"stroke:none;\" d=\"M 0.683594 -5.738281 L 4.664062 -5.738281 L 4.664062 -5.035156 L 1.460938 -5.035156 L 1.460938 -3.292969 L 4.277344 -3.292969 L 4.277344 -2.609375 L 1.460938 -2.609375 L 1.460938 0 L 0.683594 0 Z M 0.683594 -5.738281 \"/>\n",
       "</symbol>\n",
       "<symbol overflow=\"visible\" id=\"glyph0-3\">\n",
       "<path style=\"stroke:none;\" d=\"M 3.085938 -5.894531 C 4.097656 -5.894531 4.847656 -5.570312 5.335938 -4.917969 C 5.714844 -4.410156 5.90625 -3.761719 5.90625 -2.96875 C 5.90625 -2.113281 5.6875 -1.398438 5.253906 -0.832031 C 4.742188 -0.164062 4.015625 0.167969 3.070312 0.167969 C 2.1875 0.167969 1.492188 -0.125 0.988281 -0.707031 C 0.539062 -1.269531 0.3125 -1.980469 0.3125 -2.839844 C 0.3125 -3.617188 0.503906 -4.28125 0.890625 -4.832031 C 1.386719 -5.539062 2.117188 -5.894531 3.085938 -5.894531 Z M 3.164062 -0.527344 C 3.847656 -0.527344 4.34375 -0.773438 4.648438 -1.265625 C 4.957031 -1.753906 5.109375 -2.320312 5.109375 -2.957031 C 5.109375 -3.632812 4.933594 -4.175781 4.578125 -4.585938 C 4.226562 -4.996094 3.746094 -5.203125 3.132812 -5.203125 C 2.539062 -5.203125 2.054688 -5 1.679688 -4.59375 C 1.304688 -4.183594 1.117188 -3.582031 1.117188 -2.789062 C 1.117188 -2.152344 1.277344 -1.617188 1.601562 -1.179688 C 1.921875 -0.746094 2.441406 -0.527344 3.164062 -0.527344 Z M 3.164062 -0.527344 \"/>\n",
       "</symbol>\n",
       "<symbol overflow=\"visible\" id=\"glyph0-4\">\n",
       "<path style=\"stroke:none;\" d=\"M 0.609375 -5.738281 L 1.386719 -5.738281 L 1.386719 -0.683594 L 4.292969 -0.683594 L 4.292969 0 L 0.609375 0 Z M 0.609375 -5.738281 \"/>\n",
       "</symbol>\n",
       "<symbol overflow=\"visible\" id=\"glyph0-5\">\n",
       "<path style=\"stroke:none;\" d=\"M 3.554688 -2.351562 L 2.683594 -4.886719 L 1.757812 -2.351562 Z M 2.277344 -5.738281 L 3.15625 -5.738281 L 5.238281 0 L 4.386719 0 L 3.804688 -1.71875 L 1.535156 -1.71875 L 0.914062 0 L 0.117188 0 Z M 2.277344 -5.738281 \"/>\n",
       "</symbol>\n",
       "<symbol overflow=\"visible\" id=\"glyph0-6\">\n",
       "<path style=\"stroke:none;\" d=\"M 1.101562 0 L 0.164062 0 L 2.21875 -2.941406 L 0.292969 -5.738281 L 1.265625 -5.738281 L 2.730469 -3.542969 L 4.183594 -5.738281 L 5.109375 -5.738281 L 3.183594 -2.941406 L 5.203125 0 L 4.238281 0 L 2.691406 -2.359375 Z M 1.101562 0 \"/>\n",
       "</symbol>\n",
       "<symbol overflow=\"visible\" id=\"glyph0-7\">\n",
       "<path style=\"stroke:none;\" d=\"M 0.609375 -5.738281 L 1.367188 -5.738281 L 1.367188 -2.941406 L 4.164062 -5.738281 L 5.238281 -5.738281 L 2.851562 -3.425781 L 5.304688 0 L 4.292969 0 L 2.285156 -2.878906 L 1.367188 -2 L 1.367188 0 L 0.609375 0 Z M 0.609375 -5.738281 \"/>\n",
       "</symbol>\n",
       "</g>\n",
       "</defs>\n",
       "<g id=\"surface8\">\n",
       "<rect x=\"0\" y=\"0\" width=\"250\" height=\"250\" style=\"fill:rgb(100%,100%,100%);fill-opacity:1;stroke:none;\"/>\n",
       "<path style=\"fill:none;stroke-width:1;stroke-linecap:butt;stroke-linejoin:miter;stroke:rgb(26.666667%,26.666667%,26.666667%);stroke-opacity:1;stroke-miterlimit:10;\" d=\"M 225.605469 39.394531 C 225.605469 47.675781 218.890625 54.394531 210.605469 54.394531 C 202.324219 54.394531 195.605469 47.675781 195.605469 39.394531 C 195.605469 31.109375 202.324219 24.394531 210.605469 24.394531 C 218.890625 24.394531 225.605469 31.109375 225.605469 39.394531 \"/>\n",
       "<path style=\"fill:none;stroke-width:1;stroke-linecap:butt;stroke-linejoin:miter;stroke:rgb(26.666667%,26.666667%,26.666667%);stroke-opacity:1;stroke-miterlimit:10;\" d=\"M 200 50 C 139.945312 73.058594 84.863281 138.109375 117.894531 180.75 \"/>\n",
       "<path style=\" stroke:none;fill-rule:nonzero;fill:rgb(26.666667%,26.666667%,26.666667%);fill-opacity:1;\" d=\"M 126.632812 192.027344 L 114.230469 183.585938 L 121.5625 177.910156 L 126.632812 192.027344 \"/>\n",
       "<path style=\"fill:none;stroke-width:1;stroke-linecap:butt;stroke-linejoin:miter;stroke:rgb(26.666667%,26.666667%,26.666667%);stroke-opacity:1;stroke-miterlimit:10;\" d=\"M 200 50 C 157.570312 15.445312 111.050781 10.285156 68.777344 44.753906 \"/>\n",
       "<path style=\" stroke:none;fill-rule:nonzero;fill:rgb(26.666667%,26.666667%,26.666667%);fill-opacity:1;\" d=\"M 57.722656 53.769531 L 65.847656 41.160156 L 71.707031 48.34375 L 57.722656 53.769531 \"/>\n",
       "<path style=\"fill:none;stroke-width:1;stroke-linecap:butt;stroke-linejoin:miter;stroke:rgb(26.666667%,26.666667%,26.666667%);stroke-opacity:1;stroke-miterlimit:10;\" d=\"M 132.808594 200 C 188.355469 175.914062 216.664062 132.96875 204.773438 73.769531 \"/>\n",
       "<path style=\" stroke:none;fill-rule:nonzero;fill:rgb(26.666667%,26.666667%,26.666667%);fill-opacity:1;\" d=\"M 201.964844 59.78125 L 209.320312 72.855469 L 200.230469 74.683594 L 201.964844 59.78125 \"/>\n",
       "<path style=\"fill:none;stroke-width:1;stroke-linecap:butt;stroke-linejoin:miter;stroke:rgb(26.666667%,26.666667%,26.666667%);stroke-opacity:1;stroke-miterlimit:10;\" d=\"M 158.417969 189.394531 C 158.417969 197.675781 151.699219 204.394531 143.417969 204.394531 C 135.132812 204.394531 128.417969 197.675781 128.417969 189.394531 C 128.417969 181.109375 135.132812 174.394531 143.417969 174.394531 C 151.699219 174.394531 158.417969 181.109375 158.417969 189.394531 \"/>\n",
       "<path style=\"fill:none;stroke-width:1;stroke-linecap:butt;stroke-linejoin:miter;stroke:rgb(26.666667%,26.666667%,26.666667%);stroke-opacity:1;stroke-miterlimit:10;\" d=\"M 132.808594 200 C 147.535156 139.5 130.605469 68.730469 73.964844 62.640625 \"/>\n",
       "<path style=\" stroke:none;fill-rule:nonzero;fill:rgb(26.666667%,26.666667%,26.666667%);fill-opacity:1;\" d=\"M 59.78125 61.113281 L 74.460938 58.03125 L 73.46875 67.25 L 59.78125 61.113281 \"/>\n",
       "<path style=\"fill:none;stroke-width:1;stroke-linecap:butt;stroke-linejoin:miter;stroke:rgb(26.666667%,26.666667%,26.666667%);stroke-opacity:1;stroke-miterlimit:10;\" d=\"M 50 60.0625 C 92.523438 92.46875 131.316406 84.996094 178.308594 61.050781 \"/>\n",
       "<path style=\" stroke:none;fill-rule:nonzero;fill:rgb(26.666667%,26.666667%,26.666667%);fill-opacity:1;\" d=\"M 191.019531 54.574219 L 180.414062 65.179688 L 176.207031 56.921875 L 191.019531 54.574219 \"/>\n",
       "<path style=\"fill:none;stroke-width:1;stroke-linecap:butt;stroke-linejoin:miter;stroke:rgb(26.666667%,26.666667%,26.666667%);stroke-opacity:1;stroke-miterlimit:10;\" d=\"M 50 60.0625 C 36.164062 119.875 52.175781 182.050781 109.5625 194.824219 \"/>\n",
       "<path style=\" stroke:none;fill-rule:nonzero;fill:rgb(26.666667%,26.666667%,26.666667%);fill-opacity:1;\" d=\"M 123.488281 197.925781 L 108.554688 199.347656 L 110.570312 190.300781 L 123.488281 197.925781 \"/>\n",
       "<path style=\"fill-rule:nonzero;fill:rgb(67.843137%,84.705882%,90.196078%);fill-opacity:1;stroke-width:1;stroke-linecap:butt;stroke-linejoin:miter;stroke:rgb(0%,0%,0%);stroke-opacity:1;stroke-miterlimit:10;\" d=\"M 210 50 C 210 55.523438 205.523438 60 200 60 C 194.476562 60 190 55.523438 190 50 C 190 44.476562 194.476562 40 200 40 C 205.523438 40 210 44.476562 210 50 \"/>\n",
       "<path style=\"fill-rule:nonzero;fill:rgb(100%,75.294118%,79.607843%);fill-opacity:1;stroke-width:1;stroke-linecap:butt;stroke-linejoin:miter;stroke:rgb(0%,0%,0%);stroke-opacity:1;stroke-miterlimit:10;\" d=\"M 142.808594 200 C 142.808594 205.523438 138.332031 210 132.808594 210 C 127.285156 210 122.808594 205.523438 122.808594 200 C 122.808594 194.476562 127.285156 190 132.808594 190 C 138.332031 190 142.808594 194.476562 142.808594 200 \"/>\n",
       "<path style=\"fill-rule:nonzero;fill:rgb(67.843137%,84.705882%,90.196078%);fill-opacity:1;stroke-width:1;stroke-linecap:butt;stroke-linejoin:miter;stroke:rgb(0%,0%,0%);stroke-opacity:1;stroke-miterlimit:10;\" d=\"M 60 60.0625 C 60 65.585938 55.523438 70.0625 50 70.0625 C 44.476562 70.0625 40 65.585938 40 60.0625 C 40 54.539062 44.476562 50.0625 50 50.0625 C 55.523438 50.0625 60 54.539062 60 60.0625 \"/>\n",
       "<g style=\"fill:rgb(0%,0%,0%);fill-opacity:1;\">\n",
       "  <use xlink:href=\"#glyph0-1\" x=\"191.75\" y=\"53.867188\"/>\n",
       "  <use xlink:href=\"#glyph0-2\" x=\"197.085938\" y=\"53.867188\"/>\n",
       "  <use xlink:href=\"#glyph0-3\" x=\"201.972656\" y=\"53.867188\"/>\n",
       "</g>\n",
       "<g style=\"fill:rgb(0%,0%,0%);fill-opacity:1;\">\n",
       "  <use xlink:href=\"#glyph0-4\" x=\"125.011719\" y=\"203.789062\"/>\n",
       "  <use xlink:href=\"#glyph0-5\" x=\"129.460938\" y=\"203.789062\"/>\n",
       "  <use xlink:href=\"#glyph0-6\" x=\"134.796875\" y=\"203.789062\"/>\n",
       "</g>\n",
       "<g style=\"fill:rgb(0%,0%,0%);fill-opacity:1;\">\n",
       "  <use xlink:href=\"#glyph0-3\" x=\"41.414062\" y=\"63.929688\"/>\n",
       "  <use xlink:href=\"#glyph0-5\" x=\"47.636719\" y=\"63.929688\"/>\n",
       "  <use xlink:href=\"#glyph0-7\" x=\"52.972656\" y=\"63.929688\"/>\n",
       "</g>\n",
       "</g>\n",
       "</svg>\n"
      ],
      "text/plain": [
       "<igraph.drawing.cairo.plot.CairoPlot at 0x7ffc2cf97290>"
      ]
     },
     "execution_count": 28,
     "metadata": {
      "image/svg+xml": {
       "isolated": true
      }
     },
     "output_type": "execute_result"
    }
   ],
   "source": [
    "ig.plot(sg, bbox=(250,250), vertex_label=sg.vs['name'], \n",
    "        vertex_label_size=8, margin=50)"
   ]
  },
  {
   "cell_type": "markdown",
   "metadata": {},
   "source": [
    "What if we want to know how many people travelled between the airports? In this case we don't care about the direction. We can do this by creating an undirected weighted graph, where the new weight are the summed edge weights from before."
   ]
  },
  {
   "cell_type": "code",
   "execution_count": 29,
   "metadata": {},
   "outputs": [],
   "source": [
    "undirected_sg = sg.as_undirected(combine_edges=sum)"
   ]
  },
  {
   "cell_type": "code",
   "execution_count": 31,
   "metadata": {
    "scrolled": false
   },
   "outputs": [
    {
     "data": {
      "image/svg+xml": [
       "<?xml version=\"1.0\" encoding=\"UTF-8\"?>\n",
       "<svg xmlns=\"http://www.w3.org/2000/svg\" xmlns:xlink=\"http://www.w3.org/1999/xlink\" width=\"250pt\" height=\"250pt\" viewBox=\"0 0 250 250\" version=\"1.1\">\n",
       "<defs>\n",
       "<g>\n",
       "<symbol overflow=\"visible\" id=\"glyph0-0\">\n",
       "<path style=\"stroke:none;\" d=\"M 0.257812 0 L 0.257812 -5.738281 L 4.8125 -5.738281 L 4.8125 0 Z M 4.09375 -0.71875 L 4.09375 -5.019531 L 0.976562 -5.019531 L 0.976562 -0.71875 Z M 4.09375 -0.71875 \"/>\n",
       "</symbol>\n",
       "<symbol overflow=\"visible\" id=\"glyph0-1\">\n",
       "<path style=\"stroke:none;\" d=\"M 1.117188 -1.851562 C 1.136719 -1.527344 1.210938 -1.261719 1.347656 -1.058594 C 1.605469 -0.679688 2.058594 -0.488281 2.710938 -0.488281 C 3.003906 -0.488281 3.269531 -0.53125 3.507812 -0.613281 C 3.972656 -0.773438 4.203125 -1.0625 4.203125 -1.480469 C 4.203125 -1.792969 4.105469 -2.015625 3.910156 -2.148438 C 3.710938 -2.277344 3.402344 -2.390625 2.980469 -2.488281 L 2.203125 -2.664062 C 1.695312 -2.777344 1.335938 -2.90625 1.125 -3.042969 C 0.761719 -3.28125 0.578125 -3.640625 0.578125 -4.117188 C 0.578125 -4.632812 0.757812 -5.054688 1.113281 -5.386719 C 1.46875 -5.71875 1.976562 -5.882812 2.628906 -5.882812 C 3.230469 -5.882812 3.742188 -5.738281 4.164062 -5.445312 C 4.582031 -5.15625 4.792969 -4.691406 4.792969 -4.054688 L 4.0625 -4.054688 C 4.023438 -4.363281 3.941406 -4.597656 3.8125 -4.761719 C 3.574219 -5.0625 3.171875 -5.210938 2.605469 -5.210938 C 2.148438 -5.210938 1.816406 -5.113281 1.617188 -4.921875 C 1.417969 -4.730469 1.316406 -4.503906 1.316406 -4.25 C 1.316406 -3.96875 1.433594 -3.761719 1.667969 -3.632812 C 1.820312 -3.550781 2.167969 -3.445312 2.710938 -3.320312 L 3.515625 -3.136719 C 3.902344 -3.046875 4.203125 -2.925781 4.414062 -2.773438 C 4.777344 -2.503906 4.960938 -2.117188 4.960938 -1.605469 C 4.960938 -0.96875 4.730469 -0.515625 4.265625 -0.242188 C 3.804688 0.03125 3.269531 0.167969 2.65625 0.167969 C 1.941406 0.167969 1.382812 -0.015625 0.980469 -0.378906 C 0.578125 -0.742188 0.378906 -1.230469 0.386719 -1.851562 Z M 1.117188 -1.851562 \"/>\n",
       "</symbol>\n",
       "<symbol overflow=\"visible\" id=\"glyph0-2\">\n",
       "<path style=\"stroke:none;\" d=\"M 0.683594 -5.738281 L 4.664062 -5.738281 L 4.664062 -5.035156 L 1.460938 -5.035156 L 1.460938 -3.292969 L 4.277344 -3.292969 L 4.277344 -2.609375 L 1.460938 -2.609375 L 1.460938 0 L 0.683594 0 Z M 0.683594 -5.738281 \"/>\n",
       "</symbol>\n",
       "<symbol overflow=\"visible\" id=\"glyph0-3\">\n",
       "<path style=\"stroke:none;\" d=\"M 3.085938 -5.894531 C 4.097656 -5.894531 4.847656 -5.570312 5.335938 -4.917969 C 5.714844 -4.410156 5.90625 -3.761719 5.90625 -2.96875 C 5.90625 -2.113281 5.6875 -1.398438 5.253906 -0.832031 C 4.742188 -0.164062 4.015625 0.167969 3.070312 0.167969 C 2.1875 0.167969 1.492188 -0.125 0.988281 -0.707031 C 0.539062 -1.269531 0.3125 -1.980469 0.3125 -2.839844 C 0.3125 -3.617188 0.503906 -4.28125 0.890625 -4.832031 C 1.386719 -5.539062 2.117188 -5.894531 3.085938 -5.894531 Z M 3.164062 -0.527344 C 3.847656 -0.527344 4.34375 -0.773438 4.648438 -1.265625 C 4.957031 -1.753906 5.109375 -2.320312 5.109375 -2.957031 C 5.109375 -3.632812 4.933594 -4.175781 4.578125 -4.585938 C 4.226562 -4.996094 3.746094 -5.203125 3.132812 -5.203125 C 2.539062 -5.203125 2.054688 -5 1.679688 -4.59375 C 1.304688 -4.183594 1.117188 -3.582031 1.117188 -2.789062 C 1.117188 -2.152344 1.277344 -1.617188 1.601562 -1.179688 C 1.921875 -0.746094 2.441406 -0.527344 3.164062 -0.527344 Z M 3.164062 -0.527344 \"/>\n",
       "</symbol>\n",
       "<symbol overflow=\"visible\" id=\"glyph0-4\">\n",
       "<path style=\"stroke:none;\" d=\"M 0.609375 -5.738281 L 1.386719 -5.738281 L 1.386719 -0.683594 L 4.292969 -0.683594 L 4.292969 0 L 0.609375 0 Z M 0.609375 -5.738281 \"/>\n",
       "</symbol>\n",
       "<symbol overflow=\"visible\" id=\"glyph0-5\">\n",
       "<path style=\"stroke:none;\" d=\"M 3.554688 -2.351562 L 2.683594 -4.886719 L 1.757812 -2.351562 Z M 2.277344 -5.738281 L 3.15625 -5.738281 L 5.238281 0 L 4.386719 0 L 3.804688 -1.71875 L 1.535156 -1.71875 L 0.914062 0 L 0.117188 0 Z M 2.277344 -5.738281 \"/>\n",
       "</symbol>\n",
       "<symbol overflow=\"visible\" id=\"glyph0-6\">\n",
       "<path style=\"stroke:none;\" d=\"M 1.101562 0 L 0.164062 0 L 2.21875 -2.941406 L 0.292969 -5.738281 L 1.265625 -5.738281 L 2.730469 -3.542969 L 4.183594 -5.738281 L 5.109375 -5.738281 L 3.183594 -2.941406 L 5.203125 0 L 4.238281 0 L 2.691406 -2.359375 Z M 1.101562 0 \"/>\n",
       "</symbol>\n",
       "<symbol overflow=\"visible\" id=\"glyph0-7\">\n",
       "<path style=\"stroke:none;\" d=\"M 0.609375 -5.738281 L 1.367188 -5.738281 L 1.367188 -2.941406 L 4.164062 -5.738281 L 5.238281 -5.738281 L 2.851562 -3.425781 L 5.304688 0 L 4.292969 0 L 2.285156 -2.878906 L 1.367188 -2 L 1.367188 0 L 0.609375 0 Z M 0.609375 -5.738281 \"/>\n",
       "</symbol>\n",
       "</g>\n",
       "</defs>\n",
       "<g id=\"surface20\">\n",
       "<rect x=\"0\" y=\"0\" width=\"250\" height=\"250\" style=\"fill:rgb(100%,100%,100%);fill-opacity:1;stroke:none;\"/>\n",
       "<path style=\"fill:none;stroke-width:1;stroke-linecap:butt;stroke-linejoin:miter;stroke:rgb(26.666667%,26.666667%,26.666667%);stroke-opacity:1;stroke-miterlimit:10;\" d=\"M 225.605469 39.394531 C 225.605469 47.675781 218.890625 54.394531 210.605469 54.394531 C 202.324219 54.394531 195.605469 47.675781 195.605469 39.394531 C 195.605469 31.109375 202.324219 24.394531 210.605469 24.394531 C 218.890625 24.394531 225.605469 31.109375 225.605469 39.394531 \"/>\n",
       "<path style=\"fill:none;stroke-width:1;stroke-linecap:butt;stroke-linejoin:miter;stroke:rgb(26.666667%,26.666667%,26.666667%);stroke-opacity:1;stroke-miterlimit:10;\" d=\"M 200 50 L 132.808594 200 \"/>\n",
       "<path style=\"fill:none;stroke-width:1;stroke-linecap:butt;stroke-linejoin:miter;stroke:rgb(26.666667%,26.666667%,26.666667%);stroke-opacity:1;stroke-miterlimit:10;\" d=\"M 158.417969 189.394531 C 158.417969 197.675781 151.699219 204.394531 143.417969 204.394531 C 135.132812 204.394531 128.417969 197.675781 128.417969 189.394531 C 128.417969 181.109375 135.132812 174.394531 143.417969 174.394531 C 151.699219 174.394531 158.417969 181.109375 158.417969 189.394531 \"/>\n",
       "<path style=\"fill:none;stroke-width:1;stroke-linecap:butt;stroke-linejoin:miter;stroke:rgb(26.666667%,26.666667%,26.666667%);stroke-opacity:1;stroke-miterlimit:10;\" d=\"M 200 50 L 50 60.0625 \"/>\n",
       "<path style=\"fill:none;stroke-width:1;stroke-linecap:butt;stroke-linejoin:miter;stroke:rgb(26.666667%,26.666667%,26.666667%);stroke-opacity:1;stroke-miterlimit:10;\" d=\"M 132.808594 200 L 50 60.0625 \"/>\n",
       "<path style=\"fill-rule:nonzero;fill:rgb(67.843137%,84.705882%,90.196078%);fill-opacity:1;stroke-width:1;stroke-linecap:butt;stroke-linejoin:miter;stroke:rgb(0%,0%,0%);stroke-opacity:1;stroke-miterlimit:10;\" d=\"M 210 50 C 210 55.523438 205.523438 60 200 60 C 194.476562 60 190 55.523438 190 50 C 190 44.476562 194.476562 40 200 40 C 205.523438 40 210 44.476562 210 50 \"/>\n",
       "<path style=\"fill-rule:nonzero;fill:rgb(100%,75.294118%,79.607843%);fill-opacity:1;stroke-width:1;stroke-linecap:butt;stroke-linejoin:miter;stroke:rgb(0%,0%,0%);stroke-opacity:1;stroke-miterlimit:10;\" d=\"M 142.808594 200 C 142.808594 205.523438 138.332031 210 132.808594 210 C 127.285156 210 122.808594 205.523438 122.808594 200 C 122.808594 194.476562 127.285156 190 132.808594 190 C 138.332031 190 142.808594 194.476562 142.808594 200 \"/>\n",
       "<path style=\"fill-rule:nonzero;fill:rgb(67.843137%,84.705882%,90.196078%);fill-opacity:1;stroke-width:1;stroke-linecap:butt;stroke-linejoin:miter;stroke:rgb(0%,0%,0%);stroke-opacity:1;stroke-miterlimit:10;\" d=\"M 60 60.0625 C 60 65.585938 55.523438 70.0625 50 70.0625 C 44.476562 70.0625 40 65.585938 40 60.0625 C 40 54.539062 44.476562 50.0625 50 50.0625 C 55.523438 50.0625 60 54.539062 60 60.0625 \"/>\n",
       "<g style=\"fill:rgb(0%,0%,0%);fill-opacity:1;\">\n",
       "  <use xlink:href=\"#glyph0-1\" x=\"191.75\" y=\"53.867188\"/>\n",
       "  <use xlink:href=\"#glyph0-2\" x=\"197.085938\" y=\"53.867188\"/>\n",
       "  <use xlink:href=\"#glyph0-3\" x=\"201.972656\" y=\"53.867188\"/>\n",
       "</g>\n",
       "<g style=\"fill:rgb(0%,0%,0%);fill-opacity:1;\">\n",
       "  <use xlink:href=\"#glyph0-4\" x=\"125.011719\" y=\"203.789062\"/>\n",
       "  <use xlink:href=\"#glyph0-5\" x=\"129.460938\" y=\"203.789062\"/>\n",
       "  <use xlink:href=\"#glyph0-6\" x=\"134.796875\" y=\"203.789062\"/>\n",
       "</g>\n",
       "<g style=\"fill:rgb(0%,0%,0%);fill-opacity:1;\">\n",
       "  <use xlink:href=\"#glyph0-3\" x=\"41.414062\" y=\"63.929688\"/>\n",
       "  <use xlink:href=\"#glyph0-5\" x=\"47.636719\" y=\"63.929688\"/>\n",
       "  <use xlink:href=\"#glyph0-7\" x=\"52.972656\" y=\"63.929688\"/>\n",
       "</g>\n",
       "</g>\n",
       "</svg>\n"
      ],
      "text/plain": [
       "<igraph.drawing.cairo.plot.CairoPlot at 0x7ffc2cf88c90>"
      ]
     },
     "execution_count": 31,
     "metadata": {
      "image/svg+xml": {
       "isolated": true
      }
     },
     "output_type": "execute_result"
    }
   ],
   "source": [
    "ig.plot(undirected_sg, bbox=(250,250), vertex_label=sg.vs['name'], \n",
    "        vertex_label_size=8, margin=50)\n"
   ]
  },
  {
   "cell_type": "markdown",
   "metadata": {},
   "source": [
    "If we want to get rid of the loops, we can use `simplify`."
   ]
  },
  {
   "cell_type": "code",
   "execution_count": 32,
   "metadata": {},
   "outputs": [],
   "source": [
    "sg = sg.simplify(combine_edges=sum)"
   ]
  },
  {
   "cell_type": "code",
   "execution_count": 33,
   "metadata": {},
   "outputs": [
    {
     "data": {
      "image/svg+xml": [
       "<?xml version=\"1.0\" encoding=\"UTF-8\"?>\n",
       "<svg xmlns=\"http://www.w3.org/2000/svg\" xmlns:xlink=\"http://www.w3.org/1999/xlink\" width=\"250pt\" height=\"250pt\" viewBox=\"0 0 250 250\" version=\"1.1\">\n",
       "<defs>\n",
       "<g>\n",
       "<symbol overflow=\"visible\" id=\"glyph0-0\">\n",
       "<path style=\"stroke:none;\" d=\"M 0.257812 0 L 0.257812 -5.738281 L 4.8125 -5.738281 L 4.8125 0 Z M 4.09375 -0.71875 L 4.09375 -5.019531 L 0.976562 -5.019531 L 0.976562 -0.71875 Z M 4.09375 -0.71875 \"/>\n",
       "</symbol>\n",
       "<symbol overflow=\"visible\" id=\"glyph0-1\">\n",
       "<path style=\"stroke:none;\" d=\"M 1.117188 -1.851562 C 1.136719 -1.527344 1.210938 -1.261719 1.347656 -1.058594 C 1.605469 -0.679688 2.058594 -0.488281 2.710938 -0.488281 C 3.003906 -0.488281 3.269531 -0.53125 3.507812 -0.613281 C 3.972656 -0.773438 4.203125 -1.0625 4.203125 -1.480469 C 4.203125 -1.792969 4.105469 -2.015625 3.910156 -2.148438 C 3.710938 -2.277344 3.402344 -2.390625 2.980469 -2.488281 L 2.203125 -2.664062 C 1.695312 -2.777344 1.335938 -2.90625 1.125 -3.042969 C 0.761719 -3.28125 0.578125 -3.640625 0.578125 -4.117188 C 0.578125 -4.632812 0.757812 -5.054688 1.113281 -5.386719 C 1.46875 -5.71875 1.976562 -5.882812 2.628906 -5.882812 C 3.230469 -5.882812 3.742188 -5.738281 4.164062 -5.445312 C 4.582031 -5.15625 4.792969 -4.691406 4.792969 -4.054688 L 4.0625 -4.054688 C 4.023438 -4.363281 3.941406 -4.597656 3.8125 -4.761719 C 3.574219 -5.0625 3.171875 -5.210938 2.605469 -5.210938 C 2.148438 -5.210938 1.816406 -5.113281 1.617188 -4.921875 C 1.417969 -4.730469 1.316406 -4.503906 1.316406 -4.25 C 1.316406 -3.96875 1.433594 -3.761719 1.667969 -3.632812 C 1.820312 -3.550781 2.167969 -3.445312 2.710938 -3.320312 L 3.515625 -3.136719 C 3.902344 -3.046875 4.203125 -2.925781 4.414062 -2.773438 C 4.777344 -2.503906 4.960938 -2.117188 4.960938 -1.605469 C 4.960938 -0.96875 4.730469 -0.515625 4.265625 -0.242188 C 3.804688 0.03125 3.269531 0.167969 2.65625 0.167969 C 1.941406 0.167969 1.382812 -0.015625 0.980469 -0.378906 C 0.578125 -0.742188 0.378906 -1.230469 0.386719 -1.851562 Z M 1.117188 -1.851562 \"/>\n",
       "</symbol>\n",
       "<symbol overflow=\"visible\" id=\"glyph0-2\">\n",
       "<path style=\"stroke:none;\" d=\"M 0.683594 -5.738281 L 4.664062 -5.738281 L 4.664062 -5.035156 L 1.460938 -5.035156 L 1.460938 -3.292969 L 4.277344 -3.292969 L 4.277344 -2.609375 L 1.460938 -2.609375 L 1.460938 0 L 0.683594 0 Z M 0.683594 -5.738281 \"/>\n",
       "</symbol>\n",
       "<symbol overflow=\"visible\" id=\"glyph0-3\">\n",
       "<path style=\"stroke:none;\" d=\"M 3.085938 -5.894531 C 4.097656 -5.894531 4.847656 -5.570312 5.335938 -4.917969 C 5.714844 -4.410156 5.90625 -3.761719 5.90625 -2.96875 C 5.90625 -2.113281 5.6875 -1.398438 5.253906 -0.832031 C 4.742188 -0.164062 4.015625 0.167969 3.070312 0.167969 C 2.1875 0.167969 1.492188 -0.125 0.988281 -0.707031 C 0.539062 -1.269531 0.3125 -1.980469 0.3125 -2.839844 C 0.3125 -3.617188 0.503906 -4.28125 0.890625 -4.832031 C 1.386719 -5.539062 2.117188 -5.894531 3.085938 -5.894531 Z M 3.164062 -0.527344 C 3.847656 -0.527344 4.34375 -0.773438 4.648438 -1.265625 C 4.957031 -1.753906 5.109375 -2.320312 5.109375 -2.957031 C 5.109375 -3.632812 4.933594 -4.175781 4.578125 -4.585938 C 4.226562 -4.996094 3.746094 -5.203125 3.132812 -5.203125 C 2.539062 -5.203125 2.054688 -5 1.679688 -4.59375 C 1.304688 -4.183594 1.117188 -3.582031 1.117188 -2.789062 C 1.117188 -2.152344 1.277344 -1.617188 1.601562 -1.179688 C 1.921875 -0.746094 2.441406 -0.527344 3.164062 -0.527344 Z M 3.164062 -0.527344 \"/>\n",
       "</symbol>\n",
       "<symbol overflow=\"visible\" id=\"glyph0-4\">\n",
       "<path style=\"stroke:none;\" d=\"M 0.609375 -5.738281 L 1.386719 -5.738281 L 1.386719 -0.683594 L 4.292969 -0.683594 L 4.292969 0 L 0.609375 0 Z M 0.609375 -5.738281 \"/>\n",
       "</symbol>\n",
       "<symbol overflow=\"visible\" id=\"glyph0-5\">\n",
       "<path style=\"stroke:none;\" d=\"M 3.554688 -2.351562 L 2.683594 -4.886719 L 1.757812 -2.351562 Z M 2.277344 -5.738281 L 3.15625 -5.738281 L 5.238281 0 L 4.386719 0 L 3.804688 -1.71875 L 1.535156 -1.71875 L 0.914062 0 L 0.117188 0 Z M 2.277344 -5.738281 \"/>\n",
       "</symbol>\n",
       "<symbol overflow=\"visible\" id=\"glyph0-6\">\n",
       "<path style=\"stroke:none;\" d=\"M 1.101562 0 L 0.164062 0 L 2.21875 -2.941406 L 0.292969 -5.738281 L 1.265625 -5.738281 L 2.730469 -3.542969 L 4.183594 -5.738281 L 5.109375 -5.738281 L 3.183594 -2.941406 L 5.203125 0 L 4.238281 0 L 2.691406 -2.359375 Z M 1.101562 0 \"/>\n",
       "</symbol>\n",
       "<symbol overflow=\"visible\" id=\"glyph0-7\">\n",
       "<path style=\"stroke:none;\" d=\"M 0.609375 -5.738281 L 1.367188 -5.738281 L 1.367188 -2.941406 L 4.164062 -5.738281 L 5.238281 -5.738281 L 2.851562 -3.425781 L 5.304688 0 L 4.292969 0 L 2.285156 -2.878906 L 1.367188 -2 L 1.367188 0 L 0.609375 0 Z M 0.609375 -5.738281 \"/>\n",
       "</symbol>\n",
       "</g>\n",
       "</defs>\n",
       "<g id=\"surface26\">\n",
       "<rect x=\"0\" y=\"0\" width=\"250\" height=\"250\" style=\"fill:rgb(100%,100%,100%);fill-opacity:1;stroke:none;\"/>\n",
       "<path style=\"fill:none;stroke-width:1;stroke-linecap:butt;stroke-linejoin:miter;stroke:rgb(26.666667%,26.666667%,26.666667%);stroke-opacity:1;stroke-miterlimit:10;\" d=\"M 200 50 C 139.945312 73.058594 84.863281 138.109375 117.894531 180.75 \"/>\n",
       "<path style=\" stroke:none;fill-rule:nonzero;fill:rgb(26.666667%,26.666667%,26.666667%);fill-opacity:1;\" d=\"M 126.632812 192.027344 L 114.230469 183.585938 L 121.5625 177.910156 L 126.632812 192.027344 \"/>\n",
       "<path style=\"fill:none;stroke-width:1;stroke-linecap:butt;stroke-linejoin:miter;stroke:rgb(26.666667%,26.666667%,26.666667%);stroke-opacity:1;stroke-miterlimit:10;\" d=\"M 200 50 C 157.570312 15.445312 111.050781 10.285156 68.777344 44.753906 \"/>\n",
       "<path style=\" stroke:none;fill-rule:nonzero;fill:rgb(26.666667%,26.666667%,26.666667%);fill-opacity:1;\" d=\"M 57.722656 53.769531 L 65.847656 41.160156 L 71.707031 48.34375 L 57.722656 53.769531 \"/>\n",
       "<path style=\"fill:none;stroke-width:1;stroke-linecap:butt;stroke-linejoin:miter;stroke:rgb(26.666667%,26.666667%,26.666667%);stroke-opacity:1;stroke-miterlimit:10;\" d=\"M 132.808594 200 C 188.355469 175.914062 216.664062 132.96875 204.773438 73.769531 \"/>\n",
       "<path style=\" stroke:none;fill-rule:nonzero;fill:rgb(26.666667%,26.666667%,26.666667%);fill-opacity:1;\" d=\"M 201.964844 59.78125 L 209.320312 72.855469 L 200.230469 74.683594 L 201.964844 59.78125 \"/>\n",
       "<path style=\"fill:none;stroke-width:1;stroke-linecap:butt;stroke-linejoin:miter;stroke:rgb(26.666667%,26.666667%,26.666667%);stroke-opacity:1;stroke-miterlimit:10;\" d=\"M 132.808594 200 C 147.535156 139.5 130.605469 68.730469 73.964844 62.640625 \"/>\n",
       "<path style=\" stroke:none;fill-rule:nonzero;fill:rgb(26.666667%,26.666667%,26.666667%);fill-opacity:1;\" d=\"M 59.78125 61.113281 L 74.460938 58.03125 L 73.46875 67.25 L 59.78125 61.113281 \"/>\n",
       "<path style=\"fill:none;stroke-width:1;stroke-linecap:butt;stroke-linejoin:miter;stroke:rgb(26.666667%,26.666667%,26.666667%);stroke-opacity:1;stroke-miterlimit:10;\" d=\"M 50 60.0625 C 92.523438 92.46875 131.316406 84.996094 178.308594 61.050781 \"/>\n",
       "<path style=\" stroke:none;fill-rule:nonzero;fill:rgb(26.666667%,26.666667%,26.666667%);fill-opacity:1;\" d=\"M 191.019531 54.574219 L 180.414062 65.179688 L 176.207031 56.921875 L 191.019531 54.574219 \"/>\n",
       "<path style=\"fill:none;stroke-width:1;stroke-linecap:butt;stroke-linejoin:miter;stroke:rgb(26.666667%,26.666667%,26.666667%);stroke-opacity:1;stroke-miterlimit:10;\" d=\"M 50 60.0625 C 36.164062 119.875 52.175781 182.050781 109.5625 194.824219 \"/>\n",
       "<path style=\" stroke:none;fill-rule:nonzero;fill:rgb(26.666667%,26.666667%,26.666667%);fill-opacity:1;\" d=\"M 123.488281 197.925781 L 108.554688 199.347656 L 110.570312 190.300781 L 123.488281 197.925781 \"/>\n",
       "<path style=\"fill-rule:nonzero;fill:rgb(67.843137%,84.705882%,90.196078%);fill-opacity:1;stroke-width:1;stroke-linecap:butt;stroke-linejoin:miter;stroke:rgb(0%,0%,0%);stroke-opacity:1;stroke-miterlimit:10;\" d=\"M 210 50 C 210 55.523438 205.523438 60 200 60 C 194.476562 60 190 55.523438 190 50 C 190 44.476562 194.476562 40 200 40 C 205.523438 40 210 44.476562 210 50 \"/>\n",
       "<path style=\"fill-rule:nonzero;fill:rgb(100%,75.294118%,79.607843%);fill-opacity:1;stroke-width:1;stroke-linecap:butt;stroke-linejoin:miter;stroke:rgb(0%,0%,0%);stroke-opacity:1;stroke-miterlimit:10;\" d=\"M 142.808594 200 C 142.808594 205.523438 138.332031 210 132.808594 210 C 127.285156 210 122.808594 205.523438 122.808594 200 C 122.808594 194.476562 127.285156 190 132.808594 190 C 138.332031 190 142.808594 194.476562 142.808594 200 \"/>\n",
       "<path style=\"fill-rule:nonzero;fill:rgb(67.843137%,84.705882%,90.196078%);fill-opacity:1;stroke-width:1;stroke-linecap:butt;stroke-linejoin:miter;stroke:rgb(0%,0%,0%);stroke-opacity:1;stroke-miterlimit:10;\" d=\"M 60 60.0625 C 60 65.585938 55.523438 70.0625 50 70.0625 C 44.476562 70.0625 40 65.585938 40 60.0625 C 40 54.539062 44.476562 50.0625 50 50.0625 C 55.523438 50.0625 60 54.539062 60 60.0625 \"/>\n",
       "<g style=\"fill:rgb(0%,0%,0%);fill-opacity:1;\">\n",
       "  <use xlink:href=\"#glyph0-1\" x=\"191.75\" y=\"53.867188\"/>\n",
       "  <use xlink:href=\"#glyph0-2\" x=\"197.085938\" y=\"53.867188\"/>\n",
       "  <use xlink:href=\"#glyph0-3\" x=\"201.972656\" y=\"53.867188\"/>\n",
       "</g>\n",
       "<g style=\"fill:rgb(0%,0%,0%);fill-opacity:1;\">\n",
       "  <use xlink:href=\"#glyph0-4\" x=\"125.011719\" y=\"203.789062\"/>\n",
       "  <use xlink:href=\"#glyph0-5\" x=\"129.460938\" y=\"203.789062\"/>\n",
       "  <use xlink:href=\"#glyph0-6\" x=\"134.796875\" y=\"203.789062\"/>\n",
       "</g>\n",
       "<g style=\"fill:rgb(0%,0%,0%);fill-opacity:1;\">\n",
       "  <use xlink:href=\"#glyph0-3\" x=\"41.414062\" y=\"63.929688\"/>\n",
       "  <use xlink:href=\"#glyph0-5\" x=\"47.636719\" y=\"63.929688\"/>\n",
       "  <use xlink:href=\"#glyph0-7\" x=\"52.972656\" y=\"63.929688\"/>\n",
       "</g>\n",
       "</g>\n",
       "</svg>\n"
      ],
      "text/plain": [
       "<igraph.drawing.cairo.plot.CairoPlot at 0x7ffc25287910>"
      ]
     },
     "execution_count": 33,
     "metadata": {
      "image/svg+xml": {
       "isolated": true
      }
     },
     "output_type": "execute_result"
    }
   ],
   "source": [
    "ig.plot(sg, bbox=(250,250), vertex_label=sg.vs['name'], \n",
    "        vertex_label_size=8, margin=50)"
   ]
  },
  {
   "cell_type": "markdown",
   "metadata": {},
   "source": [
    "Combining the above, we get a simple, undirected graph. "
   ]
  },
  {
   "cell_type": "code",
   "execution_count": 34,
   "metadata": {},
   "outputs": [
    {
     "data": {
      "image/svg+xml": [
       "<?xml version=\"1.0\" encoding=\"UTF-8\"?>\n",
       "<svg xmlns=\"http://www.w3.org/2000/svg\" xmlns:xlink=\"http://www.w3.org/1999/xlink\" width=\"250pt\" height=\"250pt\" viewBox=\"0 0 250 250\" version=\"1.1\">\n",
       "<defs>\n",
       "<g>\n",
       "<symbol overflow=\"visible\" id=\"glyph0-0\">\n",
       "<path style=\"stroke:none;\" d=\"M 0.257812 0 L 0.257812 -5.738281 L 4.8125 -5.738281 L 4.8125 0 Z M 4.09375 -0.71875 L 4.09375 -5.019531 L 0.976562 -5.019531 L 0.976562 -0.71875 Z M 4.09375 -0.71875 \"/>\n",
       "</symbol>\n",
       "<symbol overflow=\"visible\" id=\"glyph0-1\">\n",
       "<path style=\"stroke:none;\" d=\"M 1.117188 -1.851562 C 1.136719 -1.527344 1.210938 -1.261719 1.347656 -1.058594 C 1.605469 -0.679688 2.058594 -0.488281 2.710938 -0.488281 C 3.003906 -0.488281 3.269531 -0.53125 3.507812 -0.613281 C 3.972656 -0.773438 4.203125 -1.0625 4.203125 -1.480469 C 4.203125 -1.792969 4.105469 -2.015625 3.910156 -2.148438 C 3.710938 -2.277344 3.402344 -2.390625 2.980469 -2.488281 L 2.203125 -2.664062 C 1.695312 -2.777344 1.335938 -2.90625 1.125 -3.042969 C 0.761719 -3.28125 0.578125 -3.640625 0.578125 -4.117188 C 0.578125 -4.632812 0.757812 -5.054688 1.113281 -5.386719 C 1.46875 -5.71875 1.976562 -5.882812 2.628906 -5.882812 C 3.230469 -5.882812 3.742188 -5.738281 4.164062 -5.445312 C 4.582031 -5.15625 4.792969 -4.691406 4.792969 -4.054688 L 4.0625 -4.054688 C 4.023438 -4.363281 3.941406 -4.597656 3.8125 -4.761719 C 3.574219 -5.0625 3.171875 -5.210938 2.605469 -5.210938 C 2.148438 -5.210938 1.816406 -5.113281 1.617188 -4.921875 C 1.417969 -4.730469 1.316406 -4.503906 1.316406 -4.25 C 1.316406 -3.96875 1.433594 -3.761719 1.667969 -3.632812 C 1.820312 -3.550781 2.167969 -3.445312 2.710938 -3.320312 L 3.515625 -3.136719 C 3.902344 -3.046875 4.203125 -2.925781 4.414062 -2.773438 C 4.777344 -2.503906 4.960938 -2.117188 4.960938 -1.605469 C 4.960938 -0.96875 4.730469 -0.515625 4.265625 -0.242188 C 3.804688 0.03125 3.269531 0.167969 2.65625 0.167969 C 1.941406 0.167969 1.382812 -0.015625 0.980469 -0.378906 C 0.578125 -0.742188 0.378906 -1.230469 0.386719 -1.851562 Z M 1.117188 -1.851562 \"/>\n",
       "</symbol>\n",
       "<symbol overflow=\"visible\" id=\"glyph0-2\">\n",
       "<path style=\"stroke:none;\" d=\"M 0.683594 -5.738281 L 4.664062 -5.738281 L 4.664062 -5.035156 L 1.460938 -5.035156 L 1.460938 -3.292969 L 4.277344 -3.292969 L 4.277344 -2.609375 L 1.460938 -2.609375 L 1.460938 0 L 0.683594 0 Z M 0.683594 -5.738281 \"/>\n",
       "</symbol>\n",
       "<symbol overflow=\"visible\" id=\"glyph0-3\">\n",
       "<path style=\"stroke:none;\" d=\"M 3.085938 -5.894531 C 4.097656 -5.894531 4.847656 -5.570312 5.335938 -4.917969 C 5.714844 -4.410156 5.90625 -3.761719 5.90625 -2.96875 C 5.90625 -2.113281 5.6875 -1.398438 5.253906 -0.832031 C 4.742188 -0.164062 4.015625 0.167969 3.070312 0.167969 C 2.1875 0.167969 1.492188 -0.125 0.988281 -0.707031 C 0.539062 -1.269531 0.3125 -1.980469 0.3125 -2.839844 C 0.3125 -3.617188 0.503906 -4.28125 0.890625 -4.832031 C 1.386719 -5.539062 2.117188 -5.894531 3.085938 -5.894531 Z M 3.164062 -0.527344 C 3.847656 -0.527344 4.34375 -0.773438 4.648438 -1.265625 C 4.957031 -1.753906 5.109375 -2.320312 5.109375 -2.957031 C 5.109375 -3.632812 4.933594 -4.175781 4.578125 -4.585938 C 4.226562 -4.996094 3.746094 -5.203125 3.132812 -5.203125 C 2.539062 -5.203125 2.054688 -5 1.679688 -4.59375 C 1.304688 -4.183594 1.117188 -3.582031 1.117188 -2.789062 C 1.117188 -2.152344 1.277344 -1.617188 1.601562 -1.179688 C 1.921875 -0.746094 2.441406 -0.527344 3.164062 -0.527344 Z M 3.164062 -0.527344 \"/>\n",
       "</symbol>\n",
       "<symbol overflow=\"visible\" id=\"glyph0-4\">\n",
       "<path style=\"stroke:none;\" d=\"M 0.609375 -5.738281 L 1.386719 -5.738281 L 1.386719 -0.683594 L 4.292969 -0.683594 L 4.292969 0 L 0.609375 0 Z M 0.609375 -5.738281 \"/>\n",
       "</symbol>\n",
       "<symbol overflow=\"visible\" id=\"glyph0-5\">\n",
       "<path style=\"stroke:none;\" d=\"M 3.554688 -2.351562 L 2.683594 -4.886719 L 1.757812 -2.351562 Z M 2.277344 -5.738281 L 3.15625 -5.738281 L 5.238281 0 L 4.386719 0 L 3.804688 -1.71875 L 1.535156 -1.71875 L 0.914062 0 L 0.117188 0 Z M 2.277344 -5.738281 \"/>\n",
       "</symbol>\n",
       "<symbol overflow=\"visible\" id=\"glyph0-6\">\n",
       "<path style=\"stroke:none;\" d=\"M 1.101562 0 L 0.164062 0 L 2.21875 -2.941406 L 0.292969 -5.738281 L 1.265625 -5.738281 L 2.730469 -3.542969 L 4.183594 -5.738281 L 5.109375 -5.738281 L 3.183594 -2.941406 L 5.203125 0 L 4.238281 0 L 2.691406 -2.359375 Z M 1.101562 0 \"/>\n",
       "</symbol>\n",
       "<symbol overflow=\"visible\" id=\"glyph0-7\">\n",
       "<path style=\"stroke:none;\" d=\"M 0.609375 -5.738281 L 1.367188 -5.738281 L 1.367188 -2.941406 L 4.164062 -5.738281 L 5.238281 -5.738281 L 2.851562 -3.425781 L 5.304688 0 L 4.292969 0 L 2.285156 -2.878906 L 1.367188 -2 L 1.367188 0 L 0.609375 0 Z M 0.609375 -5.738281 \"/>\n",
       "</symbol>\n",
       "</g>\n",
       "</defs>\n",
       "<g id=\"surface32\">\n",
       "<rect x=\"0\" y=\"0\" width=\"250\" height=\"250\" style=\"fill:rgb(100%,100%,100%);fill-opacity:1;stroke:none;\"/>\n",
       "<path style=\"fill:none;stroke-width:1;stroke-linecap:butt;stroke-linejoin:miter;stroke:rgb(26.666667%,26.666667%,26.666667%);stroke-opacity:1;stroke-miterlimit:10;\" d=\"M 200 50 L 132.808594 200 \"/>\n",
       "<path style=\"fill:none;stroke-width:1;stroke-linecap:butt;stroke-linejoin:miter;stroke:rgb(26.666667%,26.666667%,26.666667%);stroke-opacity:1;stroke-miterlimit:10;\" d=\"M 200 50 L 50 60.0625 \"/>\n",
       "<path style=\"fill:none;stroke-width:1;stroke-linecap:butt;stroke-linejoin:miter;stroke:rgb(26.666667%,26.666667%,26.666667%);stroke-opacity:1;stroke-miterlimit:10;\" d=\"M 132.808594 200 L 50 60.0625 \"/>\n",
       "<path style=\"fill-rule:nonzero;fill:rgb(67.843137%,84.705882%,90.196078%);fill-opacity:1;stroke-width:1;stroke-linecap:butt;stroke-linejoin:miter;stroke:rgb(0%,0%,0%);stroke-opacity:1;stroke-miterlimit:10;\" d=\"M 210 50 C 210 55.523438 205.523438 60 200 60 C 194.476562 60 190 55.523438 190 50 C 190 44.476562 194.476562 40 200 40 C 205.523438 40 210 44.476562 210 50 \"/>\n",
       "<path style=\"fill-rule:nonzero;fill:rgb(100%,75.294118%,79.607843%);fill-opacity:1;stroke-width:1;stroke-linecap:butt;stroke-linejoin:miter;stroke:rgb(0%,0%,0%);stroke-opacity:1;stroke-miterlimit:10;\" d=\"M 142.808594 200 C 142.808594 205.523438 138.332031 210 132.808594 210 C 127.285156 210 122.808594 205.523438 122.808594 200 C 122.808594 194.476562 127.285156 190 132.808594 190 C 138.332031 190 142.808594 194.476562 142.808594 200 \"/>\n",
       "<path style=\"fill-rule:nonzero;fill:rgb(67.843137%,84.705882%,90.196078%);fill-opacity:1;stroke-width:1;stroke-linecap:butt;stroke-linejoin:miter;stroke:rgb(0%,0%,0%);stroke-opacity:1;stroke-miterlimit:10;\" d=\"M 60 60.0625 C 60 65.585938 55.523438 70.0625 50 70.0625 C 44.476562 70.0625 40 65.585938 40 60.0625 C 40 54.539062 44.476562 50.0625 50 50.0625 C 55.523438 50.0625 60 54.539062 60 60.0625 \"/>\n",
       "<g style=\"fill:rgb(0%,0%,0%);fill-opacity:1;\">\n",
       "  <use xlink:href=\"#glyph0-1\" x=\"191.75\" y=\"53.867188\"/>\n",
       "  <use xlink:href=\"#glyph0-2\" x=\"197.085938\" y=\"53.867188\"/>\n",
       "  <use xlink:href=\"#glyph0-3\" x=\"201.972656\" y=\"53.867188\"/>\n",
       "</g>\n",
       "<g style=\"fill:rgb(0%,0%,0%);fill-opacity:1;\">\n",
       "  <use xlink:href=\"#glyph0-4\" x=\"125.011719\" y=\"203.789062\"/>\n",
       "  <use xlink:href=\"#glyph0-5\" x=\"129.460938\" y=\"203.789062\"/>\n",
       "  <use xlink:href=\"#glyph0-6\" x=\"134.796875\" y=\"203.789062\"/>\n",
       "</g>\n",
       "<g style=\"fill:rgb(0%,0%,0%);fill-opacity:1;\">\n",
       "  <use xlink:href=\"#glyph0-3\" x=\"41.414062\" y=\"63.929688\"/>\n",
       "  <use xlink:href=\"#glyph0-5\" x=\"47.636719\" y=\"63.929688\"/>\n",
       "  <use xlink:href=\"#glyph0-7\" x=\"52.972656\" y=\"63.929688\"/>\n",
       "</g>\n",
       "</g>\n",
       "</svg>\n"
      ],
      "text/plain": [
       "<igraph.drawing.cairo.plot.CairoPlot at 0x7ffc2cd0bdd0>"
      ]
     },
     "execution_count": 34,
     "metadata": {
      "image/svg+xml": {
       "isolated": true
      }
     },
     "output_type": "execute_result"
    }
   ],
   "source": [
    "ig.plot(sg.as_undirected(combine_edges=sum),bbox=(250,250), vertex_label=sg.vs['name'], \n",
    "        vertex_label_size=8, margin=50)\n"
   ]
  },
  {
   "cell_type": "markdown",
   "metadata": {},
   "source": [
    "The operations of `simplify` and `as_undirected` are non-descructive. But we redefined `sg` as the simple version above. `sg` is now a simple, directed graph. "
   ]
  },
  {
   "cell_type": "code",
   "execution_count": 38,
   "metadata": {
    "scrolled": false
   },
   "outputs": [
    {
     "data": {
      "image/svg+xml": [
       "<?xml version=\"1.0\" encoding=\"UTF-8\"?>\n",
       "<svg xmlns=\"http://www.w3.org/2000/svg\" xmlns:xlink=\"http://www.w3.org/1999/xlink\" width=\"250pt\" height=\"250pt\" viewBox=\"0 0 250 250\" version=\"1.1\">\n",
       "<defs>\n",
       "<g>\n",
       "<symbol overflow=\"visible\" id=\"glyph0-0\">\n",
       "<path style=\"stroke:none;\" d=\"M 0.257812 0 L 0.257812 -5.738281 L 4.8125 -5.738281 L 4.8125 0 Z M 4.09375 -0.71875 L 4.09375 -5.019531 L 0.976562 -5.019531 L 0.976562 -0.71875 Z M 4.09375 -0.71875 \"/>\n",
       "</symbol>\n",
       "<symbol overflow=\"visible\" id=\"glyph0-1\">\n",
       "<path style=\"stroke:none;\" d=\"M 1.117188 -1.851562 C 1.136719 -1.527344 1.210938 -1.261719 1.347656 -1.058594 C 1.605469 -0.679688 2.058594 -0.488281 2.710938 -0.488281 C 3.003906 -0.488281 3.269531 -0.53125 3.507812 -0.613281 C 3.972656 -0.773438 4.203125 -1.0625 4.203125 -1.480469 C 4.203125 -1.792969 4.105469 -2.015625 3.910156 -2.148438 C 3.710938 -2.277344 3.402344 -2.390625 2.980469 -2.488281 L 2.203125 -2.664062 C 1.695312 -2.777344 1.335938 -2.90625 1.125 -3.042969 C 0.761719 -3.28125 0.578125 -3.640625 0.578125 -4.117188 C 0.578125 -4.632812 0.757812 -5.054688 1.113281 -5.386719 C 1.46875 -5.71875 1.976562 -5.882812 2.628906 -5.882812 C 3.230469 -5.882812 3.742188 -5.738281 4.164062 -5.445312 C 4.582031 -5.15625 4.792969 -4.691406 4.792969 -4.054688 L 4.0625 -4.054688 C 4.023438 -4.363281 3.941406 -4.597656 3.8125 -4.761719 C 3.574219 -5.0625 3.171875 -5.210938 2.605469 -5.210938 C 2.148438 -5.210938 1.816406 -5.113281 1.617188 -4.921875 C 1.417969 -4.730469 1.316406 -4.503906 1.316406 -4.25 C 1.316406 -3.96875 1.433594 -3.761719 1.667969 -3.632812 C 1.820312 -3.550781 2.167969 -3.445312 2.710938 -3.320312 L 3.515625 -3.136719 C 3.902344 -3.046875 4.203125 -2.925781 4.414062 -2.773438 C 4.777344 -2.503906 4.960938 -2.117188 4.960938 -1.605469 C 4.960938 -0.96875 4.730469 -0.515625 4.265625 -0.242188 C 3.804688 0.03125 3.269531 0.167969 2.65625 0.167969 C 1.941406 0.167969 1.382812 -0.015625 0.980469 -0.378906 C 0.578125 -0.742188 0.378906 -1.230469 0.386719 -1.851562 Z M 1.117188 -1.851562 \"/>\n",
       "</symbol>\n",
       "<symbol overflow=\"visible\" id=\"glyph0-2\">\n",
       "<path style=\"stroke:none;\" d=\"M 0.683594 -5.738281 L 4.664062 -5.738281 L 4.664062 -5.035156 L 1.460938 -5.035156 L 1.460938 -3.292969 L 4.277344 -3.292969 L 4.277344 -2.609375 L 1.460938 -2.609375 L 1.460938 0 L 0.683594 0 Z M 0.683594 -5.738281 \"/>\n",
       "</symbol>\n",
       "<symbol overflow=\"visible\" id=\"glyph0-3\">\n",
       "<path style=\"stroke:none;\" d=\"M 3.085938 -5.894531 C 4.097656 -5.894531 4.847656 -5.570312 5.335938 -4.917969 C 5.714844 -4.410156 5.90625 -3.761719 5.90625 -2.96875 C 5.90625 -2.113281 5.6875 -1.398438 5.253906 -0.832031 C 4.742188 -0.164062 4.015625 0.167969 3.070312 0.167969 C 2.1875 0.167969 1.492188 -0.125 0.988281 -0.707031 C 0.539062 -1.269531 0.3125 -1.980469 0.3125 -2.839844 C 0.3125 -3.617188 0.503906 -4.28125 0.890625 -4.832031 C 1.386719 -5.539062 2.117188 -5.894531 3.085938 -5.894531 Z M 3.164062 -0.527344 C 3.847656 -0.527344 4.34375 -0.773438 4.648438 -1.265625 C 4.957031 -1.753906 5.109375 -2.320312 5.109375 -2.957031 C 5.109375 -3.632812 4.933594 -4.175781 4.578125 -4.585938 C 4.226562 -4.996094 3.746094 -5.203125 3.132812 -5.203125 C 2.539062 -5.203125 2.054688 -5 1.679688 -4.59375 C 1.304688 -4.183594 1.117188 -3.582031 1.117188 -2.789062 C 1.117188 -2.152344 1.277344 -1.617188 1.601562 -1.179688 C 1.921875 -0.746094 2.441406 -0.527344 3.164062 -0.527344 Z M 3.164062 -0.527344 \"/>\n",
       "</symbol>\n",
       "<symbol overflow=\"visible\" id=\"glyph0-4\">\n",
       "<path style=\"stroke:none;\" d=\"M 0.609375 -5.738281 L 1.386719 -5.738281 L 1.386719 -0.683594 L 4.292969 -0.683594 L 4.292969 0 L 0.609375 0 Z M 0.609375 -5.738281 \"/>\n",
       "</symbol>\n",
       "<symbol overflow=\"visible\" id=\"glyph0-5\">\n",
       "<path style=\"stroke:none;\" d=\"M 3.554688 -2.351562 L 2.683594 -4.886719 L 1.757812 -2.351562 Z M 2.277344 -5.738281 L 3.15625 -5.738281 L 5.238281 0 L 4.386719 0 L 3.804688 -1.71875 L 1.535156 -1.71875 L 0.914062 0 L 0.117188 0 Z M 2.277344 -5.738281 \"/>\n",
       "</symbol>\n",
       "<symbol overflow=\"visible\" id=\"glyph0-6\">\n",
       "<path style=\"stroke:none;\" d=\"M 1.101562 0 L 0.164062 0 L 2.21875 -2.941406 L 0.292969 -5.738281 L 1.265625 -5.738281 L 2.730469 -3.542969 L 4.183594 -5.738281 L 5.109375 -5.738281 L 3.183594 -2.941406 L 5.203125 0 L 4.238281 0 L 2.691406 -2.359375 Z M 1.101562 0 \"/>\n",
       "</symbol>\n",
       "<symbol overflow=\"visible\" id=\"glyph0-7\">\n",
       "<path style=\"stroke:none;\" d=\"M 0.609375 -5.738281 L 1.367188 -5.738281 L 1.367188 -2.941406 L 4.164062 -5.738281 L 5.238281 -5.738281 L 2.851562 -3.425781 L 5.304688 0 L 4.292969 0 L 2.285156 -2.878906 L 1.367188 -2 L 1.367188 0 L 0.609375 0 Z M 0.609375 -5.738281 \"/>\n",
       "</symbol>\n",
       "</g>\n",
       "</defs>\n",
       "<g id=\"surface56\">\n",
       "<rect x=\"0\" y=\"0\" width=\"250\" height=\"250\" style=\"fill:rgb(100%,100%,100%);fill-opacity:1;stroke:none;\"/>\n",
       "<path style=\"fill:none;stroke-width:1;stroke-linecap:butt;stroke-linejoin:miter;stroke:rgb(26.666667%,26.666667%,26.666667%);stroke-opacity:1;stroke-miterlimit:10;\" d=\"M 200 50 C 139.945312 73.058594 84.863281 138.109375 117.894531 180.75 \"/>\n",
       "<path style=\" stroke:none;fill-rule:nonzero;fill:rgb(26.666667%,26.666667%,26.666667%);fill-opacity:1;\" d=\"M 126.632812 192.027344 L 114.230469 183.585938 L 121.5625 177.910156 L 126.632812 192.027344 \"/>\n",
       "<path style=\"fill:none;stroke-width:1;stroke-linecap:butt;stroke-linejoin:miter;stroke:rgb(26.666667%,26.666667%,26.666667%);stroke-opacity:1;stroke-miterlimit:10;\" d=\"M 200 50 C 157.570312 15.445312 111.050781 10.285156 68.777344 44.753906 \"/>\n",
       "<path style=\" stroke:none;fill-rule:nonzero;fill:rgb(26.666667%,26.666667%,26.666667%);fill-opacity:1;\" d=\"M 57.722656 53.769531 L 65.847656 41.160156 L 71.707031 48.34375 L 57.722656 53.769531 \"/>\n",
       "<path style=\"fill:none;stroke-width:1;stroke-linecap:butt;stroke-linejoin:miter;stroke:rgb(26.666667%,26.666667%,26.666667%);stroke-opacity:1;stroke-miterlimit:10;\" d=\"M 132.808594 200 C 188.355469 175.914062 216.664062 132.96875 204.773438 73.769531 \"/>\n",
       "<path style=\" stroke:none;fill-rule:nonzero;fill:rgb(26.666667%,26.666667%,26.666667%);fill-opacity:1;\" d=\"M 201.964844 59.78125 L 209.320312 72.855469 L 200.230469 74.683594 L 201.964844 59.78125 \"/>\n",
       "<path style=\"fill:none;stroke-width:1;stroke-linecap:butt;stroke-linejoin:miter;stroke:rgb(26.666667%,26.666667%,26.666667%);stroke-opacity:1;stroke-miterlimit:10;\" d=\"M 132.808594 200 C 147.535156 139.5 130.605469 68.730469 73.964844 62.640625 \"/>\n",
       "<path style=\" stroke:none;fill-rule:nonzero;fill:rgb(26.666667%,26.666667%,26.666667%);fill-opacity:1;\" d=\"M 59.78125 61.113281 L 74.460938 58.03125 L 73.46875 67.25 L 59.78125 61.113281 \"/>\n",
       "<path style=\"fill:none;stroke-width:1;stroke-linecap:butt;stroke-linejoin:miter;stroke:rgb(26.666667%,26.666667%,26.666667%);stroke-opacity:1;stroke-miterlimit:10;\" d=\"M 50 60.0625 C 92.523438 92.46875 131.316406 84.996094 178.308594 61.050781 \"/>\n",
       "<path style=\" stroke:none;fill-rule:nonzero;fill:rgb(26.666667%,26.666667%,26.666667%);fill-opacity:1;\" d=\"M 191.019531 54.574219 L 180.414062 65.179688 L 176.207031 56.921875 L 191.019531 54.574219 \"/>\n",
       "<path style=\"fill:none;stroke-width:1;stroke-linecap:butt;stroke-linejoin:miter;stroke:rgb(26.666667%,26.666667%,26.666667%);stroke-opacity:1;stroke-miterlimit:10;\" d=\"M 50 60.0625 C 36.164062 119.875 52.175781 182.050781 109.5625 194.824219 \"/>\n",
       "<path style=\" stroke:none;fill-rule:nonzero;fill:rgb(26.666667%,26.666667%,26.666667%);fill-opacity:1;\" d=\"M 123.488281 197.925781 L 108.554688 199.347656 L 110.570312 190.300781 L 123.488281 197.925781 \"/>\n",
       "<path style=\"fill-rule:nonzero;fill:rgb(67.843137%,84.705882%,90.196078%);fill-opacity:1;stroke-width:1;stroke-linecap:butt;stroke-linejoin:miter;stroke:rgb(0%,0%,0%);stroke-opacity:1;stroke-miterlimit:10;\" d=\"M 210 50 C 210 55.523438 205.523438 60 200 60 C 194.476562 60 190 55.523438 190 50 C 190 44.476562 194.476562 40 200 40 C 205.523438 40 210 44.476562 210 50 \"/>\n",
       "<path style=\"fill-rule:nonzero;fill:rgb(100%,75.294118%,79.607843%);fill-opacity:1;stroke-width:1;stroke-linecap:butt;stroke-linejoin:miter;stroke:rgb(0%,0%,0%);stroke-opacity:1;stroke-miterlimit:10;\" d=\"M 142.808594 200 C 142.808594 205.523438 138.332031 210 132.808594 210 C 127.285156 210 122.808594 205.523438 122.808594 200 C 122.808594 194.476562 127.285156 190 132.808594 190 C 138.332031 190 142.808594 194.476562 142.808594 200 \"/>\n",
       "<path style=\"fill-rule:nonzero;fill:rgb(67.843137%,84.705882%,90.196078%);fill-opacity:1;stroke-width:1;stroke-linecap:butt;stroke-linejoin:miter;stroke:rgb(0%,0%,0%);stroke-opacity:1;stroke-miterlimit:10;\" d=\"M 60 60.0625 C 60 65.585938 55.523438 70.0625 50 70.0625 C 44.476562 70.0625 40 65.585938 40 60.0625 C 40 54.539062 44.476562 50.0625 50 50.0625 C 55.523438 50.0625 60 54.539062 60 60.0625 \"/>\n",
       "<g style=\"fill:rgb(0%,0%,0%);fill-opacity:1;\">\n",
       "  <use xlink:href=\"#glyph0-1\" x=\"191.75\" y=\"53.867188\"/>\n",
       "  <use xlink:href=\"#glyph0-2\" x=\"197.085938\" y=\"53.867188\"/>\n",
       "  <use xlink:href=\"#glyph0-3\" x=\"201.972656\" y=\"53.867188\"/>\n",
       "</g>\n",
       "<g style=\"fill:rgb(0%,0%,0%);fill-opacity:1;\">\n",
       "  <use xlink:href=\"#glyph0-4\" x=\"125.011719\" y=\"203.789062\"/>\n",
       "  <use xlink:href=\"#glyph0-5\" x=\"129.460938\" y=\"203.789062\"/>\n",
       "  <use xlink:href=\"#glyph0-6\" x=\"134.796875\" y=\"203.789062\"/>\n",
       "</g>\n",
       "<g style=\"fill:rgb(0%,0%,0%);fill-opacity:1;\">\n",
       "  <use xlink:href=\"#glyph0-3\" x=\"41.414062\" y=\"63.929688\"/>\n",
       "  <use xlink:href=\"#glyph0-5\" x=\"47.636719\" y=\"63.929688\"/>\n",
       "  <use xlink:href=\"#glyph0-7\" x=\"52.972656\" y=\"63.929688\"/>\n",
       "</g>\n",
       "</g>\n",
       "</svg>\n"
      ],
      "text/plain": [
       "<igraph.drawing.cairo.plot.CairoPlot at 0x7ffc2526cc90>"
      ]
     },
     "execution_count": 38,
     "metadata": {
      "image/svg+xml": {
       "isolated": true
      }
     },
     "output_type": "execute_result"
    }
   ],
   "source": [
    "ig.plot(sg, bbox=(250,250), vertex_label=sg.vs['name'], \n",
    "        vertex_label_size=8, margin=50)"
   ]
  },
  {
   "cell_type": "markdown",
   "metadata": {},
   "source": [
    "We've been carrying the weights through, so let's visualize them by setting an edge width attribute. "
   ]
  },
  {
   "cell_type": "code",
   "execution_count": 41,
   "metadata": {},
   "outputs": [],
   "source": [
    "sg.es['width'] = [int(np.log10(x)+1) for x in sg.es['weight']]"
   ]
  },
  {
   "cell_type": "code",
   "execution_count": 42,
   "metadata": {
    "scrolled": false
   },
   "outputs": [
    {
     "data": {
      "image/svg+xml": [
       "<?xml version=\"1.0\" encoding=\"UTF-8\"?>\n",
       "<svg xmlns=\"http://www.w3.org/2000/svg\" xmlns:xlink=\"http://www.w3.org/1999/xlink\" width=\"250pt\" height=\"250pt\" viewBox=\"0 0 250 250\" version=\"1.1\">\n",
       "<defs>\n",
       "<g>\n",
       "<symbol overflow=\"visible\" id=\"glyph0-0\">\n",
       "<path style=\"stroke:none;\" d=\"M 0.257812 0 L 0.257812 -5.738281 L 4.8125 -5.738281 L 4.8125 0 Z M 4.09375 -0.71875 L 4.09375 -5.019531 L 0.976562 -5.019531 L 0.976562 -0.71875 Z M 4.09375 -0.71875 \"/>\n",
       "</symbol>\n",
       "<symbol overflow=\"visible\" id=\"glyph0-1\">\n",
       "<path style=\"stroke:none;\" d=\"M 1.117188 -1.851562 C 1.136719 -1.527344 1.210938 -1.261719 1.347656 -1.058594 C 1.605469 -0.679688 2.058594 -0.488281 2.710938 -0.488281 C 3.003906 -0.488281 3.269531 -0.53125 3.507812 -0.613281 C 3.972656 -0.773438 4.203125 -1.0625 4.203125 -1.480469 C 4.203125 -1.792969 4.105469 -2.015625 3.910156 -2.148438 C 3.710938 -2.277344 3.402344 -2.390625 2.980469 -2.488281 L 2.203125 -2.664062 C 1.695312 -2.777344 1.335938 -2.90625 1.125 -3.042969 C 0.761719 -3.28125 0.578125 -3.640625 0.578125 -4.117188 C 0.578125 -4.632812 0.757812 -5.054688 1.113281 -5.386719 C 1.46875 -5.71875 1.976562 -5.882812 2.628906 -5.882812 C 3.230469 -5.882812 3.742188 -5.738281 4.164062 -5.445312 C 4.582031 -5.15625 4.792969 -4.691406 4.792969 -4.054688 L 4.0625 -4.054688 C 4.023438 -4.363281 3.941406 -4.597656 3.8125 -4.761719 C 3.574219 -5.0625 3.171875 -5.210938 2.605469 -5.210938 C 2.148438 -5.210938 1.816406 -5.113281 1.617188 -4.921875 C 1.417969 -4.730469 1.316406 -4.503906 1.316406 -4.25 C 1.316406 -3.96875 1.433594 -3.761719 1.667969 -3.632812 C 1.820312 -3.550781 2.167969 -3.445312 2.710938 -3.320312 L 3.515625 -3.136719 C 3.902344 -3.046875 4.203125 -2.925781 4.414062 -2.773438 C 4.777344 -2.503906 4.960938 -2.117188 4.960938 -1.605469 C 4.960938 -0.96875 4.730469 -0.515625 4.265625 -0.242188 C 3.804688 0.03125 3.269531 0.167969 2.65625 0.167969 C 1.941406 0.167969 1.382812 -0.015625 0.980469 -0.378906 C 0.578125 -0.742188 0.378906 -1.230469 0.386719 -1.851562 Z M 1.117188 -1.851562 \"/>\n",
       "</symbol>\n",
       "<symbol overflow=\"visible\" id=\"glyph0-2\">\n",
       "<path style=\"stroke:none;\" d=\"M 0.683594 -5.738281 L 4.664062 -5.738281 L 4.664062 -5.035156 L 1.460938 -5.035156 L 1.460938 -3.292969 L 4.277344 -3.292969 L 4.277344 -2.609375 L 1.460938 -2.609375 L 1.460938 0 L 0.683594 0 Z M 0.683594 -5.738281 \"/>\n",
       "</symbol>\n",
       "<symbol overflow=\"visible\" id=\"glyph0-3\">\n",
       "<path style=\"stroke:none;\" d=\"M 3.085938 -5.894531 C 4.097656 -5.894531 4.847656 -5.570312 5.335938 -4.917969 C 5.714844 -4.410156 5.90625 -3.761719 5.90625 -2.96875 C 5.90625 -2.113281 5.6875 -1.398438 5.253906 -0.832031 C 4.742188 -0.164062 4.015625 0.167969 3.070312 0.167969 C 2.1875 0.167969 1.492188 -0.125 0.988281 -0.707031 C 0.539062 -1.269531 0.3125 -1.980469 0.3125 -2.839844 C 0.3125 -3.617188 0.503906 -4.28125 0.890625 -4.832031 C 1.386719 -5.539062 2.117188 -5.894531 3.085938 -5.894531 Z M 3.164062 -0.527344 C 3.847656 -0.527344 4.34375 -0.773438 4.648438 -1.265625 C 4.957031 -1.753906 5.109375 -2.320312 5.109375 -2.957031 C 5.109375 -3.632812 4.933594 -4.175781 4.578125 -4.585938 C 4.226562 -4.996094 3.746094 -5.203125 3.132812 -5.203125 C 2.539062 -5.203125 2.054688 -5 1.679688 -4.59375 C 1.304688 -4.183594 1.117188 -3.582031 1.117188 -2.789062 C 1.117188 -2.152344 1.277344 -1.617188 1.601562 -1.179688 C 1.921875 -0.746094 2.441406 -0.527344 3.164062 -0.527344 Z M 3.164062 -0.527344 \"/>\n",
       "</symbol>\n",
       "<symbol overflow=\"visible\" id=\"glyph0-4\">\n",
       "<path style=\"stroke:none;\" d=\"M 0.609375 -5.738281 L 1.386719 -5.738281 L 1.386719 -0.683594 L 4.292969 -0.683594 L 4.292969 0 L 0.609375 0 Z M 0.609375 -5.738281 \"/>\n",
       "</symbol>\n",
       "<symbol overflow=\"visible\" id=\"glyph0-5\">\n",
       "<path style=\"stroke:none;\" d=\"M 3.554688 -2.351562 L 2.683594 -4.886719 L 1.757812 -2.351562 Z M 2.277344 -5.738281 L 3.15625 -5.738281 L 5.238281 0 L 4.386719 0 L 3.804688 -1.71875 L 1.535156 -1.71875 L 0.914062 0 L 0.117188 0 Z M 2.277344 -5.738281 \"/>\n",
       "</symbol>\n",
       "<symbol overflow=\"visible\" id=\"glyph0-6\">\n",
       "<path style=\"stroke:none;\" d=\"M 1.101562 0 L 0.164062 0 L 2.21875 -2.941406 L 0.292969 -5.738281 L 1.265625 -5.738281 L 2.730469 -3.542969 L 4.183594 -5.738281 L 5.109375 -5.738281 L 3.183594 -2.941406 L 5.203125 0 L 4.238281 0 L 2.691406 -2.359375 Z M 1.101562 0 \"/>\n",
       "</symbol>\n",
       "<symbol overflow=\"visible\" id=\"glyph0-7\">\n",
       "<path style=\"stroke:none;\" d=\"M 0.609375 -5.738281 L 1.367188 -5.738281 L 1.367188 -2.941406 L 4.164062 -5.738281 L 5.238281 -5.738281 L 2.851562 -3.425781 L 5.304688 0 L 4.292969 0 L 2.285156 -2.878906 L 1.367188 -2 L 1.367188 0 L 0.609375 0 Z M 0.609375 -5.738281 \"/>\n",
       "</symbol>\n",
       "</g>\n",
       "</defs>\n",
       "<g id=\"surface74\">\n",
       "<rect x=\"0\" y=\"0\" width=\"250\" height=\"250\" style=\"fill:rgb(100%,100%,100%);fill-opacity:1;stroke:none;\"/>\n",
       "<path style=\"fill:none;stroke-width:7;stroke-linecap:butt;stroke-linejoin:miter;stroke:rgb(26.666667%,26.666667%,26.666667%);stroke-opacity:1;stroke-miterlimit:10;\" d=\"M 200 50 C 139.945312 73.058594 84.863281 138.109375 117.894531 180.75 \"/>\n",
       "<path style=\" stroke:none;fill-rule:nonzero;fill:rgb(26.666667%,26.666667%,26.666667%);fill-opacity:1;\" d=\"M 126.632812 192.027344 L 114.230469 183.585938 L 121.5625 177.910156 L 126.632812 192.027344 \"/>\n",
       "<path style=\"fill:none;stroke-width:2;stroke-linecap:butt;stroke-linejoin:miter;stroke:rgb(26.666667%,26.666667%,26.666667%);stroke-opacity:1;stroke-miterlimit:10;\" d=\"M 200 50 C 157.570312 15.445312 111.050781 10.285156 68.777344 44.753906 \"/>\n",
       "<path style=\" stroke:none;fill-rule:nonzero;fill:rgb(26.666667%,26.666667%,26.666667%);fill-opacity:1;\" d=\"M 57.722656 53.769531 L 65.847656 41.160156 L 71.707031 48.34375 L 57.722656 53.769531 \"/>\n",
       "<path style=\"fill:none;stroke-width:7;stroke-linecap:butt;stroke-linejoin:miter;stroke:rgb(26.666667%,26.666667%,26.666667%);stroke-opacity:1;stroke-miterlimit:10;\" d=\"M 132.808594 200 C 188.355469 175.914062 216.664062 132.96875 204.773438 73.769531 \"/>\n",
       "<path style=\" stroke:none;fill-rule:nonzero;fill:rgb(26.666667%,26.666667%,26.666667%);fill-opacity:1;\" d=\"M 201.964844 59.78125 L 209.320312 72.855469 L 200.230469 74.683594 L 201.964844 59.78125 \"/>\n",
       "<path style=\"fill:none;stroke-width:6;stroke-linecap:butt;stroke-linejoin:miter;stroke:rgb(26.666667%,26.666667%,26.666667%);stroke-opacity:1;stroke-miterlimit:10;\" d=\"M 132.808594 200 C 147.535156 139.5 130.605469 68.730469 73.964844 62.640625 \"/>\n",
       "<path style=\" stroke:none;fill-rule:nonzero;fill:rgb(26.666667%,26.666667%,26.666667%);fill-opacity:1;\" d=\"M 59.78125 61.113281 L 74.460938 58.03125 L 73.46875 67.25 L 59.78125 61.113281 \"/>\n",
       "<path style=\"fill:none;stroke-width:4;stroke-linecap:butt;stroke-linejoin:miter;stroke:rgb(26.666667%,26.666667%,26.666667%);stroke-opacity:1;stroke-miterlimit:10;\" d=\"M 50 60.0625 C 92.523438 92.46875 131.316406 84.996094 178.308594 61.050781 \"/>\n",
       "<path style=\" stroke:none;fill-rule:nonzero;fill:rgb(26.666667%,26.666667%,26.666667%);fill-opacity:1;\" d=\"M 191.019531 54.574219 L 180.414062 65.179688 L 176.207031 56.921875 L 191.019531 54.574219 \"/>\n",
       "<path style=\"fill:none;stroke-width:6;stroke-linecap:butt;stroke-linejoin:miter;stroke:rgb(26.666667%,26.666667%,26.666667%);stroke-opacity:1;stroke-miterlimit:10;\" d=\"M 50 60.0625 C 36.164062 119.875 52.175781 182.050781 109.5625 194.824219 \"/>\n",
       "<path style=\" stroke:none;fill-rule:nonzero;fill:rgb(26.666667%,26.666667%,26.666667%);fill-opacity:1;\" d=\"M 123.488281 197.925781 L 108.554688 199.347656 L 110.570312 190.300781 L 123.488281 197.925781 \"/>\n",
       "<path style=\"fill-rule:nonzero;fill:rgb(67.843137%,84.705882%,90.196078%);fill-opacity:1;stroke-width:1;stroke-linecap:butt;stroke-linejoin:miter;stroke:rgb(0%,0%,0%);stroke-opacity:1;stroke-miterlimit:10;\" d=\"M 210 50 C 210 55.523438 205.523438 60 200 60 C 194.476562 60 190 55.523438 190 50 C 190 44.476562 194.476562 40 200 40 C 205.523438 40 210 44.476562 210 50 \"/>\n",
       "<path style=\"fill-rule:nonzero;fill:rgb(100%,75.294118%,79.607843%);fill-opacity:1;stroke-width:1;stroke-linecap:butt;stroke-linejoin:miter;stroke:rgb(0%,0%,0%);stroke-opacity:1;stroke-miterlimit:10;\" d=\"M 142.808594 200 C 142.808594 205.523438 138.332031 210 132.808594 210 C 127.285156 210 122.808594 205.523438 122.808594 200 C 122.808594 194.476562 127.285156 190 132.808594 190 C 138.332031 190 142.808594 194.476562 142.808594 200 \"/>\n",
       "<path style=\"fill-rule:nonzero;fill:rgb(67.843137%,84.705882%,90.196078%);fill-opacity:1;stroke-width:1;stroke-linecap:butt;stroke-linejoin:miter;stroke:rgb(0%,0%,0%);stroke-opacity:1;stroke-miterlimit:10;\" d=\"M 60 60.0625 C 60 65.585938 55.523438 70.0625 50 70.0625 C 44.476562 70.0625 40 65.585938 40 60.0625 C 40 54.539062 44.476562 50.0625 50 50.0625 C 55.523438 50.0625 60 54.539062 60 60.0625 \"/>\n",
       "<g style=\"fill:rgb(0%,0%,0%);fill-opacity:1;\">\n",
       "  <use xlink:href=\"#glyph0-1\" x=\"191.75\" y=\"53.867188\"/>\n",
       "  <use xlink:href=\"#glyph0-2\" x=\"197.085938\" y=\"53.867188\"/>\n",
       "  <use xlink:href=\"#glyph0-3\" x=\"201.972656\" y=\"53.867188\"/>\n",
       "</g>\n",
       "<g style=\"fill:rgb(0%,0%,0%);fill-opacity:1;\">\n",
       "  <use xlink:href=\"#glyph0-4\" x=\"125.011719\" y=\"203.789062\"/>\n",
       "  <use xlink:href=\"#glyph0-5\" x=\"129.460938\" y=\"203.789062\"/>\n",
       "  <use xlink:href=\"#glyph0-6\" x=\"134.796875\" y=\"203.789062\"/>\n",
       "</g>\n",
       "<g style=\"fill:rgb(0%,0%,0%);fill-opacity:1;\">\n",
       "  <use xlink:href=\"#glyph0-3\" x=\"41.414062\" y=\"63.929688\"/>\n",
       "  <use xlink:href=\"#glyph0-5\" x=\"47.636719\" y=\"63.929688\"/>\n",
       "  <use xlink:href=\"#glyph0-7\" x=\"52.972656\" y=\"63.929688\"/>\n",
       "</g>\n",
       "</g>\n",
       "</svg>\n"
      ],
      "text/plain": [
       "<igraph.drawing.cairo.plot.CairoPlot at 0x7ffc2cf90b50>"
      ]
     },
     "execution_count": 42,
     "metadata": {
      "image/svg+xml": {
       "isolated": true
      }
     },
     "output_type": "execute_result"
    }
   ],
   "source": [
    "## Weighted digraph\n",
    "ig.plot(sg, bbox=(250,250), vertex_label=sg.vs['name'], \n",
    "        vertex_label_size=8, margin=50)"
   ]
  },
  {
   "cell_type": "markdown",
   "metadata": {},
   "source": [
    "### Plotting in igraph\n",
    "\n",
    "* igraph uses **cairo** for plotting, along with a python interface such as **pycairo** or **cairocffi**.\n",
    "* latest versions if igraph can also use **matplotlib** (see example below)\n",
    "* graph can be exported as **networkx** format which can be used in **bokeh** for interactive plotting\n",
    "* another options is to save the graph in DOT format used in **GraphViz**\n"
   ]
  },
  {
   "cell_type": "code",
   "execution_count": null,
   "metadata": {},
   "outputs": [],
   "source": [
    "## using matplotlib - here with multiple plots\n",
    "fig, ((ax1,ax2),(ax3,ax4)) = plt.subplots(2,2, figsize=(8,8))\n",
    "sg = g.subgraph(nodes)\n",
    "ig.plot(sg.as_undirected(combine_edges=sum), bbox=(250,250), vertex_label=sg.vs['name'], \n",
    "        vertex_label_size=8, margin=50, target=ax1)\n",
    "sg = sg.simplify(combine_edges=sum)\n",
    "ig.plot(sg.as_undirected(combine_edges=sum),bbox=(250,250), vertex_label=sg.vs['name'], \n",
    "        vertex_label_size=8, margin=50, target=ax2)\n",
    "ig.plot(sg, bbox=(250,250), vertex_label=sg.vs['name'], \n",
    "        vertex_label_size=6, margin=50, target=ax3)\n",
    "sg.es['width'] = [int(np.log10(x)+1) for x in sg.es['weight']]\n",
    "ig.plot(sg, bbox=(250,250), vertex_label=sg.vs['name'], \n",
    "        vertex_label_size=6, margin=50, target=ax4);"
   ]
  },
  {
   "cell_type": "code",
   "execution_count": null,
   "metadata": {},
   "outputs": [],
   "source": [
    "## graph as list of edges \n",
    "df = pd.DataFrame()\n",
    "df['from'] = [sg.vs[e.tuple[0]]['name'] for e in sg.es]\n",
    "df['to'] = [sg.vs[e.tuple[1]]['name'] for e in sg.es]\n",
    "df['volume'] = [e['weight'] for e in sg.es]\n",
    "df.sort_values(by='volume', ascending=False, inplace=True)\n",
    "df"
   ]
  },
  {
   "cell_type": "code",
   "execution_count": null,
   "metadata": {},
   "outputs": [],
   "source": [
    "## graph as adjacency matrix\n",
    "print(sg.get_adjacency())"
   ]
  },
  {
   "cell_type": "code",
   "execution_count": null,
   "metadata": {},
   "outputs": [],
   "source": [
    "## graph as (weighted) adjacency matrix\n",
    "print(sg.get_adjacency(attribute='weight'))"
   ]
  },
  {
   "cell_type": "markdown",
   "metadata": {},
   "source": [
    "### attributes\n",
    "\n",
    "* common **edge attribute** is the edge weight, or distance\n",
    "* for the airport dataset, we also have a few node attributes\n",
    " * city and state\n",
    " * latitude and longitude (useful for nice layout)"
   ]
  },
  {
   "cell_type": "code",
   "execution_count": null,
   "metadata": {},
   "outputs": [],
   "source": [
    "## read node attributes and add to graph\n",
    "A = pd.read_csv(datadir+'Airports/airports_loc.csv')\n",
    "A.head()"
   ]
  },
  {
   "cell_type": "code",
   "execution_count": null,
   "metadata": {},
   "outputs": [],
   "source": [
    "## we have attribute by vertex name -- map to proper indices\n",
    "lookup = {k:v for v,k in enumerate(A['airport'])}\n",
    "l = [lookup[x] for x in g.vs()['name']]\n",
    "\n",
    "## example\n",
    "v = 0\n",
    "print('vertex',v,':',g.vs[v]['name'], 'is at row', l[v])\n",
    "A.loc[l[v]]"
   ]
  },
  {
   "cell_type": "code",
   "execution_count": null,
   "metadata": {},
   "outputs": [],
   "source": [
    "## store attributes in graph\n",
    "## nb: we use negative latitude for layout due to location of origin\n",
    "g.vs['layout'] = [(A['lon'][i],-A['lat'][i]) for i in l]\n",
    "g.vs['state'] = [A['state'][i] for i in l]\n",
    "g.vs['city'] = [A['city'][i] for i in l]\n"
   ]
  },
  {
   "cell_type": "code",
   "execution_count": null,
   "metadata": {},
   "outputs": [],
   "source": [
    "## let's look at one vertex\n",
    "g.vs[0]"
   ]
  },
  {
   "cell_type": "markdown",
   "metadata": {},
   "source": [
    "### Questions\n",
    "\n",
    "* how many airports are in California (CA)?\n",
    "* which states have the most airports? the least?\n",
    "* which airport is the southernmost? northernmost?\n",
    "* how many connection have at least 1 million passengers?\n"
   ]
  },
  {
   "cell_type": "code",
   "execution_count": null,
   "metadata": {},
   "outputs": [],
   "source": [
    "## airports in CA, three ways\n",
    "print('airports in CA:', len([v for v in g.vs if v['state'] == 'CA']), \n",
    "      sum([v['state']=='CA' for v in g.vs]),\n",
    "      sum(A['state']=='CA'))\n",
    "\n",
    "## states with most airports\n",
    "print('\\nmost airports:',Counter(g.vs['state']).most_common(5))\n",
    "\n",
    "## states with the least airports\n",
    "print('\\nleast airports:',Counter(g.vs['state']).most_common()[-5:])\n",
    "\n",
    "## north/south\n",
    "latitude = [-x[1] for x in g.vs['layout']]\n",
    "v = np.argmin(latitude)\n",
    "print('\\nsouthernmost:',g.vs[v],'\\n')\n",
    "v = np.argmax(latitude)\n",
    "print('northernmost:',g.vs[v])\n",
    "\n",
    "## 1M+ connections\n",
    "print('\\n1M+ connections:',len([e for e in g.es if e['weight'] >= 1000000]))"
   ]
  },
  {
   "cell_type": "markdown",
   "metadata": {},
   "source": [
    "## 1.2 Exploratory Data Analysis (EDA)"
   ]
  },
  {
   "cell_type": "markdown",
   "metadata": {},
   "source": [
    "### discussion\n",
    "\n",
    "What makes network/graph data challenging?\n",
    "\n",
    "* The points are connected and can therefore not be considered as independent samples\n",
    "* Inference on graphs requires the topological structure: node, edge, neighbourhoods, etc.\n",
    "* The node's topological roles can be highly variable (degree, betweenness, centrality, etc.)\n"
   ]
  },
  {
   "cell_type": "markdown",
   "metadata": {},
   "source": [
    "### visualization\n",
    "\n",
    "* Using a **force directed layout**, we see a small **disconnected component**, this is not uncommon;\n",
    "\n",
    "* In social networks and many other types of graphs, a common situation is to have a **giant component** with most nodes, and some small components.\n",
    "\n",
    "* Using the lat/lon based layout reveals a familiar shape\n"
   ]
  },
  {
   "cell_type": "code",
   "execution_count": null,
   "metadata": {
    "scrolled": false
   },
   "outputs": [],
   "source": [
    "ig.plot(g, vertex_size=5, edge_arrow_size=.5, edge_color='grey', \n",
    "        layout=g.layout_fruchterman_reingold(), bbox=(500,400))"
   ]
  },
  {
   "cell_type": "code",
   "execution_count": null,
   "metadata": {},
   "outputs": [],
   "source": [
    "## lat/lon based layout\n",
    "ig.plot(g, vertex_size=5, edge_arrow_size=.5, edge_color='grey', \n",
    "        layout=g.vs['layout'], bbox=(500,400))"
   ]
  },
  {
   "cell_type": "code",
   "execution_count": null,
   "metadata": {},
   "outputs": [],
   "source": [
    "## we can zoom in on a single state\n",
    "sg = g.subgraph([v for v in g.vs if v['state']=='MN'])\n",
    "ig.plot(sg,bbox=(450,350), vertex_label=sg.vs['name'], vertex_size=15,layout=sg.vs['layout'],\n",
    "            vertex_label_size=6, margin=50)"
   ]
  },
  {
   "cell_type": "markdown",
   "metadata": {},
   "source": [
    "### Node degree(s)\n",
    "\n",
    "A key node feature is their **degree**.\n",
    "\n",
    "With a **directed graph**, we can distinguish 4 concepts of degree (!)\n",
    "\n",
    "* in-degree: number of edges coming in\n",
    "* out-degree: number of edges going out\n",
    "* total degree: sum of the above 2 quantities\n",
    "* (undirected) degree: degree when reducing to **undirected** graph\n"
   ]
  },
  {
   "cell_type": "code",
   "execution_count": null,
   "metadata": {
    "scrolled": true
   },
   "outputs": [],
   "source": [
    "## computing node degree ... in 4 different ways!\n",
    "d = pd.DataFrame()\n",
    "d['node'] = g.vs['name']\n",
    "d['in-deg'] = g.degree(mode='in')\n",
    "d['out-deg'] = g.degree(mode='out')\n",
    "d['total-deg'] = g.degree(mode='all')\n",
    "d['und-deg'] = g.as_undirected().degree()\n",
    "d.loc[d['node'].isin(['SFO','LAX','OAK','OPF'])]"
   ]
  },
  {
   "cell_type": "code",
   "execution_count": null,
   "metadata": {},
   "outputs": [],
   "source": [
    "## Ego-net of a node: subgraph induced by a node and its neighbours\n",
    "## OPF's ego-net - Miami executive airport\n",
    "sg = g.induced_subgraph(g.neighborhood(g.vs.find(name='OPF')))\n",
    "ig.plot(sg, bbox=(300,300), vertex_label=sg.vs['name'], \n",
    "            vertex_label_size=8, margin=50)"
   ]
  },
  {
   "cell_type": "code",
   "execution_count": null,
   "metadata": {
    "scrolled": false
   },
   "outputs": [],
   "source": [
    "## undirected\n",
    "sg = sg.as_undirected()\n",
    "ig.plot(sg, bbox=(300,300), vertex_label=sg.vs['name'], \n",
    "            vertex_label_size=8, vertex_color='lightblue', margin=50)"
   ]
  },
  {
   "cell_type": "markdown",
   "metadata": {},
   "source": [
    "### Weighted degree a.k.a. Strength\n",
    "\n",
    "With **weighted** graphs, we also define:\n",
    "\n",
    "* in-strength: sum of weights of all incoming edges\n",
    "* out-strength: sum of weights of all outgoing edges\n",
    "* total-strength: sum of the above two quantities\n",
    "\n",
    "When converting a directed graph to undirected, it is common to add the edge weights, so we get the \"total-strength\".\n"
   ]
  },
  {
   "cell_type": "code",
   "execution_count": null,
   "metadata": {},
   "outputs": [],
   "source": [
    "d['in-str'] = g.strength(mode='in', weights='weight')\n",
    "d['out-str'] = g.strength(mode='out', weights='weight')\n",
    "d['total-str'] = g.strength(mode='all', weights='weight')\n",
    "## undirected graph, summing the edge weights\n",
    "d['und-str'] = g.as_undirected(combine_edges=sum).strength(weights='weight')\n",
    "d.loc[d['node'].isin(['SFO','LAX','OAK','OPF'])]"
   ]
  },
  {
   "cell_type": "markdown",
   "metadata": {},
   "source": [
    "### degree distribution\n",
    "\n",
    "Also common in most social-type networks, degree distribution is far from uniform in the airport graph, with lots of low degree nodes, and a small number of high degree ones.\n",
    "\n",
    "This is indicative of **power-law** degree distribution.\n",
    "\n",
    "In such networks, shortest paths between connected nodes are typically short (the **6-degree of separation** phenomenon)."
   ]
  },
  {
   "cell_type": "code",
   "execution_count": null,
   "metadata": {},
   "outputs": [],
   "source": [
    "plt.figure(figsize=(8,3))\n",
    "plt.subplot(121)\n",
    "plt.hist(g.degree(mode='in'), bins=30)\n",
    "plt.title('in-degree')\n",
    "plt.xlabel('degree')\n",
    "plt.ylabel('frequency')\n",
    "plt.subplot(122)\n",
    "plt.hist(g.degree(mode='out'), bins=30)\n",
    "plt.title('out-degree')\n",
    "plt.xlabel('degree');\n"
   ]
  },
  {
   "cell_type": "markdown",
   "metadata": {},
   "source": [
    "### paths and connected components\n",
    "\n",
    "* A **path** is a sequence of edges connecting two nodes\n",
    "* In a **connected component**, there is a path between every pair of nodes\n",
    "* Path length is usually the number of edges (**hop count**), but weights can also be considered\n",
    "* For directed graphs, we can take directionality into account (**strong** connectivity) or not (**weak** connectivity); those are the same in undirected graphs\n"
   ]
  },
  {
   "cell_type": "code",
   "execution_count": null,
   "metadata": {},
   "outputs": [],
   "source": [
    "print('strong connectivity:',g.connected_components(mode='strong').summary())\n",
    "print('weak connectivity:',g.connected_components(mode='weak').summary())\n",
    "\n",
    "## let's save an undirected version of the airport graph\n",
    "g_und = g.as_undirected(combine_edges=sum) ## undirected graph, summing the weights\n",
    "print('undirected connectivity:',g_und.connected_components().summary())"
   ]
  },
  {
   "cell_type": "code",
   "execution_count": null,
   "metadata": {},
   "outputs": [],
   "source": [
    "## shortest (directed) paths\n",
    "print('number of airports:',g.vcount())\n",
    "for ap in [\"OPF\",\"SFO\"]:\n",
    "    print(\"\\nlooking at:\",ap)\n",
    "    v = g.vs.find(name=ap)\n",
    "    sp = g.distances(source=v, mode='out')[0]\n",
    "    print('number of \"unreacheable\" airports:',sum([i == np.inf for i in sp]))\n",
    "    print('mean number of hops to other airports:',np.mean([i for i in sp if i != np.inf ]))\n",
    "    print('max number of hops to other airports:',np.max([i for i in sp if i != np.inf ]))\n"
   ]
  },
  {
   "cell_type": "markdown",
   "metadata": {},
   "source": [
    "###  why are some airports \"unreacheable\"?\n",
    "\n",
    " * 2 airports are in a separate (weak) connected component;\n",
    " * what about the other 18?"
   ]
  },
  {
   "cell_type": "code",
   "execution_count": null,
   "metadata": {},
   "outputs": [],
   "source": [
    "## color unreacheable nodes in red\n",
    "for j in np.where([i == np.inf for i in sp]):\n",
    "    g.vs[j]['color'] = 'red' \n",
    "    "
   ]
  },
  {
   "cell_type": "code",
   "execution_count": null,
   "metadata": {},
   "outputs": [],
   "source": [
    "ig.plot(g, vertex_size=5, edge_arrow_size=.5, edge_color='grey', \n",
    "        layout=g.layout_fruchterman_reingold(), bbox=(500,400))"
   ]
  },
  {
   "cell_type": "code",
   "execution_count": null,
   "metadata": {},
   "outputs": [],
   "source": [
    "## 2 airports in small connected component \n",
    "g.vs['cc'] = g.connected_components('weak').membership\n",
    "print(Counter(g.vs['cc']))\n"
   ]
  },
  {
   "cell_type": "code",
   "execution_count": null,
   "metadata": {},
   "outputs": [],
   "source": [
    "## let's remove those 2\n",
    "v_list = [v['name'] for v in g.vs if v['cc']==1]\n",
    "g_copy = g.copy()\n",
    "g_copy.delete_vertices(v_list)\n"
   ]
  },
  {
   "cell_type": "code",
   "execution_count": null,
   "metadata": {
    "scrolled": false
   },
   "outputs": [],
   "source": [
    "## also remove airports w/o incoming links\n",
    "v_list = [v for v in g_copy.vs if g_copy.degree(v,'in')==0]\n",
    "print('removing',len(v_list),'more')\n",
    "g_copy.delete_vertices(v_list)\n"
   ]
  },
  {
   "cell_type": "code",
   "execution_count": null,
   "metadata": {},
   "outputs": [],
   "source": [
    "## still one left\n",
    "ig.plot(g_copy, vertex_size=5, edge_arrow_size=.5, edge_color='grey', \n",
    "        layout=g_copy.layout_fruchterman_reingold(), bbox=(500,400))"
   ]
  },
  {
   "cell_type": "code",
   "execution_count": null,
   "metadata": {},
   "outputs": [],
   "source": [
    "## recursively remove airports w/o incoming links\n",
    "v_list = [v for v in g_copy.vs if g_copy.degree(v,'in')==0]\n",
    "print('removing',len(v_list),'more')\n",
    "g_copy.delete_vertices(v_list)\n"
   ]
  },
  {
   "cell_type": "code",
   "execution_count": null,
   "metadata": {},
   "outputs": [],
   "source": [
    "## ignoring directionality\n",
    "print('number of airports:',g.vcount())\n",
    "for ap in [\"SFO\",\"OPF\"]:\n",
    "    print(\"\\nlooking at:\",ap)\n",
    "    v = g.vs.find(name=ap)\n",
    "    sp = g.distances(source=v, mode='all')\n",
    "    print('number of unreacheable airports:',sum([i == np.inf for i in sp[0]]))\n",
    "    print('mean number of hops to other airports:',np.mean([i for i in sp[0] if i != np.inf ]))\n",
    "    print('max number of hops to other airports:',np.max([i for i in sp[0] if i != np.inf ]))\n"
   ]
  },
  {
   "cell_type": "markdown",
   "metadata": {},
   "source": [
    "### questions\n",
    "\n",
    "* which route is the busiest one-way? both ways?\n",
    "* which airport has the largest number of outgoing connections? incoming? total?\n",
    "* which airport has the largest number of incoming/outgoing/total passengers? the smallest?\n"
   ]
  },
  {
   "cell_type": "code",
   "execution_count": null,
   "metadata": {},
   "outputs": [],
   "source": [
    "## busiest route (1-way) \n",
    "e = np.argmax(g.es['weight'])\n",
    "print('1-way:',g.vs[g.es[e].tuple[0]]['name'], '---', g.es[e]['weight'], '-->', g.vs[g.es[e].tuple[1]]['name'], )\n",
    "\n",
    "## busiest route (2-way) \n",
    "e = np.argmax(g_und.es['weight'])\n",
    "print('2-way:', g_und.vs[g_und.es[e].tuple[0]]['name'], '---',  g_und.es[e]['weight'], '---', \n",
    "      g_und.vs[g_und.es[e].tuple[1]]['name'],)\n",
    "\n",
    "## outgoing connections\n",
    "x = np.argwhere(g.degree(mode='out') == np.max(g.degree(mode='out'))).flatten()\n",
    "for v in x:\n",
    "    print(g.vs[v]['name'],\"has outgoing connections to\",g.degree(v,'out'),\"airports\")\n",
    "\n",
    "## incoming connections\n",
    "x = np.argwhere(g.degree(mode='in') == np.max(g.degree(mode='in'))).flatten()\n",
    "for v in x:\n",
    "    print(g.vs[v]['name'],\"has incoming connections from\",g.degree(v,'in'),\"airports\")\n",
    "\n",
    "## any connections\n",
    "x = np.argwhere(g_und.degree() == np.max(g_und.degree())).flatten()\n",
    "for v in x:\n",
    "    print(g_und.vs[v]['name'],\"has connections with\",g_und.degree(v),\"airports\")\n",
    "\n",
    "## largest number of passengers - outgoing\n",
    "v = np.argmax(g.strength(mode='out', weights='weight'))\n",
    "print(g.vs[v]['name'],\"has\",g.strength(v,'out', weights='weight'),\"outgoing passengers\")\n",
    "\n",
    "## largest number of passengers - incoming\n",
    "v = np.argmax(g.strength(mode='in', weights='weight'))\n",
    "print(g.vs[v]['name'],\"has\",g.strength(v,'in', weights='weight'),\"incoming passengers\")\n",
    "\n",
    "## largest number of passengers - total\n",
    "v = np.argmax(g_und.strength(weights='weight'))\n",
    "print(g_und.vs[v]['name'],\"has\",g.strength(v, weights='weight'),\"total passengers\")\n",
    "\n",
    "## smallest number of passengers - total\n",
    "v = np.argmin(g_und.strength(weights='weight'))\n",
    "print(g_und.vs[v]['name'],\"has\",g.strength(v, weights='weight'),\"total passengers\")\n"
   ]
  },
  {
   "cell_type": "markdown",
   "metadata": {},
   "source": [
    "## 1.3 Node importance\n"
   ]
  },
  {
   "cell_type": "markdown",
   "metadata": {},
   "source": [
    "### Coreness (k-cores)\n",
    "\n",
    "The **k-core** of a graph is the maximal subgraph where all nodes have degree at least k. The **coreness** of a node is k if it belongs to the k-core, but not the (k+1)-core. \n",
    "\n",
    "This is usually done with the **un-directed** degrees, but one can also look for 'in' and 'out' k-cores.\n",
    "\n",
    "Below we compute coreness for the undirected version of the airport graph. We see:\n",
    "\n",
    "* many nodes in large 50-core subgraph (which we plot)\n",
    "* many nodes with small coreness (1 or 2)\n",
    "\n",
    "Pruning nodes with small coreness often drastically reduces the size of the graph."
   ]
  },
  {
   "cell_type": "code",
   "execution_count": null,
   "metadata": {},
   "outputs": [],
   "source": [
    "## let's drop loops from undiredcted graph\n",
    "g_und = g_und.simplify(combine_edges=sum)\n",
    "\n",
    "## most frequent coreness values\n",
    "g_und.vs['core'] = g_und.coreness()\n",
    "Counter(g_und.vs['core']).most_common(3)"
   ]
  },
  {
   "cell_type": "code",
   "execution_count": null,
   "metadata": {},
   "outputs": [],
   "source": [
    "plt.hist(g_und.vs['core'], bins=25);"
   ]
  },
  {
   "cell_type": "code",
   "execution_count": null,
   "metadata": {},
   "outputs": [],
   "source": [
    "## largest k-core - plot with lat/lon layout\n",
    "sg = g_und.subgraph([v for v in g_und.vs if v['core']==50])\n",
    "ig.plot(sg,bbox=(600,450), vertex_label=sg.vs['name'], vertex_size=15,layout=sg.vs['layout'],\n",
    "            vertex_label_size=6, margin=50)"
   ]
  },
  {
   "cell_type": "markdown",
   "metadata": {},
   "source": [
    "## Centrality, betweenness\n",
    "\n",
    "There are various ways to define the most **important** nodes in a network.\n",
    "Two families of measures are:\n",
    "\n",
    "* Node **centrality**, which includes measures such as **degree** and **pagerank**.\n",
    " * those measure overall connectedness in various ways\n",
    "* **Betweenness** measures the proportion of shortest paths going through some node or edge.\n"
   ]
  },
  {
   "cell_type": "code",
   "execution_count": null,
   "metadata": {
    "scrolled": true
   },
   "outputs": [],
   "source": [
    "## Centrality and nodes betweenness - undirected airport graph\n",
    "df = pd.DataFrame()\n",
    "df['degree'] = g_und.degree()\n",
    "df['pagerank'] = g_und.pagerank(weights='weight')\n",
    "n = g_und.vcount()\n",
    "df['between'] = [2*x/((n-1)*(n-2)) for x in g_und.betweenness()] ## normalized\n",
    "df['state'] = g_und.vs['state']\n",
    "df['city'] = g_und.vs['city']\n",
    "df['name'] = g_und.vs['name']\n",
    "df.sort_values(by='pagerank', inplace=True, ascending=False)\n",
    "df.head()"
   ]
  },
  {
   "cell_type": "code",
   "execution_count": null,
   "metadata": {
    "scrolled": true
   },
   "outputs": [],
   "source": [
    "df.sort_values(by='between', inplace=True, ascending=False)\n",
    "df.head()"
   ]
  },
  {
   "cell_type": "code",
   "execution_count": null,
   "metadata": {
    "scrolled": false
   },
   "outputs": [],
   "source": [
    "plt.scatter(df['degree'],df['pagerank'])\n",
    "plt.xlabel('degree')\n",
    "plt.ylabel('pagerank');"
   ]
  },
  {
   "cell_type": "code",
   "execution_count": null,
   "metadata": {},
   "outputs": [],
   "source": [
    "plt.scatter(df['degree'],df['between'])\n",
    "plt.xlabel('degree')\n",
    "plt.ylabel('betweenness');"
   ]
  },
  {
   "cell_type": "markdown",
   "metadata": {},
   "source": [
    "### questions\n",
    "\n",
    "* there is one node with low degree but betweenness above 0.02\n",
    "  * which node is it?\n",
    "  * what could explain this?\n"
   ]
  },
  {
   "cell_type": "code",
   "execution_count": null,
   "metadata": {},
   "outputs": [],
   "source": [
    "## low degree, high betweenness node\n",
    "print(df.loc[ (df['degree']<25) & (df['between']>.02)])\n",
    "\n",
    "## look at its ego-net ... along with edge weights\n",
    "v = g_und.vs.find('LSV')\n",
    "sg = g_und.subgraph(g_und.neighborhood(v))\n",
    "ig.plot(sg,bbox=(600,400), vertex_label=sg.vs['name'], vertex_size=15,layout=sg.vs['layout'],\n",
    "            vertex_label_size=6, margin=50, edge_label=sg.es['weight'])\n"
   ]
  },
  {
   "cell_type": "markdown",
   "metadata": {},
   "source": [
    "# extra questions - a different graph\n",
    "\n",
    "The airport graph, as well as most social type graphs, have some common structure: \n",
    "* **power-law** degree distribution\n",
    "* **small world** behaviour (a.k.a. 6-degree of separation)\n",
    "    \n",
    "In the 'Example' subdirectory of the datasets, there are two files:\n",
    "* edges: 2-ples, undirected, unweighted edges (no header)\n",
    "* nodes: csv file with node attributes (with header)\n",
    "\n",
    "Beware: node names are integers\n",
    "\n",
    "Follow the steps:\n",
    "\n",
    "* build an undirected, unweighed graph using the 'edges' file and remove loops; how many nodes/edges are there?\n",
    "* plot a histogram of the degree distribution\n",
    "* find mean/max path lengths from a few nodes to all nodes\n",
    "* from the results of the previous 2 tests ... what do you think this graph could be?\n",
    "* load the node attributes, which include lat/lon, use those to plot the graph, what now?\n"
   ]
  },
  {
   "cell_type": "code",
   "execution_count": null,
   "metadata": {},
   "outputs": [],
   "source": [
    "## read edge list and build undirected simple graph\n",
    "gr = ig.Graph.Read_Ncol(datadir+'Example/edges', directed=False, )\n",
    "gr = gr.simplify()\n",
    "print(gr.vcount(), 'nodes and',gr.ecount(),'edges')\n",
    "print(gr.vs[0])"
   ]
  },
  {
   "cell_type": "code",
   "execution_count": null,
   "metadata": {},
   "outputs": [],
   "source": [
    "## degrees - mostly small values ...\n",
    "print('max:',np.max(gr.degree()))\n",
    "plt.hist(gr.degree(), bins=16);"
   ]
  },
  {
   "cell_type": "code",
   "execution_count": null,
   "metadata": {},
   "outputs": [],
   "source": [
    "## shortest paths for some a few node(s) -- much larger values than the airport graph ...\n",
    "print('number of nodes:',gr.vcount())\n",
    "for v in [0,1000]:\n",
    "    print(\"\\nlooking at node:\",v)\n",
    "    sp = gr.distances(source=v)\n",
    "    print('number of unreacheable nodes:',sum([i == np.inf for i in sp[0]]))\n",
    "    print('mean number of hops to other nodes:',np.mean([i for i in sp[0] if i != np.inf ]))\n",
    "    print('max number of hops to other nodes:',np.max([i for i in sp[0] if i != np.inf ]))\n"
   ]
  },
  {
   "cell_type": "code",
   "execution_count": null,
   "metadata": {},
   "outputs": [],
   "source": [
    "## read node attributes\n",
    "X = pd.read_csv(datadir+'Example/nodes')\n",
    "X.head()"
   ]
  },
  {
   "cell_type": "code",
   "execution_count": null,
   "metadata": {},
   "outputs": [],
   "source": [
    "## we have attribute by vertex name -- map to proper indices\n",
    "lookup = {str(k):v for v,k in enumerate(X['name'])}\n",
    "l = [lookup[x] for x in gr.vs()['name']]\n",
    "\n",
    "## store layout attributes in graph and plot\n",
    "## nb: we use negative latitude for layout due to location of origin\n",
    "gr.vs['layout'] = [(X['lon'][i],-X['lat'][i]) for i in l]\n",
    "ig.plot(gr, bbox=(500,400), layout = gr.vs['layout'], vertex_size=3, vertex_color='lightblue', margin=50)\n"
   ]
  },
  {
   "cell_type": "markdown",
   "metadata": {},
   "source": [
    "### Europe Electric Grid\n",
    "\n",
    "Network of high voltage grid in Europe. Vertices are stations and edges are the lines connecting them.\n",
    "More details at: https://zenodo.org/record/47317#.Xt6nzy3MxTY\n"
   ]
  },
  {
   "cell_type": "code",
   "execution_count": null,
   "metadata": {
    "scrolled": true
   },
   "outputs": [],
   "source": [
    "## clean up\n",
    "del(g.vs['cc'])\n",
    "del(g_und.vs['core'])\n",
    "del(gr)"
   ]
  },
  {
   "cell_type": "markdown",
   "metadata": {},
   "source": [
    "# Part 2 - Clustering"
   ]
  },
  {
   "cell_type": "markdown",
   "metadata": {},
   "source": [
    "## 2.1 Random Graph Models\n",
    "\n",
    "Random graph models are useful for various reasons:\n",
    "* interpretation of results on real graphs (ex: is this value expected? high? low?)\n",
    "* to compare algorithms (ex: clustering algorithms)\n",
    "* to study theoretical properties\n",
    "\n",
    "Usually, we fix some aspects of the graph, such as the **number of nodes**, and randomly sample.\n",
    "There are many such models, including:\n",
    "* Erdos-Renyi model: fix the number of nodes and randomly place edges\n",
    "* Chung-Lu/Configuration models: as above, but given a degree distribution for the nodes\n",
    "* Barabasi-Albert model: \"the righ gets richer\" model; a new node is more likely to link with a hub\n",
    "* LFR, ABCD models: power-law node degree distribution with ground-truth communities\n"
   ]
  },
  {
   "cell_type": "code",
   "execution_count": null,
   "metadata": {
    "scrolled": false
   },
   "outputs": [],
   "source": [
    "## Erdos-Renyi graph with same number of nodes/edges as (undirected) airport graph\n",
    "g_er = ig.Graph.Erdos_Renyi(n=g_und.vcount(), m=g_und.ecount())\n",
    "print('min degree',np.min(g_er.degree()),'max degree',np.max(g_er.degree()))\n",
    "ig.plot(g_er, vertex_size=5, vertex_color='lightblue', edge_color='grey', bbox=(500,400))"
   ]
  },
  {
   "cell_type": "code",
   "execution_count": null,
   "metadata": {
    "scrolled": false
   },
   "outputs": [],
   "source": [
    "## Configuration model: same degree sequence as airport graph\n",
    "g_ds = ig.Graph.Degree_Sequence(g_und.degree())\n",
    "print('min degree',np.min(g_ds.degree()),'max degree',np.max(g_ds.degree()))\n",
    "ig.plot(g_ds, vertex_size=5, vertex_color='lightblue', edge_color='grey', bbox=(500,400))"
   ]
  },
  {
   "cell_type": "markdown",
   "metadata": {},
   "source": [
    "## 2.2 Triangles and Transitivity\n",
    "\n",
    "* Edges represent relations between entities (nodes) in graphs/networks.\n",
    "\n",
    "* The next fundamental motifs are **triangles**\n",
    "\n",
    "* The presence of triangles is indicative of communities (dense subgraph(s) in a graph)\n",
    "\n",
    "* Two fundamental measures of the presence of triangles in graphs are:\n",
    "\n",
    "    * **transitivity** (global clustering coefficients) measures the proportion of wedges (two-hop path in an undirected graph) that form a triangle\n",
    "    * **local transitivity** (local clustering coefficient) for a node is the proportion of pairs of neighbours that form a triangle; we also define the **average local transitivity** by averaging over all nodes of degree at least 2.\n",
    "\n",
    "Those measures assume **undirected** graphs.\n",
    "\n",
    "While we can define triangles and other motifs for directed graphs, clustering generally assumes undirected graphs.\n",
    "\n",
    "We compute the above for the airport graph, as we look for nodes with high/low local transitivity."
   ]
  },
  {
   "cell_type": "code",
   "execution_count": null,
   "metadata": {},
   "outputs": [],
   "source": [
    "## airport graph transitivity\n",
    "print('trans:',g_und.transitivity_undirected())\n",
    "print('avg local trans:',g_und.transitivity_avglocal_undirected())\n"
   ]
  },
  {
   "cell_type": "code",
   "execution_count": null,
   "metadata": {},
   "outputs": [],
   "source": [
    "## local transitivity - nodes with degree < 2 will get 0\n",
    "g_und.vs['trans'] = g_und.transitivity_local_undirected(mode='zero') \n",
    "\n",
    "## high transitivity\n",
    "v = np.argmax(g_und.vs['trans'])\n",
    "print('airport:',g_und.vs[v]['name'],', plotting its ego-net:')\n",
    "sg = g_und.subgraph(g_und.neighborhood(v))\n",
    "ig.plot(sg,bbox=(400,300), vertex_label=sg.vs['name'], vertex_size=15,layout=sg.vs['layout'],\n",
    "            vertex_label_size=6, vertex_color='lightblue', margin=50)\n"
   ]
  },
  {
   "cell_type": "code",
   "execution_count": null,
   "metadata": {},
   "outputs": [],
   "source": [
    "## transitivity for an ER graph\n",
    "print('trans:',g_er.transitivity_undirected())\n",
    "print('avg local trans:',g_er.transitivity_avglocal_undirected())\n"
   ]
  },
  {
   "cell_type": "code",
   "execution_count": null,
   "metadata": {},
   "outputs": [],
   "source": [
    "## transitivity for random graph with the same degree sequence\n",
    "print('trans:',g_ds.transitivity_undirected())\n",
    "print('avg local trans:',g_ds.transitivity_avglocal_undirected())\n"
   ]
  },
  {
   "cell_type": "markdown",
   "metadata": {},
   "source": [
    "### Cliques\n",
    "\n",
    "Triangles are also known as **3-cliques**; \n",
    "a clique of size k is a fully connected subgraph with k nodes.\n",
    "\n",
    "The **clique number** is the size of the largest clique.\n"
   ]
  },
  {
   "cell_type": "code",
   "execution_count": null,
   "metadata": {},
   "outputs": [],
   "source": [
    "## cliques in the airport graph\n",
    "print('number of 3-cliques:',len(g_und.cliques(min=3, max=3)))\n",
    "print('number of 4-cliques:',len(g_und.cliques(min=4, max=4)))\n",
    "print('max clique:',g_und.clique_number())"
   ]
  },
  {
   "cell_type": "code",
   "execution_count": null,
   "metadata": {},
   "outputs": [],
   "source": [
    "## cliques in the ER graph\n",
    "print('number of 3-cliques:',len(g_er.cliques(min=3, max=3)))\n",
    "print('number of 4-cliques:',len(g_er.cliques(min=4, max=4)))\n",
    "print('max clique:',g_er.clique_number())"
   ]
  },
  {
   "cell_type": "code",
   "execution_count": null,
   "metadata": {},
   "outputs": [],
   "source": [
    "## cliques in the degree sequence graph\n",
    "print('number of 3-cliques:',len(g_ds.cliques(min=3, max=3)))\n",
    "print('number of 4-cliques:',len(g_ds.cliques(min=4, max=4)))\n",
    "print('max clique:',g_ds.clique_number())"
   ]
  },
  {
   "cell_type": "markdown",
   "metadata": {},
   "source": [
    "### directed graphs\n",
    "\n",
    "Clique finding assumes undirected graphs (see below).\n",
    "\n",
    "For directed graphs, there are 16 different possibilities for each **triad**\n",
    "\n",
    "REF: \"The Structure of Positive Interpersonal Relations in Small Groups (1967)\"\n",
    "\n",
    "The **triad census** function counts all occurrences, and returns the counts in a specific ordering:\n",
    "* '003': no edge\n",
    "* '012': 1 directed edge only\n",
    "* '102': 2 directed edges in opposite direction between the same pair of nodes\n",
    "* ...\n",
    "* '300': all 6 directed edges are present.\n"
   ]
  },
  {
   "cell_type": "code",
   "execution_count": null,
   "metadata": {},
   "outputs": [],
   "source": [
    "## 3-cliques on directed airport graph\n",
    "len(g.cliques(min=3,max=3))"
   ]
  },
  {
   "cell_type": "code",
   "execution_count": null,
   "metadata": {},
   "outputs": [],
   "source": [
    "## triads\n",
    "tc = g.triad_census()\n",
    "print('number of triads:',np.sum(tc))\n",
    "print('by type:',tuple(tc))"
   ]
  },
  {
   "cell_type": "markdown",
   "metadata": {},
   "source": [
    "### questions\n",
    "\n",
    "* find the node in the undirected airport graph with degree 5 or more having the lowest transitivity; didn't we see that node before?\n",
    "* which triad motif is the rarest in the (directed) airport graph? \n"
   ]
  },
  {
   "cell_type": "code",
   "execution_count": null,
   "metadata": {},
   "outputs": [],
   "source": [
    "## node with low transitivity, degree at least 5\n",
    "x = np.argmin([v['trans'] for v in g_und.vs if g_und.degree(v)>=5])\n",
    "v = [v for v in g_und.vs if g_und.degree(v)>=5][x]\n",
    "print('airport:',v['name'],', plotting its ego-net:')\n",
    "sg = g_und.subgraph(g_und.neighborhood(v))\n",
    "ig.plot(sg,bbox=(400,300), vertex_label=sg.vs['name'], vertex_size=15,layout=sg.vs['layout'],\n",
    "            vertex_label_size=6, vertex_color='lightblue', margin=50)\n",
    "\n",
    "## Recall that LSV is also the node we found to have low degree/centrality, but relatively high betweenness\n"
   ]
  },
  {
   "cell_type": "code",
   "execution_count": null,
   "metadata": {
    "scrolled": true
   },
   "outputs": [],
   "source": [
    "## The rarest triad motif is the 10th, which is motif '030C', a cycle of directed edges.\n",
    "\n",
    "## There are more node pairs with two edges than with a single edge.\n",
    "print('number of edges:',g.ecount())\n",
    "g.es['mark'] = 1\n",
    "print(Counter(g.as_undirected(combine_edges=sum).es['mark']))\n",
    "del(g.es['mark'])"
   ]
  },
  {
   "cell_type": "code",
   "execution_count": null,
   "metadata": {},
   "outputs": [],
   "source": [
    "## clean-up\n",
    "del(g_und.vs['trans'])"
   ]
  },
  {
   "cell_type": "markdown",
   "metadata": {},
   "source": [
    "## 2.3 Clustering\n",
    "\n",
    "Graph clustering, a.k.a. node partitioning, is a very active research area, with dozens of algorithms.\n",
    "Some good ones are:\n",
    "\n",
    "* Louvain (multilevel): \n",
    "    * modularity optimization \n",
    "    * suffers from resolution limit (may merge \"natural\" communities)\n",
    "    * may return disconnected communities\n",
    "    * fast\n",
    "    * somewhat unstable for graphs with homogeneous edge weights\n",
    "* Leiden:\n",
    "    * Louvain-based\n",
    "    * faster\n",
    "    * communities are all connected\n",
    "* ECG (ensemble clustering):\n",
    "    * Louvain-based\n",
    "    * better stability for graphs with homogeneous edge weights\n",
    "    * less affected by resolution limit\n",
    "* Infomap\n",
    "    * based on information theory concepts: encoding random walks is shorter within communities\n",
    "    * good results with low to moderate noise graphs\n",
    "    * may not converge at all for noisy graphs\n",
    "* Label Propagation\n",
    "    * very fast\n",
    "    * will not converge at all for noisy graphs\n",
    "\n",
    "Measures of community strength include:\n",
    "* modularity (\"proportion of edges. within communities\" - \"expected proportion under null model\")\n",
    "* comparing degree within and between communities overall\n",
    "* comarting degree within and between communities for each vertex"
   ]
  },
  {
   "cell_type": "code",
   "execution_count": null,
   "metadata": {},
   "outputs": [],
   "source": [
    "## clustering the ER graph\n",
    "ec = g_er.community_ecg()\n",
    "print('number of communities:',np.max(ec.membership)+1)\n",
    "print('modularity:',g_er.modularity(ec.membership))\n",
    "\n",
    "## collapse communities - show degree between and within communities\n",
    "g_er.es['label'] = 1\n",
    "G = ec.cluster_graph(combine_edges=sum)\n",
    "G.vs['label'] = [2*G.ecount() for G in ec.subgraphs()]\n",
    "ig.plot(G, bbox=(400,300), vertex_label_size=8, edge_label_size=8)\n"
   ]
  },
  {
   "cell_type": "markdown",
   "metadata": {},
   "source": [
    "### ABCD graphs to compare algorithms\n",
    "\n",
    "This model generates graphs with power-law degree distribution and communities.\n",
    "\n",
    "The strength of the communities is adjusted via a 'noise' parameter 'mu'.\n",
    "\n",
    "Code is very fast (Julia): https://github.com/bkamins/ABCDGraphGenerator.jl\n",
    "\n",
    "Even faster multi-thread version: https://github.com/tolcz/ABCDeGraphGenerator.jl\n",
    "\n",
    "Generalizations in development:\n",
    "* graphs with communities and outlier nodes\n",
    "* hypergraphs\n",
    "\n",
    "We'll look at two ABCD graphs, along with ground-truth communities:\n",
    "\n",
    "* 1000 nodes, 14 communities, 1/3 'noise' edges (mu = 0.33)\n",
    "* 1000 nodes, 14 communities, 2/3 'noise' edges (mu = 0.67)"
   ]
  },
  {
   "cell_type": "markdown",
   "metadata": {},
   "source": [
    "### Comparing resulting communities\n",
    "\n",
    "When ground truth is available, good measures to compare various clustering results are:\n",
    "* Adjusted mutual information (AMI)\n",
    "* Adjusted RAND index (ARI)\n",
    "* Adjusted graph-aware RAND index (AGRI)"
   ]
  },
  {
   "cell_type": "code",
   "execution_count": null,
   "metadata": {},
   "outputs": [],
   "source": [
    "def print_scores(g, clustering):\n",
    "    print('Number of communities:', np.max(clustering.membership)+1)\n",
    "    print('AMI:', AMI(g.vs['gt'],clustering.membership),\n",
    "          '\\tARI:', ARI(g.vs['gt'],clustering.membership),\n",
    "          '\\tAGRI:', partition_igraph.gam(g, {k:v['gt'] for k,v in enumerate(g.vs)}, clustering))\n",
    "    print('modularity:', g.modularity(clustering.membership))"
   ]
  },
  {
   "cell_type": "code",
   "execution_count": null,
   "metadata": {},
   "outputs": [],
   "source": [
    "mu = 33 ## 1/3 noise edges\n",
    "\n",
    "## load edges, build graph\n",
    "df = pd.read_csv(datadir+'ABCD/edges_'+str(mu)+'.dat', sep='\\t', header=None)\n",
    "abcd33 = ig.Graph.TupleList([tuple(x) for x in df.values], directed=False)\n",
    "\n",
    "## load ground-truth communities - add as node attribute\n",
    "df = pd.read_csv(datadir+'ABCD/communities_'+str(mu)+'.dat', sep='\\t', header=None)\n",
    "gt = dict([tuple(x) for x in df.values])\n",
    "abcd33.vs['gt'] = [gt[x] for x in abcd33.vs['name']]\n",
    "\n",
    "## try some algorithms\n",
    "print('Number of ground-truth communities:', np.max(abcd33.vs['gt']),'\\n')\n",
    "print('Louvain:')\n",
    "print_scores(abcd33, abcd33.community_multilevel())\n",
    "print('\\nLeiden:')\n",
    "print_scores(abcd33, abcd33.community_leiden(objective_function='modularity'))\n",
    "print('\\nECG:')\n",
    "print_scores(abcd33, abcd33.community_ecg())\n",
    "print('\\nInfomap:')\n",
    "print_scores(abcd33, abcd33.community_infomap())\n",
    "print('\\nLabel Propagation:')\n",
    "print_scores(abcd33, abcd33.community_label_propagation())\n",
    "\n",
    "## color w.r.t. ground truth communities\n",
    "nc = max(abcd33.vs['gt'])\n",
    "pal = ig.ClusterColoringPalette(nc+1)\n",
    "abcd33.vs['color'] = [pal.get(i) for i in abcd33.vs['gt']]\n",
    "ly = abcd33.layout_fruchterman_reingold()\n",
    "ig.plot(abcd33, layout=ly, vertex_size=5, bbox=(0,0,500,400), edge_color='lightgrey')\n"
   ]
  },
  {
   "cell_type": "code",
   "execution_count": null,
   "metadata": {
    "scrolled": false
   },
   "outputs": [],
   "source": [
    "## collapse communities - show degree between and within communities\n",
    "ec = abcd33.community_ecg()\n",
    "abcd33.es['label'] = 1\n",
    "G = ec.cluster_graph(combine_edges={'label':sum})\n",
    "G.vs['label'] = [2*G.ecount() for G in ec.subgraphs()]\n",
    "del(abcd33.es['label']) ## clean up\n",
    "ig.plot(G, bbox=(400,300), vertex_label_size=8, edge_label_size=8)"
   ]
  },
  {
   "cell_type": "code",
   "execution_count": null,
   "metadata": {},
   "outputs": [],
   "source": [
    "mu = 67 ## 2/3 noise edges\n",
    "\n",
    "## load edges, build graph\n",
    "df = pd.read_csv(datadir+'ABCD/edges_'+str(mu)+'.dat', sep='\\t', header=None)\n",
    "abcd67 = ig.Graph.TupleList([tuple(x) for x in df.values], directed=False)\n",
    "\n",
    "## load ground-truth communities - add as node attribute\n",
    "df = pd.read_csv(datadir+'ABCD/communities_'+str(mu)+'.dat', sep='\\t', header=None)\n",
    "gt = dict([tuple(x) for x in df.values])\n",
    "abcd67.vs['gt'] = [gt[x] for x in abcd67.vs['name']]\n",
    "\n",
    "## try some algorithms\n",
    "print('Number of ground-truth communities:', np.max(abcd67.vs['gt']),'\\n')\n",
    "print('Louvain:')\n",
    "print_scores(abcd67, abcd67.community_multilevel())\n",
    "print('\\nLeiden:')\n",
    "print_scores(abcd67, abcd67.community_leiden(objective_function='modularity'))\n",
    "print('\\nECG:')\n",
    "print_scores(abcd67, abcd67.community_ecg())\n",
    "print('\\nInfomap:')\n",
    "print_scores(abcd67, abcd67.community_infomap())\n",
    "print('\\nLabel Propagation:')\n",
    "print_scores(abcd67, abcd67.community_label_propagation())\n",
    "\n",
    "## color w.r.t. ground truth communities\n",
    "nc = max(abcd67.vs['gt'])\n",
    "pal = ig.ClusterColoringPalette(nc+1)\n",
    "abcd67.vs['color'] = [pal.get(i) for i in abcd67.vs['gt']]\n",
    "ly = abcd67.layout_fruchterman_reingold()\n",
    "ig.plot(abcd67, layout=ly, vertex_size=5, bbox=(0,0,500,400), edge_color='lightgrey')\n"
   ]
  },
  {
   "cell_type": "code",
   "execution_count": null,
   "metadata": {},
   "outputs": [],
   "source": [
    "## collapse communities - show degree between and within communities\n",
    "ec = abcd67.community_ecg()\n",
    "abcd67.es['label'] = 1\n",
    "G = ec.cluster_graph(combine_edges={'label':sum})\n",
    "G.vs['label'] = [2*G.ecount() for G in ec.subgraphs()]\n",
    "del(abcd67.es['label']) ## clean up\n",
    "ig.plot(G, bbox=(400,300), vertex_label_size=8, edge_label_size=8)"
   ]
  },
  {
   "cell_type": "markdown",
   "metadata": {},
   "source": [
    "### clusters in the airport graph"
   ]
  },
  {
   "cell_type": "code",
   "execution_count": null,
   "metadata": {},
   "outputs": [],
   "source": [
    "## Louvain algorithm is randomized - fix the seed to compare results\n",
    "import random\n",
    "random.seed(31416)"
   ]
  },
  {
   "cell_type": "code",
   "execution_count": null,
   "metadata": {},
   "outputs": [],
   "source": [
    "## Louvain clusters (weighted graph)\n",
    "ml = g_und.community_multilevel(weights='weight')\n",
    "g_und.vs['ml'] = ml.membership\n",
    "pal = ig.ClusterColoringPalette(n=np.max(ml.membership)+1)\n",
    "g_und.vs['color'] = [pal.get(i) for i in ml.membership]\n",
    "\n",
    "## lat/lon based layout\n",
    "print('modularity:',g_und.modularity(ml.membership, weights='weight'))\n",
    "ig.plot(g_und, vertex_size=5, edge_color='grey', layout=g.vs['layout'], bbox=(500,400))"
   ]
  },
  {
   "cell_type": "code",
   "execution_count": null,
   "metadata": {
    "scrolled": false
   },
   "outputs": [],
   "source": [
    "## collapse communities - show degree between and within communities\n",
    "g_und.es['label'] = 1\n",
    "g_und.vs['lat'] = [v['layout'][0] for v in g_und.vs]\n",
    "g_und.vs['lon'] = [v['layout'][1] for v in g_und.vs]\n",
    "G = ml.cluster_graph(combine_vertices={'lat':np.mean,'lon':np.mean}, combine_edges={'label':sum})\n",
    "G.vs['label'] = [2*G.ecount() for G in ml.subgraphs()]\n",
    "ly = [(v['lat'],v['lon']) for v in G.vs]\n",
    "ig.plot(G, layout=ly, bbox=(450,350), vertex_label_size=8, edge_label_size=8, vertex_color='lightblue')"
   ]
  },
  {
   "cell_type": "code",
   "execution_count": null,
   "metadata": {},
   "outputs": [],
   "source": [
    "## clean up\n",
    "del(g_und.es['label'])\n",
    "del(g_und.vs['lat'])\n",
    "del(g_und.vs['lon'])"
   ]
  },
  {
   "cell_type": "markdown",
   "metadata": {},
   "source": [
    "### ego-nets and communities\n",
    "\n",
    "Suppose we want to look at node \"near\" some seed node $v$. One common way to do this is to look at its **ego-net**, i.e. the subgraph consisting of node $v$ and all other nodes that can be reached from $v$ in $k$ hops or less, where $k$ is small, typically 1 or 2. \n",
    "\n",
    "Such subgraphs can become large quickly as we increase $k$. In the cells below, we look at ego-nets and compare with another approach to extract subgraph(s) around $v$ via clustering.\n",
    "\n",
    "We consider the undirected airport graph. We compare ego-nets (1 and 2-hops subgraphs from a given node) with clusters obtained via graph clustering for some vertex $v$ (you can try other vertices)."
   ]
  },
  {
   "cell_type": "code",
   "execution_count": null,
   "metadata": {},
   "outputs": [],
   "source": [
    "## pick a vertex v (not too high degree to allow for easy viz)\n",
    "v = g_und.vs.find('SCF').index\n",
    "g_und.vs['color'] = 'lightblue'\n",
    "g_und.vs[v]['color'] = 'black'\n",
    "\n",
    "## show its ego-net for k=1 (vertex v in black)\n",
    "sg = g_und.subgraph([i for i in g_und.neighborhood(v,order=1)])\n",
    "print(sg.vcount(),'nodes',sg.ecount(),'edges')\n",
    "ig.plot(sg,bbox=(0,0,300,300), vertex_size=8)"
   ]
  },
  {
   "cell_type": "code",
   "execution_count": null,
   "metadata": {},
   "outputs": [],
   "source": [
    "## show the 2-core of its 2-hops ego-net ... this is already quite large!\n",
    "sg = g_und.subgraph([i for i in g_und.neighborhood(v,order=2)])\n",
    "sg.vs()['core'] = sg.coreness()\n",
    "sg.delete_vertices([v for v in sg.vs if v['core']<2])\n",
    "print(sg.vcount(),'nodes',sg.ecount(),'edges')\n",
    "ig.plot(sg,bbox=(0,0,300,300), vertex_size=8, edge_color='lightgrey')"
   ]
  },
  {
   "cell_type": "code",
   "execution_count": null,
   "metadata": {},
   "outputs": [],
   "source": [
    "## use Louvain clustering and show the 2-core of the cluster containing the selected vertex\n",
    "m = g_und.vs[v]['ml']\n",
    "sg = g_und.subgraph([i for i in range(g_und.vcount()) if ml.membership[i]==m])\n",
    "sg.vs()['core'] = sg.coreness()\n",
    "sg.delete_vertices([v for v in sg.vs if v['core']<2])\n",
    "print(sg.vcount(),'nodes',sg.ecount(),'edges')\n",
    "ig.plot(sg,bbox=(0,0,300,300), vertex_size=8, edge_color='lightgrey')"
   ]
  },
  {
   "cell_type": "code",
   "execution_count": null,
   "metadata": {},
   "outputs": [],
   "source": [
    "## prune nodes 3+ hops away\n",
    "v = sg.vs.find(color='black')\n",
    "ssg = sg.subgraph([i for i in sg.neighborhood(v,order=2)])\n",
    "ssg.vs()['core'] = ssg.coreness()\n",
    "ssg.delete_vertices([v for v in ssg.vs if v['core']<2])\n",
    "print(ssg.vcount(),'nodes',ssg.ecount(),'edges')\n",
    "ig.plot(ssg,bbox=(0,0,300,300), vertex_size=8, edge_color='lightgrey')"
   ]
  },
  {
   "cell_type": "markdown",
   "metadata": {},
   "source": [
    "### questions\n",
    "\n",
    "for the airport (undirected) graph:\n",
    "* what are the most frequent states in each of the Louvain clusters (ml) we found?\n",
    "* find all nodes of degree at least 10 that have all of their neighbours in their own Louvain cluster\n"
   ]
  },
  {
   "cell_type": "code",
   "execution_count": null,
   "metadata": {},
   "outputs": [],
   "source": [
    "## Louvain - most frequent states\n",
    "for sg in ml.subgraphs():\n",
    "    print('cluster:',sg.vcount(),'nodes, frequent states:',Counter(sg.vs['state']).most_common(5))\n",
    "    \n",
    "## store community and degree for each node for quick reference\n",
    "g_und.vs['ml'] = ml.membership\n",
    "g_und.vs['degree'] = g_und.degree()\n",
    "\n",
    "## compute number of neighbours in same community for each node\n",
    "for v in g_und.vs:\n",
    "    if len(set([g_und.vs[w]['ml'] for w in g_und.neighborhood(v)])) == 1:\n",
    "        if v['degree'] >= 10:\n",
    "            print(v['name'],v['city'],v['state'],v['degree'])"
   ]
  },
  {
   "cell_type": "code",
   "execution_count": null,
   "metadata": {},
   "outputs": [],
   "source": [
    "## clean-up\n",
    "del(g_und.vs['ml'])\n",
    "del(g_und.vs['degree'])"
   ]
  },
  {
   "cell_type": "markdown",
   "metadata": {},
   "source": [
    "# To go further\n",
    "\n",
    "More topics can be found in:\n",
    "* book: https://www.ryerson.ca/mining-complex-networks\n",
    "* notebooks: https://github.com/ftheberge/GraphMiningNotebooks\n",
    "    \n",
    "including:   \n",
    "* more centrality measures\n",
    "* clustering: overlapping clusters, outliers    \n",
    "* degree assortativity\n",
    "* vertex and graph embedding\n",
    "* hypergraphs\n",
    "* network robustness\n",
    "* road networks\n"
   ]
  },
  {
   "cell_type": "markdown",
   "metadata": {},
   "source": [
    "## 2.4 Extra module - community-based anomaly detection"
   ]
  },
  {
   "cell_type": "markdown",
   "metadata": {},
   "source": [
    "### New dataset -- American College Football Graph\n",
    "\n",
    "This is a nice, small graph for illustrating anomaly detection methods.\n",
    "\n",
    "The graph consists of 115 US college football teams (nodes) playing games (edges).\n",
    "\n",
    "Teams are part of 12 conferences (the 'communities'):\n",
    "*   0 = Atlantic Coast\n",
    "*   1 = Big East\n",
    "*   2 = Big Ten\n",
    "*   3 = Big Twelve\n",
    "*   4 = Conference USA\n",
    "*   5 = Independents\n",
    "*   6 = Mid-American\n",
    "*   7 = Mountain West\n",
    "*   8 = Pacific Ten\n",
    "*   9 = Southeastern\n",
    "*  10 = Sun Belt\n",
    "*  11 = Western Athletic\n",
    "\n",
    "14 teams out of 115 appear as \"anomalies\", namely:\n",
    "- the 5 teams in #5 conference (Independent) play teams in other conferences \n",
    "- the 7 teams in #10 conference (Sun Belt) are broken in 2 clumps \n",
    "- 2 teams from #11 conference play mainly with #10 conference\n",
    "\n",
    "[REF]: \"Community structure in social and biological networks\", M. Girvan and M. E. J. Newman\n",
    "PNAS June 11, 2002 99 (12) 7821-7826; https://doi.org/10.1073/pnas.122653799\n"
   ]
  },
  {
   "cell_type": "code",
   "execution_count": null,
   "metadata": {},
   "outputs": [],
   "source": [
    "## read graph and communities\n",
    "cfg = ig.Graph.Read_Ncol(datadir+'Football/football.edgelist',directed=False)\n",
    "c = np.loadtxt(datadir+'Football/football.community',dtype='uint16',usecols=(0))\n",
    "cfg.vs['community'] = [c[int(x['name'])] for x in cfg.vs]\n",
    "\n",
    "## plot the College Football Graph\n",
    "## show communities in different colors, anomalies as squares\n",
    "cfg.vs['shape'] = 'circle'\n",
    "cfg.vs['anomaly'] = 0\n",
    "pal = ig.ClusterColoringPalette(n=max(cfg.vs['community'])+1) \n",
    "cfg.vs['color'] = [pal.get(int(i)) for i in cfg.vs['community']]\n",
    "for v in cfg.vs:\n",
    "    if v['community'] in [5,10] or v['name'] in ['28','58']:\n",
    "        v['shape']='square'\n",
    "        v['anomaly']=1\n",
    "ly = cfg.layout_fruchterman_reingold()\n",
    "ig.plot(cfg, layout=ly, bbox=(0,0,500,300), vertex_size=6, edge_color='lightgray')\n"
   ]
  },
  {
   "cell_type": "code",
   "execution_count": null,
   "metadata": {
    "scrolled": false
   },
   "outputs": [],
   "source": [
    "## participation coefficient - high value indicative of outlier\n",
    "ec = cfg.community_ecg()\n",
    "cfg.vs['ecg'] = ec.membership\n",
    "for v in cfg.vs:\n",
    "    l = list(Counter([cfg.vs[x]['ecg'] for x in cfg.neighbors(v)]).values()) ## neighbour's communities\n",
    "    s = sum(l)\n",
    "    v['pc'] = 1-sum([i**2/s**2 for i in l]) ## measures the homogeneity \n",
    "plt.rcParams['font.size'] = '14'\n",
    "X = [v['pc'] for v in cfg.vs if v['anomaly']==0]\n",
    "Y = [v['pc'] for v in cfg.vs if v['anomaly']==1]\n",
    "plt.boxplot([X,Y],labels=['Regular','Outlier'],sym='.',whis=(0,100), widths=.5)\n",
    "plt.ylabel('Participation coefficient',fontsize=14);"
   ]
  },
  {
   "cell_type": "code",
   "execution_count": null,
   "metadata": {},
   "outputs": [],
   "source": [
    "## ECG: node strongly in a community has high ecg weights to neighbours\n",
    "cfg.es['ecg_weight'] = ec.W\n",
    "for v in cfg.vs:\n",
    "    v['ecg'] = np.mean([cfg.es[e]['ecg_weight'] for e in cfg.incident(v)])\n",
    "X = [v['ecg'] for v in cfg.vs if v['anomaly']==0]\n",
    "Y = [v['ecg'] for v in cfg.vs if v['anomaly']==1]\n",
    "plt.boxplot([X,Y],labels=['Regular','Outlier'],sym='.',whis=(0,100), widths=.5)\n",
    "plt.ylabel('ECG weights',fontsize=14);\n"
   ]
  }
 ],
 "metadata": {
  "kernelspec": {
   "display_name": "Python [conda env:MiningComplexNetworks_2022] *",
   "language": "python",
   "name": "conda-env-MiningComplexNetworks_2022-py"
  },
  "language_info": {
   "codemirror_mode": {
    "name": "ipython",
    "version": 3
   },
   "file_extension": ".py",
   "mimetype": "text/x-python",
   "name": "python",
   "nbconvert_exporter": "python",
   "pygments_lexer": "ipython3",
   "version": "3.7.9"
  }
 },
 "nbformat": 4,
 "nbformat_minor": 4
}
