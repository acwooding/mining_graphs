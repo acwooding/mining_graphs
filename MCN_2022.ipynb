{
 "cells": [
  {
   "cell_type": "markdown",
   "metadata": {},
   "source": [
    "# Proposed format\n",
    "\n",
    "References:\n",
    "* book: https://www.ryerson.ca/mining-complex-networks\n",
    "* notebooks: https://github.com/ftheberge/GraphMiningNotebooks\n",
    "    \n",
    "**Part 1: EDA**\n",
    "\n",
    "- 1.1 Relational data as graphs\n",
    "    - basic igraph commands, main dataset, types of graphs\n",
    "- 1.2 Exploratory data analysis (EDA)\n",
    "    - degree, paths, connected components\n",
    "- 1.3 Node importance: \n",
    "    - coreness, centrality, betweenness\n",
    "\n",
    "**Part 2: Clustering**\n",
    "\n",
    "- 2.1 Random graph models and benchmarks (ex: Erdos-Renyi, ABCD)\n",
    "- 2.2 Transitivity\n",
    "    - triangles and other motifs, local and global clustering coefficients, cliques\n",
    "- 2.3 Clustering: modularity, Louvain, Leiden, ECG and properties; other methods\n",
    "    - illustrations on various graphs; measures of cluster quality; ego-nets vs clusters\n",
    "- 2.4 Extra module: Anomaly detection\n",
    "    - illustration with football dataset\n",
    "\n",
    "Some **igraph** references:\n",
    "* https://igraph.readthedocs.io/en/0.10.2/\n",
    "* https://towardsdatascience.com/newbies-guide-to-python-igraph-4e51689c35b4\n"
   ]
  },
  {
   "cell_type": "markdown",
   "metadata": {},
   "source": [
    "## Required packages\n",
    "\n",
    "* Minimal conda environment\n",
    "\n",
    "```\n",
    "conda create --name shortcourse python=3.7.9 numpy pandas jupyter matplotlib pycairo scikit-learn\n",
    "source activate shortcourse\n",
    "pip install igraph\n",
    "pip install partition-igraph\n",
    "\n",
    "python -m ipykernel install --user --name=shortcourse ## add to Jupyter\n",
    "\n",
    "```\n",
    "\n",
    "* Caveat: igraph is NOT the best tool for graph visualization, there are more specialized tool for this such as Graphviz, Bokeh, etc. However, igraph is a very powerful tool for graph analysis, is scalable (C background) and has R, Python and now Mathematica interfaces. We will use viz mainly to illustrate some concepts."
   ]
  },
  {
   "cell_type": "code",
   "execution_count": null,
   "metadata": {},
   "outputs": [],
   "source": [
    "## path to the datasets\n",
    "datadir='./Datasets/'\n",
    "\n",
    "## required packages\n",
    "import numpy as np\n",
    "import pandas as pd\n",
    "import matplotlib.pyplot as plt\n",
    "import igraph as ig\n",
    "import partition_igraph\n",
    "from collections import Counter\n",
    "from sklearn.metrics import adjusted_rand_score as ARI\n",
    "from sklearn.metrics import adjusted_mutual_info_score as AMI\n"
   ]
  },
  {
   "cell_type": "markdown",
   "metadata": {},
   "source": [
    "# Part 1 - Basic Concepts and Exploratory Data Analysis (EDA)\n"
   ]
  },
  {
   "cell_type": "markdown",
   "metadata": {},
   "source": [
    "## 1.1 Relational data as graphs\n",
    "\n",
    "We will use the open source US airport graph as our main dataset:\n",
    "\n",
    "* 2008 air traffic in the USA\n",
    "* 464 nodes representing airports\n",
    "* 12,000 edges representing travel from airport A to airport B, weighted by number of passengers \n",
    "* Some extra node attributes (city, state, lat/lon)\n",
    "* Open access data\n",
    "\n",
    "Some initial questions to ask when looking at (pairwise) relational data:\n",
    "* is there a sense of **direction** to the relationship? (directed vs undirected graphs)\n",
    "    * ex: direction of travel from airport A to B, I follow you vs. we are friends\n",
    "\n",
    "* are some ties **stronger** than others? This is usually modelled in one of two ways:\n",
    "  * **weights**: higher weights can mean stronger ties (ex: number of passengers; number of common friends);\n",
    "  * **distance**: smaller distance can mean stronger ties (ex: distance between airports; commute time between cities; resistance in an electric circuit)\n",
    "\n",
    "* can there be a relationship with oneself? This is modelled by edges from a node back to **itself**. (loops vs simple graphs)\n",
    "  * ex: XXX add one\n",
    "\n",
    "* are there other **attributes**? This can either be of the nodes or the edges.\n",
    "  * ex: city, state as a node attributes"
   ]
  },
  {
   "cell_type": "code",
   "execution_count": null,
   "metadata": {},
   "outputs": [],
   "source": [
    "## read edges from csv file\n",
    "D = pd.read_csv(datadir + 'Airports/connections.csv')\n",
    "D.head() ## look at a few edges"
   ]
  },
  {
   "cell_type": "markdown",
   "metadata": {},
   "source": [
    "### Build a weighted directed graph from the edges\n",
    "\n",
    "One way to create a (directed) graph in igraph is by handing it a list of edges in tuples of the form `(source, target, weight)`. We'll convert the above dataframe to a list of tuples and create a directed, weighted graph from it. "
   ]
  },
  {
   "cell_type": "code",
   "execution_count": null,
   "metadata": {},
   "outputs": [],
   "source": [
    "tuple_list = [tuple(x) for x in D.values]\n",
    "g = ig.Graph.TupleList(tuple_list, directed=True, edge_attrs=['weight'])"
   ]
  },
  {
   "cell_type": "markdown",
   "metadata": {},
   "source": [
    "### Graph Objects in igraph\n",
    "\n",
    "A graph in igraph consists of:\n",
    "* a **vertex** sequence object, with 0-based indices\n",
    "* an **edge** sequence object, each connecting a 2-ple of vertices\n",
    "\n",
    "Note: nodes and vertices mean the same thing. igraph uses the language of vertices and we will use node and vertex interchangeably.\n",
    "\n",
    "**WARNING**: node names, if stored, can also be integers and may not correspond to node indices.\n"
   ]
  },
  {
   "cell_type": "markdown",
   "metadata": {},
   "source": [
    "### Vertices"
   ]
  },
  {
   "cell_type": "markdown",
   "metadata": {},
   "source": [
    "Vertices can be accessed by index (NOT the same thing as accessing the vertex by the name)"
   ]
  },
  {
   "cell_type": "code",
   "execution_count": null,
   "metadata": {},
   "outputs": [],
   "source": [
    "g.vs[0]"
   ]
  },
  {
   "cell_type": "markdown",
   "metadata": {},
   "source": [
    "It's useful to be able to `.find()` a vertex given its name (be careful if names are also integers!)"
   ]
  },
  {
   "cell_type": "code",
   "execution_count": null,
   "metadata": {},
   "outputs": [],
   "source": [
    "g.vs.find('LAX')"
   ]
  },
  {
   "cell_type": "code",
   "execution_count": null,
   "metadata": {},
   "outputs": [],
   "source": [
    "g.vs.find('LAX').index"
   ]
  },
  {
   "cell_type": "code",
   "execution_count": null,
   "metadata": {},
   "outputs": [],
   "source": [
    "[v for v in g.vs[:5]]"
   ]
  },
  {
   "cell_type": "markdown",
   "metadata": {},
   "source": [
    "Any vertex attribute may be added. In this case, the vertex set is used as a dictionary where the keys are the\n",
    "attribute names. The values corresponding to the keys are the values of the given attribute for every vertex selected by the sequence. "
   ]
  },
  {
   "cell_type": "code",
   "execution_count": null,
   "metadata": {},
   "outputs": [],
   "source": [
    "g.vs[0]['color'] = ['green']\n",
    "[v for v in g.vs][:5]"
   ]
  },
  {
   "cell_type": "markdown",
   "metadata": {},
   "source": [
    "If you specify a sequence that is shorter than the number of vertices in\n",
    "vertex sequence, the sequence is reused:"
   ]
  },
  {
   "cell_type": "code",
   "execution_count": null,
   "metadata": {},
   "outputs": [],
   "source": [
    "g.vs['color'] = ['lightblue', 'pink', 'purple']\n",
    "[v for v in g.vs][:5]"
   ]
  },
  {
   "cell_type": "markdown",
   "metadata": {},
   "source": [
    "It's easy to access the number of vertices, in this case, airports. "
   ]
  },
  {
   "cell_type": "code",
   "execution_count": null,
   "metadata": {},
   "outputs": [],
   "source": [
    "g.vcount()"
   ]
  },
  {
   "cell_type": "markdown",
   "metadata": {},
   "source": [
    "### Edges"
   ]
  },
  {
   "cell_type": "markdown",
   "metadata": {},
   "source": [
    "Edges are  accessed by index in the edge sequence"
   ]
  },
  {
   "cell_type": "code",
   "execution_count": null,
   "metadata": {},
   "outputs": [],
   "source": [
    "g.es[0]"
   ]
  },
  {
   "cell_type": "markdown",
   "metadata": {},
   "source": [
    "Edges have a tuple of vertex indices of an edge representing `(source, target)`"
   ]
  },
  {
   "cell_type": "code",
   "execution_count": null,
   "metadata": {},
   "outputs": [],
   "source": [
    "g.es[0].tuple"
   ]
  },
  {
   "cell_type": "code",
   "execution_count": null,
   "metadata": {},
   "outputs": [],
   "source": [
    "g.es[0].source, g.es[0].target"
   ]
  },
  {
   "cell_type": "markdown",
   "metadata": {},
   "source": [
    "Let's look up the details of the edge. "
   ]
  },
  {
   "cell_type": "code",
   "execution_count": null,
   "metadata": {},
   "outputs": [],
   "source": [
    "e_idx = 0\n",
    "\n",
    "source_idx = g.es[e_idx].tuple[0]\n",
    "target_idx = g.es[e_idx].tuple[1]\n",
    "\n",
    "source_name = g.vs[source_idx]['name']\n",
    "target_name = g.vs[target_idx]['name']\n",
    "edge_weight = g.es[e_idx]['weight']\n",
    "\n",
    "print(source_name, '--->' ,target_name,'has weight',edge_weight)"
   ]
  },
  {
   "cell_type": "code",
   "execution_count": null,
   "metadata": {},
   "outputs": [],
   "source": [
    "# package this in a function\n",
    "def print_edge_details(g, e_idx):\n",
    "    \"\"\"Helper function taking a graph and edge index to display edge information\"\"\"\n",
    "    print(g.vs[g.es[e_idx].tuple[0]]['name'], '--->',\n",
    "          g.vs[g.es[e_idx].tuple[1]]['name'], 'has weight',g.es[e_idx]['weight'])"
   ]
  },
  {
   "cell_type": "markdown",
   "metadata": {},
   "source": [
    "Is there an edge in the other direction? We can check by looking up an edge by vertex ids."
   ]
  },
  {
   "cell_type": "code",
   "execution_count": null,
   "metadata": {},
   "outputs": [],
   "source": [
    "rev_e_idx = g.get_eid(target_idx, source_idx)\n",
    "rev_e_idx"
   ]
  },
  {
   "cell_type": "code",
   "execution_count": null,
   "metadata": {},
   "outputs": [],
   "source": [
    "print_edge_details(g, rev_e_idx)"
   ]
  },
  {
   "cell_type": "markdown",
   "metadata": {},
   "source": [
    "Number of edges"
   ]
  },
  {
   "cell_type": "code",
   "execution_count": null,
   "metadata": {},
   "outputs": [],
   "source": [
    "g.ecount()"
   ]
  },
  {
   "cell_type": "markdown",
   "metadata": {},
   "source": [
    "It's easy to check if there is a way to get from one airport to another. This is like asking if the nodes are **connected**, that is, is there a path of edges between them. "
   ]
  },
  {
   "cell_type": "code",
   "execution_count": null,
   "metadata": {},
   "outputs": [],
   "source": [
    "## sanity check if SFO and LAX are connected. We know this to be true already.\n",
    "g.are_connected(0,1)"
   ]
  },
  {
   "cell_type": "code",
   "execution_count": null,
   "metadata": {},
   "outputs": [],
   "source": [
    "# We'll see later that we can't get from BMI to SFO. \n",
    "g.vs.find('BMI').index"
   ]
  },
  {
   "cell_type": "code",
   "execution_count": null,
   "metadata": {},
   "outputs": [],
   "source": [
    "g.are_connected(0, 100)"
   ]
  },
  {
   "cell_type": "markdown",
   "metadata": {},
   "source": [
    "What if we want to find all routes orignating from SFO? We can do this by asking which edges are **incident**."
   ]
  },
  {
   "cell_type": "code",
   "execution_count": null,
   "metadata": {},
   "outputs": [],
   "source": [
    "## list of all edges a given vertex is incident on\n",
    "len(g.incident(0, mode='out'))"
   ]
  },
  {
   "cell_type": "markdown",
   "metadata": {},
   "source": [
    "There are a lot. Let's see what a few of them are. "
   ]
  },
  {
   "cell_type": "code",
   "execution_count": null,
   "metadata": {},
   "outputs": [],
   "source": [
    "n = 5\n",
    "for e_idx in  g.incident(0, mode='out')[:n]:\n",
    "    print_edge_details(g, e_idx)"
   ]
  },
  {
   "cell_type": "markdown",
   "metadata": {},
   "source": [
    "### Attributes\n",
    "\n",
    "A common **edge attribute** is the edge weight, or distance. \n",
    "\n",
    "For the airport dataset, we also have a few node attributes:\n",
    " * City and state\n",
    " * Latitude and longitude (useful for nice layout)\n",
    "\n",
    "These attributes are in a separate file, let's add them to the graph."
   ]
  },
  {
   "cell_type": "code",
   "execution_count": null,
   "metadata": {},
   "outputs": [],
   "source": [
    "airport_df = pd.read_csv(datadir + 'Airports/airports_loc.csv')\n",
    "airport_df.head()"
   ]
  },
  {
   "cell_type": "markdown",
   "metadata": {},
   "source": [
    "We have attributes by airport code, which is our vertex names. We need to lookup the vertex indices to add the attributes. "
   ]
  },
  {
   "cell_type": "code",
   "execution_count": null,
   "metadata": {},
   "outputs": [],
   "source": [
    "lookup = {k:v for v,k in enumerate(airport_df['airport'])}\n",
    "l = [lookup[x] for x in g.vs()['name']]\n",
    "\n",
    "## example\n",
    "v = 0\n",
    "print('vertex',v,':',g.vs[v]['name'], 'is at row', l[v])\n",
    "airport_df.loc[l[v]]"
   ]
  },
  {
   "cell_type": "markdown",
   "metadata": {},
   "source": [
    "Let's add the attributes to the graph.\n",
    "\n",
    "nb: we use layout = (longitude, -latitude) due to location of origin"
   ]
  },
  {
   "cell_type": "code",
   "execution_count": null,
   "metadata": {},
   "outputs": [],
   "source": [
    "g.vs['layout'] = [(airport_df['lon'][i],-airport_df['lat'][i]) for i in l]\n",
    "g.vs['state'] = [airport_df['state'][i] for i in l]\n",
    "g.vs['city'] = [airport_df['city'][i] for i in l]"
   ]
  },
  {
   "cell_type": "markdown",
   "metadata": {},
   "source": [
    "Let's look at one vertex\n",
    "\n"
   ]
  },
  {
   "cell_type": "code",
   "execution_count": null,
   "metadata": {},
   "outputs": [],
   "source": [
    "g.vs[0]"
   ]
  },
  {
   "cell_type": "markdown",
   "metadata": {},
   "source": [
    "### Subgraphs and different types of graphs\n",
    "To make our next analysis easier, we'll work off of a small subgraph."
   ]
  },
  {
   "cell_type": "code",
   "execution_count": null,
   "metadata": {},
   "outputs": [],
   "source": [
    "subgraph_nodes = [g.vs.find(name='LAX').index,\n",
    "                  g.vs.find(name='SFO').index,\n",
    "                  g.vs.find(name='OAK').index]\n",
    "subgraph_nodes"
   ]
  },
  {
   "cell_type": "markdown",
   "metadata": {},
   "source": [
    "It's easy to get an induced subgraph from a list of nodes"
   ]
  },
  {
   "cell_type": "code",
   "execution_count": null,
   "metadata": {},
   "outputs": [],
   "source": [
    "sg = g.subgraph(subgraph_nodes)"
   ]
  },
  {
   "cell_type": "code",
   "execution_count": null,
   "metadata": {},
   "outputs": [],
   "source": [
    "ig.plot(sg, bbox=(250,250), vertex_label=sg.vs['name'], \n",
    "        vertex_label_size=8, margin=50)"
   ]
  },
  {
   "cell_type": "markdown",
   "metadata": {},
   "source": [
    "What if we want to know how many people travelled between the airports? In this case we don't care about the direction. We can do this by creating an undirected weighted graph, where the new weight are the summed edge weights from before."
   ]
  },
  {
   "cell_type": "code",
   "execution_count": null,
   "metadata": {},
   "outputs": [],
   "source": [
    "undirected_sg = sg.as_undirected(combine_edges=sum)"
   ]
  },
  {
   "cell_type": "code",
   "execution_count": null,
   "metadata": {
    "scrolled": false
   },
   "outputs": [],
   "source": [
    "ig.plot(undirected_sg, bbox=(250,250), vertex_label=sg.vs['name'], \n",
    "        vertex_label_size=8, margin=50)\n"
   ]
  },
  {
   "cell_type": "markdown",
   "metadata": {},
   "source": [
    "If we want to get rid of the loops, we can use `simplify`."
   ]
  },
  {
   "cell_type": "code",
   "execution_count": null,
   "metadata": {},
   "outputs": [],
   "source": [
    "sg = sg.simplify(combine_edges=sum)"
   ]
  },
  {
   "cell_type": "code",
   "execution_count": null,
   "metadata": {},
   "outputs": [],
   "source": [
    "ig.plot(sg, bbox=(250,250), vertex_label=sg.vs['name'], \n",
    "        vertex_label_size=8, margin=50)"
   ]
  },
  {
   "cell_type": "markdown",
   "metadata": {},
   "source": [
    "Combining the above, we get a simple, undirected graph. "
   ]
  },
  {
   "cell_type": "code",
   "execution_count": null,
   "metadata": {},
   "outputs": [],
   "source": [
    "ig.plot(sg.as_undirected(combine_edges=sum),bbox=(250,250), vertex_label=sg.vs['name'], \n",
    "        vertex_label_size=8, margin=50)\n"
   ]
  },
  {
   "cell_type": "markdown",
   "metadata": {},
   "source": [
    "The operations of `simplify` and `as_undirected` are non-descructive. But we redefined `sg` as the simple version above. `sg` is now a simple, directed graph. "
   ]
  },
  {
   "cell_type": "code",
   "execution_count": null,
   "metadata": {
    "scrolled": false
   },
   "outputs": [],
   "source": [
    "ig.plot(sg, bbox=(250,250), vertex_label=sg.vs['name'], \n",
    "        vertex_label_size=8, margin=50)"
   ]
  },
  {
   "cell_type": "markdown",
   "metadata": {},
   "source": [
    "We've been carrying the weights through, so let's visualize them by setting an edge width attribute. "
   ]
  },
  {
   "cell_type": "code",
   "execution_count": null,
   "metadata": {},
   "outputs": [],
   "source": [
    "sg.es['width'] = [int(np.log10(x)+1) for x in sg.es['weight']]"
   ]
  },
  {
   "cell_type": "code",
   "execution_count": null,
   "metadata": {
    "scrolled": false
   },
   "outputs": [],
   "source": [
    "## Weighted digraph\n",
    "ig.plot(sg, bbox=(250,250), vertex_label=sg.vs['name'], \n",
    "        vertex_label_size=8, margin=50)"
   ]
  },
  {
   "cell_type": "markdown",
   "metadata": {},
   "source": [
    "### Plotting in igraph\n",
    "\n",
    "* igraph uses **cairo** for plotting, along with a python interface such as **pycairo** or **cairocffi**.\n",
    "* latest versions of igraph can also use **matplotlib** (see example below)\n",
    "* graph can be exported as **networkx** format which can be used in **bokeh** for interactive plotting\n",
    "* another options is to save the graph in DOT format used in **GraphViz**\n"
   ]
  },
  {
   "cell_type": "markdown",
   "metadata": {},
   "source": [
    "Here's an example of how to multiplot with matplotlib"
   ]
  },
  {
   "cell_type": "code",
   "execution_count": null,
   "metadata": {},
   "outputs": [],
   "source": [
    "fig, ((ax1,ax2),(ax3,ax4)) = plt.subplots(2,2, figsize=(8,8))\n",
    "sg = g.subgraph(subgraph_nodes)\n",
    "ig.plot(sg.as_undirected(combine_edges=sum), bbox=(250,250), vertex_label=sg.vs['name'], \n",
    "        vertex_label_size=8, margin=50, target=ax1)\n",
    "sg = sg.simplify(combine_edges=sum)\n",
    "ig.plot(sg.as_undirected(combine_edges=sum),bbox=(250,250), vertex_label=sg.vs['name'], \n",
    "        vertex_label_size=8, margin=50, target=ax2)\n",
    "ig.plot(sg, bbox=(250,250), vertex_label=sg.vs['name'], \n",
    "        vertex_label_size=6, margin=50, target=ax3)\n",
    "sg.es['width'] = [int(np.log10(x)+1) for x in sg.es['weight']]\n",
    "ig.plot(sg, bbox=(250,250), vertex_label=sg.vs['name'], \n",
    "        vertex_label_size=6, margin=50, target=ax4);"
   ]
  },
  {
   "cell_type": "markdown",
   "metadata": {},
   "source": [
    "## Other Representations of Graphs\n",
    "\n",
    "Here's how to get from other representation of graphs from our igraph object:\n",
    "* graph as a list of edges\n",
    "* graph as an adjacency matrix\n",
    "* graph as a weighted adjacency matrix"
   ]
  },
  {
   "cell_type": "code",
   "execution_count": null,
   "metadata": {},
   "outputs": [],
   "source": [
    "df = pd.DataFrame()\n",
    "df['from'] = [sg.vs[e.tuple[0]]['name'] for e in sg.es]\n",
    "df['to'] = [sg.vs[e.tuple[1]]['name'] for e in sg.es]\n",
    "df['volume'] = [e['weight'] for e in sg.es]\n",
    "df.sort_values(by='volume', ascending=False, inplace=True)\n",
    "df"
   ]
  },
  {
   "cell_type": "code",
   "execution_count": null,
   "metadata": {},
   "outputs": [],
   "source": [
    "print(sg.get_adjacency())"
   ]
  },
  {
   "cell_type": "code",
   "execution_count": null,
   "metadata": {},
   "outputs": [],
   "source": [
    "print(sg.get_adjacency(attribute='weight'))"
   ]
  },
  {
   "cell_type": "markdown",
   "metadata": {},
   "source": [
    "### Questions\n",
    "Try to answer the following questions using the graph objects that we've created.\n",
    "\n",
    "#### 1. How many airports are in California (CA)?\n"
   ]
  },
  {
   "cell_type": "code",
   "execution_count": null,
   "metadata": {},
   "outputs": [],
   "source": []
  },
  {
   "cell_type": "markdown",
   "metadata": {},
   "source": [
    "#### 2. Which 5 states have the most airports? the least?\n",
    "Hint: we've already imported `Counter` from `collections`"
   ]
  },
  {
   "cell_type": "code",
   "execution_count": null,
   "metadata": {},
   "outputs": [],
   "source": [
    "# most\n"
   ]
  },
  {
   "cell_type": "code",
   "execution_count": null,
   "metadata": {},
   "outputs": [],
   "source": [
    "# least\n"
   ]
  },
  {
   "cell_type": "markdown",
   "metadata": {},
   "source": [
    "#### 3. Which airport is the southernmost? northernmost?"
   ]
  },
  {
   "cell_type": "code",
   "execution_count": null,
   "metadata": {},
   "outputs": [],
   "source": [
    "# southernmost\n"
   ]
  },
  {
   "cell_type": "code",
   "execution_count": null,
   "metadata": {},
   "outputs": [],
   "source": [
    "# northernmost \n"
   ]
  },
  {
   "cell_type": "markdown",
   "metadata": {},
   "source": [
    "#### 4. How many routes have at least 1 million passengers?\n",
    "\n"
   ]
  },
  {
   "cell_type": "code",
   "execution_count": null,
   "metadata": {},
   "outputs": [],
   "source": []
  },
  {
   "cell_type": "markdown",
   "metadata": {},
   "source": [
    "#### 5. Which route is the busiest one-way? both ways?\n"
   ]
  },
  {
   "cell_type": "code",
   "execution_count": null,
   "metadata": {},
   "outputs": [],
   "source": [
    "# one-way\n"
   ]
  },
  {
   "cell_type": "code",
   "execution_count": null,
   "metadata": {},
   "outputs": [],
   "source": [
    "# both ways\n"
   ]
  },
  {
   "cell_type": "markdown",
   "metadata": {},
   "source": [
    "### Possible Solutions"
   ]
  },
  {
   "cell_type": "code",
   "execution_count": null,
   "metadata": {},
   "outputs": [],
   "source": [
    "## airports in CA, three ways\n",
    "print('airports in CA:', len([v for v in g.vs if v['state'] == 'CA']), \n",
    "      sum([v['state']=='CA' for v in g.vs]),\n",
    "      sum(airport_df['state']=='CA'))\n",
    "\n",
    "## states with most airports\n",
    "print('\\nmost airports:',Counter(g.vs['state']).most_common(5))\n",
    "\n",
    "## states with the least airports\n",
    "print('\\nleast airports:',Counter(g.vs['state']).most_common()[-5:])\n",
    "\n",
    "## north/south\n",
    "latitude = [-x[1] for x in g.vs['layout']]\n",
    "v = np.argmin(latitude)\n",
    "print('\\nsouthernmost:',g.vs[v],'\\n')\n",
    "v = np.argmax(latitude)\n",
    "print('northernmost:',g.vs[v])\n",
    "\n",
    "## 1M+ connections\n",
    "print('\\n1M+ connections:',len([e for e in g.es if e['weight'] >= 1000000]))\n",
    "\n",
    "## busiest route (1-way) \n",
    "e = np.argmax(g.es['weight'])\n",
    "print('\\n1-way:',g.vs[g.es[e].tuple[0]]['name'], '---', g.es[e]['weight'], '-->', g.vs[g.es[e].tuple[1]]['name'], )\n",
    "\n",
    "## busiest route (2-way) \n",
    "g_und = g.as_undirected(combine_edges=sum)\n",
    "e = np.argmax(g_und.es['weight'])\n",
    "print('\\n2-way:', g_und.vs[g_und.es[e].tuple[0]]['name'], '---',  g_und.es[e]['weight'], '---', \n",
    "      g_und.vs[g_und.es[e].tuple[1]]['name'],)\n"
   ]
  },
  {
   "cell_type": "markdown",
   "metadata": {},
   "source": [
    "## 1.2 Exploratory Data Analysis (EDA)"
   ]
  },
  {
   "cell_type": "markdown",
   "metadata": {},
   "source": [
    "### Discussion\n",
    "\n",
    "What makes network/graph data challenging?\n",
    "\n",
    "* The points are connected and can not be considered as independent samples\n",
    "* Inference on graphs requires the topological structure: node, edge, neighbourhoods, etc.\n",
    "* The node's topological roles can be highly variable (degree, betweenness, centrality, etc.)\n"
   ]
  },
  {
   "cell_type": "markdown",
   "metadata": {},
   "source": [
    "### Visualization\n",
    "\n",
    "Let's take a look at the entire graph. \n",
    "\n",
    "First, using a **force directed layout**, we see a small **disconnected component**, this is not uncommon; in social networks and many other types of graphs, a common situation is to have a **giant component** with most nodes, and some small components."
   ]
  },
  {
   "cell_type": "code",
   "execution_count": null,
   "metadata": {
    "scrolled": false
   },
   "outputs": [],
   "source": [
    "# reset the color of the vertices to all be the same\n",
    "g.vs['color'] = 'lightblue'\n",
    "\n",
    "ig.plot(g, vertex_size=5, edge_arrow_size=.5, edge_color='grey', \n",
    "        layout=g.layout_fruchterman_reingold(), bbox=(500,400))"
   ]
  },
  {
   "cell_type": "markdown",
   "metadata": {},
   "source": [
    "Next let's use the latitutde and longitude based layout...this reveals a familiar shape."
   ]
  },
  {
   "cell_type": "code",
   "execution_count": null,
   "metadata": {},
   "outputs": [],
   "source": [
    "ig.plot(g, vertex_size=5, edge_arrow_size=.5, edge_color='grey', \n",
    "        layout=g.vs['layout'], bbox=(500,400))"
   ]
  },
  {
   "cell_type": "markdown",
   "metadata": {},
   "source": [
    "This is a LOT to look at. Let's look at the subgraph induced by a single state. "
   ]
  },
  {
   "cell_type": "code",
   "execution_count": null,
   "metadata": {},
   "outputs": [],
   "source": [
    "st = 'MN'\n",
    "sg = g.subgraph([v for v in g.vs if v['state'] == st])\n",
    "ig.plot(sg,bbox=(450,350), vertex_label=sg.vs['name'], vertex_size=15,layout=sg.vs['layout'],\n",
    "            vertex_label_size=6, margin=50)"
   ]
  },
  {
   "cell_type": "markdown",
   "metadata": {},
   "source": [
    "### Node degree(s)\n",
    "\n",
    "A key node feature is their **degree**.\n",
    "\n",
    "With a **directed graph**, we can distinguish 4 concepts of degree (!)\n",
    "\n",
    "* in-degree: number of edges coming in\n",
    "* out-degree: number of edges going out\n",
    "* total degree: sum of the above 2 quantities\n",
    "* (undirected) degree: degree when reducing to **undirected** graph\n",
    "\n",
    "Let's look at all four degrees in our airport graph.\n"
   ]
  },
  {
   "cell_type": "code",
   "execution_count": null,
   "metadata": {
    "scrolled": true
   },
   "outputs": [],
   "source": [
    "d = pd.DataFrame()\n",
    "d['node'] = g.vs['name']\n",
    "d['in-deg'] = g.degree(mode='in')\n",
    "d['out-deg'] = g.degree(mode='out')\n",
    "d['total-deg'] = g.degree(mode='all')\n",
    "d['und-deg'] = g.as_undirected().degree()"
   ]
  },
  {
   "cell_type": "code",
   "execution_count": null,
   "metadata": {},
   "outputs": [],
   "source": [
    "d.loc[d['node'].isin(['SFO','LAX','OAK','OPF'])]"
   ]
  },
  {
   "cell_type": "markdown",
   "metadata": {},
   "source": [
    "### Ego-net of a node\n",
    "\n",
    "This is subgraph induced by a node and its neighbours. Let's take a look the ego-net of OPF, the Miami executive airport.\n",
    "\n"
   ]
  },
  {
   "cell_type": "code",
   "execution_count": null,
   "metadata": {},
   "outputs": [],
   "source": [
    "sg = g.induced_subgraph(g.neighborhood(g.vs.find(name='OPF')))\n",
    "ig.plot(sg, bbox=(300,300), vertex_label=sg.vs['name'], \n",
    "            vertex_label_size=8, margin=50)"
   ]
  },
  {
   "cell_type": "markdown",
   "metadata": {},
   "source": [
    "Here's the undirected version"
   ]
  },
  {
   "cell_type": "code",
   "execution_count": null,
   "metadata": {
    "scrolled": false
   },
   "outputs": [],
   "source": [
    "sg = sg.as_undirected()\n",
    "ig.plot(sg, bbox=(300,300), vertex_label=sg.vs['name'], \n",
    "            vertex_label_size=8, vertex_color='lightblue', margin=50)"
   ]
  },
  {
   "cell_type": "markdown",
   "metadata": {},
   "source": [
    "### Weighted degree a.k.a. Strength\n",
    "\n",
    "With **weighted** graphs, we also define:\n",
    "\n",
    "* in-strength: sum of weights of all incoming edges\n",
    "* out-strength: sum of weights of all outgoing edges\n",
    "* total-strength: sum of the above two quantities\n",
    "\n",
    "When converting a directed graph to undirected, it is common to add the edge weights, so we get the \"total-strength\".\n"
   ]
  },
  {
   "cell_type": "code",
   "execution_count": null,
   "metadata": {},
   "outputs": [],
   "source": [
    "d['in-str'] = g.strength(mode='in', weights='weight')\n",
    "d['out-str'] = g.strength(mode='out', weights='weight')\n",
    "d['total-str'] = g.strength(mode='all', weights='weight')\n",
    "## undirected graph, summing the edge weights\n",
    "d['und-str'] = g.as_undirected(combine_edges=sum).strength(weights='weight')\n",
    "d.loc[d['node'].isin(['SFO','LAX','OAK','OPF'])]"
   ]
  },
  {
   "cell_type": "markdown",
   "metadata": {},
   "source": [
    "### Degree distribution\n",
    "\n",
    "Also common in most social-type networks, degree distribution is far from uniform in the airport graph, with lots of low degree nodes, and a small number of high degree ones.\n",
    "\n",
    "This is indicative of **power-law** degree distribution.\n",
    "\n",
    "In such networks, shortest paths between connected nodes are typically short (the **6-degree of separation** phenomenon)."
   ]
  },
  {
   "cell_type": "code",
   "execution_count": null,
   "metadata": {},
   "outputs": [],
   "source": [
    "plt.figure(figsize=(8,3))\n",
    "plt.subplot(121)\n",
    "plt.hist(g.degree(mode='in'), bins=30)\n",
    "plt.title('in-degree')\n",
    "plt.xlabel('degree')\n",
    "plt.ylabel('frequency')\n",
    "plt.subplot(122)\n",
    "plt.hist(g.degree(mode='out'), bins=30)\n",
    "plt.title('out-degree')\n",
    "plt.xlabel('degree');"
   ]
  },
  {
   "cell_type": "markdown",
   "metadata": {},
   "source": [
    "### Paths and connected components\n",
    "\n",
    "* A **path** is a sequence of edges connecting two nodes\n",
    "* In a **connected component**, there is a path between every pair of nodes\n",
    "* Path length is usually the number of edges (**hop count**), but weights can also be considered\n",
    "* For directed graphs, we can take directionality into account (**strong** connectivity) or not (**weak** connectivity); those are the same in undirected graphs\n"
   ]
  },
  {
   "cell_type": "code",
   "execution_count": null,
   "metadata": {},
   "outputs": [],
   "source": [
    "print('strong connectivity:', g.connected_components(mode='strong').summary())"
   ]
  },
  {
   "cell_type": "code",
   "execution_count": null,
   "metadata": {},
   "outputs": [],
   "source": [
    "print('weak connectivity:',g.connected_components(mode='weak').summary())"
   ]
  },
  {
   "cell_type": "code",
   "execution_count": null,
   "metadata": {},
   "outputs": [],
   "source": [
    "g_undirected = g.as_undirected(combine_edges=sum) ## undirected graph, summing the weights"
   ]
  },
  {
   "cell_type": "code",
   "execution_count": null,
   "metadata": {},
   "outputs": [],
   "source": [
    "print('undirected connectivity:',g_und.connected_components().summary())"
   ]
  },
  {
   "cell_type": "markdown",
   "metadata": {},
   "source": [
    "It can be interesting to consider where there are paths between nodes, and where there are not. Let's look at where we can get to starting from a given airport. Recall that there are 464 airports (number of nodes `.vcount()`).\n",
    "\n",
    "Let's look at OPF and SFO."
   ]
  },
  {
   "cell_type": "code",
   "execution_count": null,
   "metadata": {},
   "outputs": [],
   "source": [
    "## shortest (directed) paths\n",
    "for ap in [\"OPF\",\"SFO\"]:\n",
    "    print(\"\\nlooking at:\", ap)\n",
    "    v = g.vs.find(name=ap)\n",
    "    sp = g.distances(source=v, mode='out')[0]\n",
    "    print('number of \"unreacheable\" airports:',sum([i == np.inf for i in sp]))\n",
    "    print('mean number of hops to other airports:',np.mean([i for i in sp if i != np.inf ]))\n",
    "    print('max number of hops to other airports:',np.max([i for i in sp if i != np.inf ]))\n"
   ]
  },
  {
   "cell_type": "markdown",
   "metadata": {},
   "source": [
    "###  Why are some airports \"unreacheable\"?\n",
    "\n",
    "Two airports are in a separate (weak) connected component. What about the other 18? Let's see if we can identify why all of these airports are unreachable."
   ]
  },
  {
   "cell_type": "code",
   "execution_count": null,
   "metadata": {},
   "outputs": [],
   "source": [
    "## color unreacheable nodes from SFO in red\n",
    "unreachable = np.where([i == np.inf for i in sp])\n",
    "for j in unreachable:\n",
    "    g.vs[j]['color'] = 'red' \n",
    "unreachable"
   ]
  },
  {
   "cell_type": "code",
   "execution_count": null,
   "metadata": {},
   "outputs": [],
   "source": [
    "ig.plot(g, vertex_size=5, edge_arrow_size=.5, edge_color='grey', \n",
    "        layout=g.layout_fruchterman_reingold(), bbox=(500,400))"
   ]
  },
  {
   "cell_type": "markdown",
   "metadata": {},
   "source": [
    "We see 2 airports in small connected component "
   ]
  },
  {
   "cell_type": "code",
   "execution_count": null,
   "metadata": {},
   "outputs": [],
   "source": [
    "g.vs['cc'] = g.connected_components('weak').membership\n",
    "Counter(g.vs['cc'])"
   ]
  },
  {
   "cell_type": "markdown",
   "metadata": {},
   "source": [
    "Let's remove those 2 nodes. "
   ]
  },
  {
   "cell_type": "code",
   "execution_count": null,
   "metadata": {},
   "outputs": [],
   "source": [
    "v_list = [v['name'] for v in g.vs if v['cc']==1]\n",
    "g_copy = g.copy()\n",
    "g_copy.delete_vertices(v_list)"
   ]
  },
  {
   "cell_type": "code",
   "execution_count": null,
   "metadata": {},
   "outputs": [],
   "source": [
    "ig.plot(g_copy, vertex_size=5, edge_arrow_size=.5, edge_color='grey', \n",
    "        layout=g_copy.layout_fruchterman_reingold(), bbox=(500,400))"
   ]
  },
  {
   "cell_type": "markdown",
   "metadata": {},
   "source": [
    "Now let's also remove airports that have no incoming links."
   ]
  },
  {
   "cell_type": "code",
   "execution_count": null,
   "metadata": {
    "scrolled": false
   },
   "outputs": [],
   "source": [
    "v_list = [v for v in g_copy.vs if g_copy.degree(v,'in') == 0]\n",
    "print('removing',len(v_list),'more')\n",
    "g_copy.delete_vertices(v_list)"
   ]
  },
  {
   "cell_type": "markdown",
   "metadata": {},
   "source": [
    "There's still one red node left."
   ]
  },
  {
   "cell_type": "code",
   "execution_count": null,
   "metadata": {},
   "outputs": [],
   "source": [
    "ig.plot(g_copy, vertex_size=5, edge_arrow_size=.5, edge_color='grey', \n",
    "        layout=g_copy.layout_fruchterman_reingold(), bbox=(500,400))"
   ]
  },
  {
   "cell_type": "markdown",
   "metadata": {},
   "source": [
    "Let's recursively remove airports without incoming links"
   ]
  },
  {
   "cell_type": "code",
   "execution_count": null,
   "metadata": {},
   "outputs": [],
   "source": [
    "v_list = [v for v in g_copy.vs if g_copy.degree(v,'in') == 0]\n",
    "print('removing', len(v_list),'more')\n",
    "g_copy.delete_vertices(v_list)"
   ]
  },
  {
   "cell_type": "markdown",
   "metadata": {},
   "source": [
    "That seems to have got them all. Once we remove the other component and recursively remove airports with no incoming links, all the airports become reachable from SFO. "
   ]
  },
  {
   "cell_type": "code",
   "execution_count": null,
   "metadata": {},
   "outputs": [],
   "source": [
    "ig.plot(g_copy, vertex_size=5, edge_arrow_size=.5, edge_color='grey', \n",
    "        layout=g_copy.layout_fruchterman_reingold(), bbox=(500,400))"
   ]
  },
  {
   "cell_type": "markdown",
   "metadata": {},
   "source": [
    "### Questions\n",
    "\n",
    "#### 1. Which airport has the largest number of outgoing connections? incoming? total?"
   ]
  },
  {
   "cell_type": "code",
   "execution_count": null,
   "metadata": {},
   "outputs": [],
   "source": [
    "# outgoing\n"
   ]
  },
  {
   "cell_type": "code",
   "execution_count": null,
   "metadata": {},
   "outputs": [],
   "source": [
    "# incoming\n"
   ]
  },
  {
   "cell_type": "code",
   "execution_count": null,
   "metadata": {},
   "outputs": [],
   "source": [
    "# total\n"
   ]
  },
  {
   "cell_type": "markdown",
   "metadata": {},
   "source": [
    "#### 2. Which airport has the largest number of incoming/outgoing/total passengers? the smallest?\n",
    "\n"
   ]
  },
  {
   "cell_type": "code",
   "execution_count": null,
   "metadata": {},
   "outputs": [],
   "source": [
    "# incoming largest + smallest\n"
   ]
  },
  {
   "cell_type": "code",
   "execution_count": null,
   "metadata": {},
   "outputs": [],
   "source": [
    "# outgoing largest + smallest\n"
   ]
  },
  {
   "cell_type": "code",
   "execution_count": null,
   "metadata": {},
   "outputs": [],
   "source": [
    "# total largest + smallest\n"
   ]
  },
  {
   "cell_type": "markdown",
   "metadata": {},
   "source": [
    "#### 3. What happens if we ignore direction of flights and consider: \n",
    "* the number of \"unreacheable\" airports from SFO, OPF\n",
    "* the mean number of hops to other airports from SFO, OPF\n",
    "* max number of hops to other airports from SFO, OPF"
   ]
  },
  {
   "cell_type": "code",
   "execution_count": null,
   "metadata": {},
   "outputs": [],
   "source": []
  },
  {
   "cell_type": "markdown",
   "metadata": {},
   "source": [
    "### Possible Solutions"
   ]
  },
  {
   "cell_type": "code",
   "execution_count": null,
   "metadata": {},
   "outputs": [],
   "source": [
    "\n",
    "## outgoing connections\n",
    "x = np.argwhere(g.degree(mode='out') == np.max(g.degree(mode='out'))).flatten()\n",
    "for v in x:\n",
    "    print(g.vs[v]['name'],\"has outgoing connections to\",g.degree(v,'out'),\"airports\")\n",
    "\n",
    "## incoming connections\n",
    "x = np.argwhere(g.degree(mode='in') == np.max(g.degree(mode='in'))).flatten()\n",
    "for v in x:\n",
    "    print(g.vs[v]['name'],\"has incoming connections from\",g.degree(v,'in'),\"airports\")\n",
    "\n",
    "## any connections\n",
    "x = np.argwhere(g_und.degree() == np.max(g_und.degree())).flatten()\n",
    "for v in x:\n",
    "    print(g_und.vs[v]['name'],\"has connections with\",g_und.degree(v),\"airports\")\n",
    "\n",
    "## largest number of passengers - outgoing\n",
    "v = np.argmax(g.strength(mode='out', weights='weight'))\n",
    "print(g.vs[v]['name'],\"has\",g.strength(v,'out', weights='weight'),\"outgoing passengers\")\n",
    "\n",
    "## largest number of passengers - incoming\n",
    "v = np.argmax(g.strength(mode='in', weights='weight'))\n",
    "print(g.vs[v]['name'],\"has\",g.strength(v,'in', weights='weight'),\"incoming passengers\")\n",
    "\n",
    "## largest number of passengers - total\n",
    "v = np.argmax(g_und.strength(weights='weight'))\n",
    "print(g_und.vs[v]['name'],\"has\",g.strength(v, weights='weight'),\"total passengers\")\n",
    "\n",
    "## smallest number of passengers - total\n",
    "v = np.argmin(g_und.strength(weights='weight'))\n",
    "print(g_und.vs[v]['name'],\"has\",g.strength(v, weights='weight'),\"total passengers\")\n",
    "\n",
    "## undirected short paths\n",
    "for ap in [\"SFO\",\"OPF\"]:\n",
    "    print(\"\\nlooking at:\",ap)\n",
    "    v = g.vs.find(name=ap)\n",
    "    sp = g.distances(source=v, mode='all')\n",
    "    print('number of unreacheable airports:',sum([i == np.inf for i in sp[0]]))\n",
    "    print('mean number of hops to other airports:',np.mean([i for i in sp[0] if i != np.inf ]))\n",
    "    print('max number of hops to other airports:',np.max([i for i in sp[0] if i != np.inf ]))"
   ]
  },
  {
   "cell_type": "markdown",
   "metadata": {},
   "source": [
    "## 1.3 Node importance\n"
   ]
  },
  {
   "cell_type": "markdown",
   "metadata": {},
   "source": [
    "### Coreness (k-cores)\n",
    "\n",
    "The **k-core** of a graph is the maximal subgraph where all nodes have degree at least k. The **coreness** of a node is k if it belongs to the k-core, but not the (k+1)-core. \n",
    "\n",
    "This is usually done with the **un-directed** degrees, but one can also look for 'in' and 'out' k-cores.\n",
    "\n",
    "Below we compute coreness for the undirected version of the airport graph. We see:\n",
    "\n",
    "* many nodes in large 50-core subgraph (which we plot)\n",
    "* many nodes with small coreness (1 or 2)\n",
    "\n",
    "Pruning nodes with small coreness often drastically reduces the size of the graph."
   ]
  },
  {
   "cell_type": "code",
   "execution_count": null,
   "metadata": {},
   "outputs": [],
   "source": [
    "g_und = g_und.simplify(combine_edges=sum)\n",
    "\n",
    "## most frequent coreness values\n",
    "g_und.vs['core'] = g_und.coreness()\n",
    "Counter(g_und.vs['core']).most_common(3)"
   ]
  },
  {
   "cell_type": "code",
   "execution_count": null,
   "metadata": {},
   "outputs": [],
   "source": [
    "plt.hist(g_und.vs['core'], bins=25);"
   ]
  },
  {
   "cell_type": "markdown",
   "metadata": {},
   "source": [
    "Let's look at the largest k-core - plot with lat/lon layout"
   ]
  },
  {
   "cell_type": "code",
   "execution_count": null,
   "metadata": {},
   "outputs": [],
   "source": [
    "sg = g_und.subgraph([v for v in g_und.vs if v['core'] == 50])\n",
    "ig.plot(sg,bbox=(600,450), vertex_label=sg.vs['name'], vertex_size=15,layout=sg.vs['layout'],\n",
    "            vertex_label_size=6, margin=50)"
   ]
  },
  {
   "cell_type": "markdown",
   "metadata": {},
   "source": [
    "## Centrality, betweenness\n",
    "\n",
    "There are various ways to define the most **important** nodes in a network.\n",
    "Two families of measures are:\n",
    "\n",
    "* Node **centrality**, which includes measures such as **degree** and **pagerank**.\n",
    " * those measure overall connectedness in various ways\n",
    "* **Betweenness** measures the proportion of shortest paths going through some node or edge.\n",
    "\n",
    "Let's explore this with the undirected airport graph."
   ]
  },
  {
   "cell_type": "code",
   "execution_count": null,
   "metadata": {
    "scrolled": true
   },
   "outputs": [],
   "source": [
    "df = pd.DataFrame()\n",
    "df['degree'] = g_und.degree()\n",
    "df['pagerank'] = g_und.pagerank(weights='weight')\n",
    "n = g_und.vcount()\n",
    "df['between'] = [2 * x / ((n - 1) * (n - 2)) for x in g_und.betweenness()] ## normalized\n",
    "df['state'] = g_und.vs['state']\n",
    "df['city'] = g_und.vs['city']\n",
    "df['name'] = g_und.vs['name']\n",
    "df.sort_values(by='pagerank', inplace=True, ascending=False)\n",
    "df.head()"
   ]
  },
  {
   "cell_type": "code",
   "execution_count": null,
   "metadata": {
    "scrolled": true
   },
   "outputs": [],
   "source": [
    "df.sort_values(by='between', inplace=True, ascending=False)\n",
    "df.head()"
   ]
  },
  {
   "cell_type": "code",
   "execution_count": null,
   "metadata": {
    "scrolled": false
   },
   "outputs": [],
   "source": [
    "plt.scatter(df['degree'],df['pagerank'])\n",
    "plt.xlabel('degree')\n",
    "plt.ylabel('pagerank');"
   ]
  },
  {
   "cell_type": "code",
   "execution_count": null,
   "metadata": {},
   "outputs": [],
   "source": [
    "plt.scatter(df['degree'],df['between'])\n",
    "plt.xlabel('degree')\n",
    "plt.ylabel('betweenness');"
   ]
  },
  {
   "cell_type": "markdown",
   "metadata": {},
   "source": [
    "### Questions\n",
    "\n",
    "There is one node with low degree but betweenness above 0.02.\n",
    "\n",
    "#### 1. Which node is it?"
   ]
  },
  {
   "cell_type": "code",
   "execution_count": null,
   "metadata": {},
   "outputs": [],
   "source": []
  },
  {
   "cell_type": "markdown",
   "metadata": {},
   "source": [
    "#### 2. What could explain the low degree and relatively high betweenness score?\n",
    "\n"
   ]
  },
  {
   "cell_type": "code",
   "execution_count": null,
   "metadata": {},
   "outputs": [],
   "source": []
  },
  {
   "cell_type": "markdown",
   "metadata": {},
   "source": [
    "### Possible Solutions"
   ]
  },
  {
   "cell_type": "code",
   "execution_count": null,
   "metadata": {},
   "outputs": [],
   "source": [
    "## low degree, high betweenness node\n",
    "print(df.loc[ (df['degree']<25) & (df['between']>.02)])\n",
    "\n",
    "## look at its ego-net ... along with edge weights\n",
    "v = g_und.vs.find('LSV')\n",
    "sg = g_und.subgraph(g_und.neighborhood(v))\n",
    "ig.plot(sg,bbox=(600,400), vertex_label=sg.vs['name'], vertex_size=15,layout=sg.vs['layout'],\n",
    "            vertex_label_size=6, margin=50, edge_label=sg.es['weight'])\n"
   ]
  },
  {
   "cell_type": "markdown",
   "metadata": {},
   "source": [
    "# Bonus Exercise - a different graph\n",
    "\n",
    "The airport graph, as well as most social type graphs, have some common structure: \n",
    "* **power-law** degree distribution\n",
    "* **small world** behaviour (a.k.a. 6-degree of separation)\n",
    "    \n",
    "In the 'Example' subdirectory of the datasets, there are two files:\n",
    "* edges: 2-ples, undirected, unweighted edges (no header)\n",
    "* nodes: csv file with node attributes (with header)\n",
    "\n",
    "Beware: node names are integers\n",
    "\n",
    "Follow the steps:\n",
    "\n",
    "#### 1. Build an undirected, unweighed graph using the 'edges' file and remove loops; how many nodes/edges are there?\n",
    "\n"
   ]
  },
  {
   "cell_type": "code",
   "execution_count": null,
   "metadata": {},
   "outputs": [],
   "source": []
  },
  {
   "cell_type": "code",
   "execution_count": null,
   "metadata": {},
   "outputs": [],
   "source": []
  },
  {
   "cell_type": "markdown",
   "metadata": {},
   "source": [
    "#### 2. Plot a histogram of the degree distribution"
   ]
  },
  {
   "cell_type": "code",
   "execution_count": null,
   "metadata": {},
   "outputs": [],
   "source": []
  },
  {
   "cell_type": "code",
   "execution_count": null,
   "metadata": {},
   "outputs": [],
   "source": []
  },
  {
   "cell_type": "markdown",
   "metadata": {},
   "source": [
    "#### 3. Find the mean/max path lengths from a few nodes to all nodes. From the results of the previous 2 steps ... what do you think this graph could be?"
   ]
  },
  {
   "cell_type": "code",
   "execution_count": null,
   "metadata": {},
   "outputs": [],
   "source": []
  },
  {
   "cell_type": "code",
   "execution_count": null,
   "metadata": {},
   "outputs": [],
   "source": []
  },
  {
   "cell_type": "markdown",
   "metadata": {},
   "source": [
    "#### 4. Load the node attributes, which include lat/lon.  Use those to plot the graph, what now?"
   ]
  },
  {
   "cell_type": "code",
   "execution_count": null,
   "metadata": {},
   "outputs": [],
   "source": []
  },
  {
   "cell_type": "code",
   "execution_count": null,
   "metadata": {},
   "outputs": [],
   "source": []
  },
  {
   "cell_type": "markdown",
   "metadata": {},
   "source": [
    "### Possible Solutions"
   ]
  },
  {
   "cell_type": "code",
   "execution_count": null,
   "metadata": {},
   "outputs": [],
   "source": [
    "## 1. read edge list and build undirected simple graph\n",
    "gr = ig.Graph.Read_Ncol(datadir+'Example/edges', directed=False, )\n",
    "gr = gr.simplify()\n",
    "print(gr.vcount(), 'nodes and',gr.ecount(),'edges')\n",
    "print(gr.vs[0])"
   ]
  },
  {
   "cell_type": "code",
   "execution_count": null,
   "metadata": {},
   "outputs": [],
   "source": [
    "## 2. degrees - mostly small values ...\n",
    "print('max:',np.max(gr.degree()))\n",
    "plt.hist(gr.degree(), bins=16);"
   ]
  },
  {
   "cell_type": "code",
   "execution_count": null,
   "metadata": {},
   "outputs": [],
   "source": [
    "## 3. shortest paths for some a few node(s) -- much larger values than the airport graph ...\n",
    "print('number of nodes:',gr.vcount())\n",
    "for v in [0,1000]:\n",
    "    print(\"\\nlooking at node:\",v)\n",
    "    sp = gr.distances(source=v)\n",
    "    print('number of unreacheable nodes:',sum([i == np.inf for i in sp[0]]))\n",
    "    print('mean number of hops to other nodes:',np.mean([i for i in sp[0] if i != np.inf ]))\n",
    "    print('max number of hops to other nodes:',np.max([i for i in sp[0] if i != np.inf ]))\n"
   ]
  },
  {
   "cell_type": "code",
   "execution_count": null,
   "metadata": {},
   "outputs": [],
   "source": [
    "## 4. read node attributes\n",
    "X = pd.read_csv(datadir+'Example/nodes')\n",
    "X.head()"
   ]
  },
  {
   "cell_type": "code",
   "execution_count": null,
   "metadata": {},
   "outputs": [],
   "source": [
    "## we have attribute by vertex name -- map to proper indices\n",
    "lookup = {str(k):v for v,k in enumerate(X['name'])}\n",
    "l = [lookup[x] for x in gr.vs()['name']]\n",
    "\n",
    "## store layout attributes in graph and plot\n",
    "## nb: we use negative latitude for layout due to location of origin\n",
    "gr.vs['layout'] = [(X['lon'][i],-X['lat'][i]) for i in l]\n",
    "ig.plot(gr, bbox=(500,400), layout = gr.vs['layout'], vertex_size=3, vertex_color='lightblue', margin=50)\n"
   ]
  },
  {
   "cell_type": "markdown",
   "metadata": {},
   "source": [
    "### Europe Electric Grid\n",
    "\n",
    "Network of high voltage grid in Europe. Vertices are stations and edges are the lines connecting them.\n",
    "More details at: https://zenodo.org/record/47317#.Xt6nzy3MxTY\n"
   ]
  },
  {
   "cell_type": "code",
   "execution_count": null,
   "metadata": {
    "scrolled": true
   },
   "outputs": [],
   "source": [
    "## clean up\n",
    "del(g.vs['cc'])\n",
    "del(g_und.vs['core'])\n",
    "del(gr)"
   ]
  },
  {
   "cell_type": "markdown",
   "metadata": {},
   "source": [
    "# Part 2 - Clustering"
   ]
  },
  {
   "cell_type": "markdown",
   "metadata": {},
   "source": [
    "## 2.1 Random Graph Models\n",
    "\n",
    "Random graph models are useful for various reasons:\n",
    "* interpretation of results on real graphs (ex: is this value expected? high? low?)\n",
    "* to compare algorithms (ex: clustering algorithms)\n",
    "* to study theoretical properties\n",
    "\n",
    "Usually, we fix some aspects of the graph, such as the **number of nodes**, and randomly sample.\n",
    "There are many such models, including:\n",
    "* Erdos-Renyi model: fix the number of nodes and randomly place edges\n",
    "* Chung-Lu/Configuration models: as above, but given a degree distribution for the nodes\n",
    "* Barabasi-Albert model: \"the righ gets richer\" model; a new node is more likely to link with a hub\n",
    "* LFR, ABCD models: power-law node degree distribution with ground-truth communities\n",
    "\n",
    "Let's explore. \n",
    "\n",
    "First, an Erdos-Renyi (ER) graph with same number of nodes/edges as (undirected) airport graph"
   ]
  },
  {
   "cell_type": "code",
   "execution_count": null,
   "metadata": {
    "scrolled": false
   },
   "outputs": [],
   "source": [
    "g_er = ig.Graph.Erdos_Renyi(n=g_und.vcount(), m=g_und.ecount())\n",
    "print('min degree',np.min(g_er.degree()),'max degree',np.max(g_er.degree()))\n",
    "ig.plot(g_er, vertex_size=5, vertex_color='lightblue', edge_color='grey', bbox=(500,400))"
   ]
  },
  {
   "cell_type": "markdown",
   "metadata": {},
   "source": [
    "Now a configuration model with the same degree sequence as airport graph\n",
    "\n"
   ]
  },
  {
   "cell_type": "code",
   "execution_count": null,
   "metadata": {
    "scrolled": false
   },
   "outputs": [],
   "source": [
    "g_ds = ig.Graph.Degree_Sequence(g_und.degree())\n",
    "print('min degree',np.min(g_ds.degree()),'max degree',np.max(g_ds.degree()))\n",
    "ig.plot(g_ds, vertex_size=5, vertex_color='lightblue', edge_color='grey', bbox=(500,400))"
   ]
  },
  {
   "cell_type": "markdown",
   "metadata": {},
   "source": [
    "## 2.2 Triangles and Transitivity\n",
    "\n",
    "* Edges represent relations between entities (nodes) in graphs/networks.\n",
    "\n",
    "* The next fundamental motifs are **triangles**\n",
    "\n",
    "* The presence of triangles is indicative of communities (dense subgraph(s) in a graph)\n",
    "\n",
    "* Two fundamental measures of the presence of triangles in graphs are:\n",
    "\n",
    "    * **transitivity** (global clustering coefficients) measures the proportion of wedges (two-hop path in an undirected graph) that form a triangle\n",
    "    * **local transitivity** (local clustering coefficient) for a node is the proportion of pairs of neighbours that form a triangle; we also define the **average local transitivity** by averaging over all nodes of degree at least 2.\n",
    "\n",
    "Those measures assume **undirected** graphs.\n",
    "\n",
    "While we can define triangles and other motifs for directed graphs, clustering generally assumes undirected graphs.\n",
    "\n",
    "We compute the above for the airport graph, as we look for nodes with high/low local transitivity."
   ]
  },
  {
   "cell_type": "code",
   "execution_count": null,
   "metadata": {},
   "outputs": [],
   "source": [
    "print('trans:',g_und.transitivity_undirected())\n",
    "print('avg local trans:',g_und.transitivity_avglocal_undirected())"
   ]
  },
  {
   "cell_type": "markdown",
   "metadata": {},
   "source": [
    "Now, local transitivity - nodes with degree < 2 will get 0"
   ]
  },
  {
   "cell_type": "code",
   "execution_count": null,
   "metadata": {},
   "outputs": [],
   "source": [
    "g_und.vs['trans'] = g_und.transitivity_local_undirected(mode='zero') "
   ]
  },
  {
   "cell_type": "markdown",
   "metadata": {},
   "source": [
    "High transitivity"
   ]
  },
  {
   "cell_type": "code",
   "execution_count": null,
   "metadata": {},
   "outputs": [],
   "source": [
    "v = np.argmax(g_und.vs['trans'])\n",
    "print('airport:',g_und.vs[v]['name'],', plotting its ego-net:')\n",
    "sg = g_und.subgraph(g_und.neighborhood(v))\n",
    "ig.plot(sg,bbox=(400,300), vertex_label=sg.vs['name'], vertex_size=15,layout=sg.vs['layout'],\n",
    "            vertex_label_size=6, vertex_color='lightblue', margin=50)\n"
   ]
  },
  {
   "cell_type": "markdown",
   "metadata": {},
   "source": [
    "Transitivity for an ER graph\n",
    "\n"
   ]
  },
  {
   "cell_type": "code",
   "execution_count": null,
   "metadata": {},
   "outputs": [],
   "source": [
    "print('trans:',g_er.transitivity_undirected())\n",
    "print('avg local trans:',g_er.transitivity_avglocal_undirected())\n"
   ]
  },
  {
   "cell_type": "markdown",
   "metadata": {},
   "source": [
    "Transitivity for random graph with the same degree sequence\n",
    "\n"
   ]
  },
  {
   "cell_type": "code",
   "execution_count": null,
   "metadata": {},
   "outputs": [],
   "source": [
    "print('trans:',g_ds.transitivity_undirected())\n",
    "print('avg local trans:',g_ds.transitivity_avglocal_undirected())\n"
   ]
  },
  {
   "cell_type": "markdown",
   "metadata": {},
   "source": [
    "### Cliques\n",
    "\n",
    "Triangles are also known as **3-cliques**; \n",
    "a clique of size k is a fully connected subgraph with k nodes.\n",
    "\n",
    "The **clique number** is the size of the largest clique.\n"
   ]
  },
  {
   "cell_type": "markdown",
   "metadata": {},
   "source": [
    "Cliques in the Airport graph"
   ]
  },
  {
   "cell_type": "code",
   "execution_count": null,
   "metadata": {},
   "outputs": [],
   "source": [
    "print('number of 3-cliques:', len(g_und.cliques(min=3, max=3)))\n",
    "print('number of 4-cliques:', len(g_und.cliques(min=4, max=4)))\n",
    "print('max clique:', g_und.clique_number())"
   ]
  },
  {
   "cell_type": "markdown",
   "metadata": {},
   "source": [
    "Cliques in the ER graph"
   ]
  },
  {
   "cell_type": "code",
   "execution_count": null,
   "metadata": {},
   "outputs": [],
   "source": [
    "print('number of 3-cliques:', len(g_er.cliques(min=3, max=3)))\n",
    "print('number of 4-cliques:', len(g_er.cliques(min=4, max=4)))\n",
    "print('max clique:', g_er.clique_number())"
   ]
  },
  {
   "cell_type": "markdown",
   "metadata": {},
   "source": [
    "Cliques in the degree sequence graph"
   ]
  },
  {
   "cell_type": "code",
   "execution_count": null,
   "metadata": {},
   "outputs": [],
   "source": [
    "print('number of 3-cliques:',len(g_ds.cliques(min=3, max=3)))\n",
    "print('number of 4-cliques:',len(g_ds.cliques(min=4, max=4)))\n",
    "print('max clique:',g_ds.clique_number())"
   ]
  },
  {
   "cell_type": "markdown",
   "metadata": {},
   "source": [
    "### Directed graphs\n",
    "\n",
    "Clique finding assumes undirected graphs (see below).\n",
    "\n",
    "For directed graphs, there are 16 different possibilities for each **triad**\n",
    "\n",
    "REF: \"The Structure of Positive Interpersonal Relations in Small Groups (1967)\"\n",
    "\n",
    "The **triad census** function counts all occurrences, and returns the counts in a specific ordering:\n",
    "* '003': no edge\n",
    "* '012': 1 directed edge only\n",
    "* '102': 2 directed edges in opposite direction between the same pair of nodes\n",
    "* ...\n",
    "* '300': all 6 directed edges are present.\n"
   ]
  },
  {
   "cell_type": "code",
   "execution_count": null,
   "metadata": {},
   "outputs": [],
   "source": [
    "len(g.cliques(min=3,max=3))"
   ]
  },
  {
   "cell_type": "code",
   "execution_count": null,
   "metadata": {},
   "outputs": [],
   "source": [
    "tc = g.triad_census()\n",
    "print('number of triads:',np.sum(tc))\n",
    "print('by type:',tuple(tc))"
   ]
  },
  {
   "cell_type": "markdown",
   "metadata": {},
   "source": [
    "### Questions\n",
    "\n",
    "#### 1. Find the node in the undirected airport graph with degree 5 or more having the lowest transitivity.\n"
   ]
  },
  {
   "cell_type": "code",
   "execution_count": null,
   "metadata": {},
   "outputs": [],
   "source": []
  },
  {
   "cell_type": "code",
   "execution_count": null,
   "metadata": {},
   "outputs": [],
   "source": []
  },
  {
   "cell_type": "code",
   "execution_count": null,
   "metadata": {},
   "outputs": [],
   "source": []
  },
  {
   "cell_type": "markdown",
   "metadata": {},
   "source": [
    "#### 2. Which triad motif is the rarest in the (directed) airport graph? \n",
    "\n"
   ]
  },
  {
   "cell_type": "code",
   "execution_count": null,
   "metadata": {},
   "outputs": [],
   "source": []
  },
  {
   "cell_type": "code",
   "execution_count": null,
   "metadata": {},
   "outputs": [],
   "source": []
  },
  {
   "cell_type": "code",
   "execution_count": null,
   "metadata": {},
   "outputs": [],
   "source": []
  },
  {
   "cell_type": "markdown",
   "metadata": {},
   "source": [
    "### Possible Solutions"
   ]
  },
  {
   "cell_type": "code",
   "execution_count": null,
   "metadata": {},
   "outputs": [],
   "source": [
    "## node with low transitivity, degree at least 5\n",
    "x = np.argmin([v['trans'] for v in g_und.vs if g_und.degree(v)>=5])\n",
    "v = [v for v in g_und.vs if g_und.degree(v)>=5][x]\n",
    "print('airport:',v['name'],', plotting its ego-net:')\n",
    "sg = g_und.subgraph(g_und.neighborhood(v))\n",
    "ig.plot(sg,bbox=(400,300), vertex_label=sg.vs['name'], vertex_size=15,layout=sg.vs['layout'],\n",
    "            vertex_label_size=6, vertex_color='lightblue', margin=50)\n",
    "\n",
    "## Recall that LSV is also the node we found to have low degree/centrality, but relatively high betweenness\n"
   ]
  },
  {
   "cell_type": "code",
   "execution_count": null,
   "metadata": {
    "scrolled": true
   },
   "outputs": [],
   "source": [
    "## The rarest triad motif is the 10th, which is motif '030C', a cycle of directed edges.\n",
    "\n",
    "## There are more node pairs with two edges than with a single edge.\n",
    "print('number of edges:',g.ecount())\n",
    "g.es['mark'] = 1\n",
    "print(Counter(g.as_undirected(combine_edges=sum).es['mark']))\n",
    "del(g.es['mark'])"
   ]
  },
  {
   "cell_type": "code",
   "execution_count": null,
   "metadata": {},
   "outputs": [],
   "source": [
    "## clean-up\n",
    "del(g_und.vs['trans'])"
   ]
  },
  {
   "cell_type": "markdown",
   "metadata": {},
   "source": [
    "## 2.3 Clustering\n",
    "\n",
    "Graph clustering, a.k.a. node partitioning, is a very active research area, with dozens of algorithms.\n",
    "Some good ones are:\n",
    "\n",
    "* Louvain (multilevel): \n",
    "    * modularity optimization \n",
    "    * suffers from resolution limit (may merge \"natural\" communities)\n",
    "    * may return disconnected communities\n",
    "    * fast\n",
    "    * somewhat unstable for graphs with homogeneous edge weights\n",
    "* Leiden:\n",
    "    * Louvain-based\n",
    "    * faster\n",
    "    * communities are all connected\n",
    "* ECG (ensemble clustering):\n",
    "    * Louvain-based\n",
    "    * better stability for graphs with homogeneous edge weights\n",
    "    * less affected by resolution limit\n",
    "* Infomap\n",
    "    * based on information theory concepts: encoding random walks is shorter within communities\n",
    "    * good results with low to moderate noise graphs\n",
    "    * may not converge at all for noisy graphs\n",
    "* Label Propagation\n",
    "    * very fast\n",
    "    * will not converge at all for noisy graphs\n",
    "\n",
    "Measures of community strength include:\n",
    "* modularity (\"proportion of edges. within communities\" - \"expected proportion under null model\")\n",
    "* comparing degree within and between communities overall\n",
    "* comarting degree within and between communities for each vertex"
   ]
  },
  {
   "cell_type": "markdown",
   "metadata": {},
   "source": [
    "Let's start by clustering the ER graph "
   ]
  },
  {
   "cell_type": "code",
   "execution_count": null,
   "metadata": {},
   "outputs": [],
   "source": [
    "ec = g_er.community_ecg()\n",
    "ec.membership[:5] # component list of nodes"
   ]
  },
  {
   "cell_type": "markdown",
   "metadata": {},
   "source": [
    "How many communities are there? "
   ]
  },
  {
   "cell_type": "code",
   "execution_count": null,
   "metadata": {},
   "outputs": [],
   "source": [
    "np.max(ec.membership) + 1 # membership is 0-indexed\n"
   ]
  },
  {
   "cell_type": "markdown",
   "metadata": {},
   "source": [
    "What's the modularity?"
   ]
  },
  {
   "cell_type": "code",
   "execution_count": null,
   "metadata": {},
   "outputs": [],
   "source": [
    "g_er.modularity(ec.membership)"
   ]
  },
  {
   "cell_type": "markdown",
   "metadata": {},
   "source": [
    "Degree between and within communities"
   ]
  },
  {
   "cell_type": "code",
   "execution_count": null,
   "metadata": {},
   "outputs": [],
   "source": [
    "g_er.es['label'] = 1\n",
    "G = ec.cluster_graph(combine_edges=sum)\n",
    "G.vs['label'] = [2*G.ecount() for G in ec.subgraphs()]\n",
    "ig.plot(G, bbox=(400,300), vertex_label_size=8, edge_label_size=8)"
   ]
  },
  {
   "cell_type": "markdown",
   "metadata": {},
   "source": [
    "### ABCD graphs to compare algorithms\n",
    "\n",
    "This model generates graphs with power-law degree distribution and communities.\n",
    "\n",
    "The strength of the communities is adjusted via a 'noise' parameter 'mu'.\n",
    "\n",
    "Code is very fast (Julia): https://github.com/bkamins/ABCDGraphGenerator.jl\n",
    "\n",
    "Even faster multi-thread version: https://github.com/tolcz/ABCDeGraphGenerator.jl\n",
    "\n",
    "Generalizations in development:\n",
    "* graphs with communities and outlier nodes\n",
    "* hypergraphs\n",
    "\n",
    "We'll look at two ABCD graphs, along with ground-truth communities:\n",
    "\n",
    "* 1000 nodes, 14 communities, 1/3 'noise' edges (mu = 0.33)\n",
    "* 1000 nodes, 14 communities, 2/3 'noise' edges (mu = 0.67)"
   ]
  },
  {
   "cell_type": "markdown",
   "metadata": {},
   "source": [
    "### Comparing resulting communities\n",
    "\n",
    "When ground truth is available, good measures to compare various clustering results are:\n",
    "* Adjusted mutual information (AMI)\n",
    "* Adjusted RAND index (ARI)\n",
    "* Adjusted graph-aware RAND index (AGRI)"
   ]
  },
  {
   "cell_type": "code",
   "execution_count": null,
   "metadata": {},
   "outputs": [],
   "source": [
    "def print_scores(g, clustering):\n",
    "    print('Number of communities:', np.max(clustering.membership)+1)\n",
    "    print('AMI:', AMI(g.vs['gt'],clustering.membership),\n",
    "          '\\tARI:', ARI(g.vs['gt'],clustering.membership),\n",
    "          '\\tAGRI:', partition_igraph.gam(g, {k:v['gt'] for k,v in enumerate(g.vs)}, clustering))\n",
    "    print('modularity:', g.modularity(clustering.membership))"
   ]
  },
  {
   "cell_type": "markdown",
   "metadata": {},
   "source": [
    "Let's build a graph where we know some ground truth about communities and evaluate different algorigthms. "
   ]
  },
  {
   "cell_type": "code",
   "execution_count": null,
   "metadata": {},
   "outputs": [],
   "source": [
    "mu = 33 ## 1/3 noise edges"
   ]
  },
  {
   "cell_type": "code",
   "execution_count": null,
   "metadata": {},
   "outputs": [],
   "source": [
    "df = pd.read_csv(datadir+'ABCD/edges_'+str(mu)+'.dat', sep='\\t', header=None)\n",
    "abcd33 = ig.Graph.TupleList([tuple(x) for x in df.values], directed=False)\n",
    "\n",
    "## load ground-truth communities - add as node attribute\n",
    "df = pd.read_csv(datadir+'ABCD/communities_'+str(mu)+'.dat', sep='\\t', header=None)\n",
    "gt = dict([tuple(x) for x in df.values])\n",
    "abcd33.vs['gt'] = [gt[x] for x in abcd33.vs['name']]"
   ]
  },
  {
   "cell_type": "markdown",
   "metadata": {},
   "source": [
    "Here's how the different algorithms do using AMI, ARI, AGRI and modularity"
   ]
  },
  {
   "cell_type": "code",
   "execution_count": null,
   "metadata": {},
   "outputs": [],
   "source": [
    "print('Number of ground-truth communities:', np.max(abcd33.vs['gt']),'\\n')\n",
    "print('Louvain:')\n",
    "print_scores(abcd33, abcd33.community_multilevel())\n",
    "print('\\nLeiden:')\n",
    "print_scores(abcd33, abcd33.community_leiden(objective_function='modularity'))\n",
    "print('\\nECG:')\n",
    "print_scores(abcd33, abcd33.community_ecg())\n",
    "print('\\nInfomap:')\n",
    "print_scores(abcd33, abcd33.community_infomap())\n",
    "print('\\nLabel Propagation:')\n",
    "print_scores(abcd33, abcd33.community_label_propagation())"
   ]
  },
  {
   "cell_type": "markdown",
   "metadata": {},
   "source": [
    "Let's visualize by coloring w.r.t. the ground truth communities"
   ]
  },
  {
   "cell_type": "code",
   "execution_count": null,
   "metadata": {},
   "outputs": [],
   "source": [
    "nc = max(abcd33.vs['gt'])\n",
    "pal = ig.ClusterColoringPalette(nc+1)\n",
    "abcd33.vs['color'] = [pal.get(i) for i in abcd33.vs['gt']]\n",
    "ly = abcd33.layout_fruchterman_reingold()\n",
    "ig.plot(abcd33, layout=ly, vertex_size=5, bbox=(0,0,500,400), edge_color='lightgrey')"
   ]
  },
  {
   "cell_type": "markdown",
   "metadata": {},
   "source": [
    "Let's collapse communities to show degree between and within communities"
   ]
  },
  {
   "cell_type": "code",
   "execution_count": null,
   "metadata": {
    "scrolled": false
   },
   "outputs": [],
   "source": [
    "ec = abcd33.community_ecg()\n",
    "abcd33.es['label'] = 1\n",
    "G = ec.cluster_graph(combine_edges={'label':sum})\n",
    "G.vs['label'] = [2*G.ecount() for G in ec.subgraphs()]\n",
    "del(abcd33.es['label']) ## clean up\n",
    "ig.plot(G, bbox=(400,300), vertex_label_size=8, edge_label_size=8)"
   ]
  },
  {
   "cell_type": "markdown",
   "metadata": {},
   "source": [
    "Let's look at what happens if we adjust the noise"
   ]
  },
  {
   "cell_type": "code",
   "execution_count": null,
   "metadata": {},
   "outputs": [],
   "source": [
    "mu = 67 ## 2/3 noise edges"
   ]
  },
  {
   "cell_type": "code",
   "execution_count": null,
   "metadata": {},
   "outputs": [],
   "source": [
    "## load edges, build graph\n",
    "df = pd.read_csv(datadir+'ABCD/edges_'+str(mu)+'.dat', sep='\\t', header=None)\n",
    "abcd67 = ig.Graph.TupleList([tuple(x) for x in df.values], directed=False)\n",
    "\n",
    "## load ground-truth communities - add as node attribute\n",
    "df = pd.read_csv(datadir+'ABCD/communities_'+str(mu)+'.dat', sep='\\t', header=None)\n",
    "gt = dict([tuple(x) for x in df.values])\n",
    "abcd67.vs['gt'] = [gt[x] for x in abcd67.vs['name']]"
   ]
  },
  {
   "cell_type": "code",
   "execution_count": null,
   "metadata": {},
   "outputs": [],
   "source": [
    "print('Number of ground-truth communities:', np.max(abcd67.vs['gt']),'\\n')\n",
    "print('Louvain:')\n",
    "print_scores(abcd67, abcd67.community_multilevel())\n",
    "print('\\nLeiden:')\n",
    "print_scores(abcd67, abcd67.community_leiden(objective_function='modularity'))\n",
    "print('\\nECG:')\n",
    "print_scores(abcd67, abcd67.community_ecg())\n",
    "print('\\nInfomap:')\n",
    "print_scores(abcd67, abcd67.community_infomap())\n",
    "print('\\nLabel Propagation:')\n",
    "print_scores(abcd67, abcd67.community_label_propagation())"
   ]
  },
  {
   "cell_type": "code",
   "execution_count": null,
   "metadata": {},
   "outputs": [],
   "source": [
    "nc = max(abcd67.vs['gt'])\n",
    "pal = ig.ClusterColoringPalette(nc+1)\n",
    "abcd67.vs['color'] = [pal.get(i) for i in abcd67.vs['gt']]\n",
    "ly = abcd67.layout_fruchterman_reingold()\n",
    "ig.plot(abcd67, layout=ly, vertex_size=5, bbox=(0,0,500,400), edge_color='lightgrey')\n"
   ]
  },
  {
   "cell_type": "code",
   "execution_count": null,
   "metadata": {},
   "outputs": [],
   "source": [
    "ec = abcd67.community_ecg()\n",
    "abcd67.es['label'] = 1\n",
    "G = ec.cluster_graph(combine_edges={'label':sum})\n",
    "G.vs['label'] = [2*G.ecount() for G in ec.subgraphs()]\n",
    "del(abcd67.es['label']) ## clean up\n",
    "ig.plot(G, bbox=(400,300), vertex_label_size=8, edge_label_size=8)"
   ]
  },
  {
   "cell_type": "markdown",
   "metadata": {},
   "source": [
    "### Clusters in the airport graph using Louvain"
   ]
  },
  {
   "cell_type": "code",
   "execution_count": null,
   "metadata": {},
   "outputs": [],
   "source": [
    "## Louvain algorithm is randomized - fix the seed to compare results\n",
    "import random\n",
    "random.seed(31416)"
   ]
  },
  {
   "cell_type": "code",
   "execution_count": null,
   "metadata": {},
   "outputs": [],
   "source": [
    "ml = g_und.community_multilevel(weights='weight')\n",
    "g_und.vs['ml'] = ml.membership\n",
    "pal = ig.ClusterColoringPalette(n=np.max(ml.membership)+1)\n",
    "g_und.vs['color'] = [pal.get(i) for i in ml.membership]"
   ]
  },
  {
   "cell_type": "code",
   "execution_count": null,
   "metadata": {},
   "outputs": [],
   "source": [
    "g_und.modularity(ml.membership, weights='weight')"
   ]
  },
  {
   "cell_type": "code",
   "execution_count": null,
   "metadata": {},
   "outputs": [],
   "source": [
    "ig.plot(g_und, vertex_size=5, edge_color='grey', layout=g.vs['layout'], bbox=(500,400))"
   ]
  },
  {
   "cell_type": "markdown",
   "metadata": {},
   "source": [
    "Collapse communities to show degree between and within communities"
   ]
  },
  {
   "cell_type": "code",
   "execution_count": null,
   "metadata": {
    "scrolled": false
   },
   "outputs": [],
   "source": [
    "g_und.es['label'] = 1\n",
    "g_und.vs['lat'] = [v['layout'][0] for v in g_und.vs]\n",
    "g_und.vs['lon'] = [v['layout'][1] for v in g_und.vs]\n",
    "G = ml.cluster_graph(combine_vertices={'lat':np.mean,'lon':np.mean}, combine_edges={'label':sum})\n",
    "G.vs['label'] = [2*G.ecount() for G in ml.subgraphs()]\n",
    "ly = [(v['lat'],v['lon']) for v in G.vs]\n",
    "ig.plot(G, layout=ly, bbox=(450,350), vertex_label_size=8, edge_label_size=8, vertex_color='lightblue')"
   ]
  },
  {
   "cell_type": "code",
   "execution_count": null,
   "metadata": {},
   "outputs": [],
   "source": [
    "## clean up\n",
    "del(g_und.es['label'])\n",
    "del(g_und.vs['lat'])\n",
    "del(g_und.vs['lon'])"
   ]
  },
  {
   "cell_type": "markdown",
   "metadata": {},
   "source": [
    "### Ego-nets and communities\n",
    "\n",
    "Suppose we want to look at node \"near\" some seed node $v$. One common way to do this is to look at its **ego-net**, i.e. the subgraph consisting of node $v$ and all other nodes that can be reached from $v$ in $k$ hops or less, where $k$ is small, typically 1 or 2. \n",
    "\n",
    "Such subgraphs can become large quickly as we increase $k$. In the cells below, we look at ego-nets and compare with another approach to extract subgraph(s) around $v$ via clustering.\n",
    "\n",
    "We consider the undirected airport graph. We compare ego-nets (1 and 2-hops subgraphs from a given node) with clusters obtained via graph clustering for some vertex $v$ (you can try other vertices)."
   ]
  },
  {
   "cell_type": "markdown",
   "metadata": {},
   "source": [
    "Let's explore 'SCF' (not too high degree to allow for easy viz). "
   ]
  },
  {
   "cell_type": "code",
   "execution_count": null,
   "metadata": {},
   "outputs": [],
   "source": [
    "v = g_und.vs.find('SCF').index\n",
    "g_und.vs['color'] = 'lightblue'\n",
    "g_und.vs[v]['color'] = 'black' # make SCF black so we can easily spot it"
   ]
  },
  {
   "cell_type": "markdown",
   "metadata": {},
   "source": [
    "Show its ego-net for k=1 "
   ]
  },
  {
   "cell_type": "code",
   "execution_count": null,
   "metadata": {},
   "outputs": [],
   "source": [
    "sg = g_und.subgraph([i for i in g_und.neighborhood(v,order=1)])\n",
    "print(sg.vcount(),'nodes',sg.ecount(),'edges')\n",
    "ig.plot(sg,bbox=(0,0,300,300), vertex_size=8)"
   ]
  },
  {
   "cell_type": "markdown",
   "metadata": {},
   "source": [
    "Show the 2-core of its 2-hops ego-net ... this is already quite large!"
   ]
  },
  {
   "cell_type": "code",
   "execution_count": null,
   "metadata": {},
   "outputs": [],
   "source": [
    "sg = g_und.subgraph([i for i in g_und.neighborhood(v,order=2)])\n",
    "sg.vs()['core'] = sg.coreness()\n",
    "sg.delete_vertices([v for v in sg.vs if v['core']<2])\n",
    "print(sg.vcount(),'nodes',sg.ecount(),'edges')\n",
    "ig.plot(sg,bbox=(0,0,300,300), vertex_size=8, edge_color='lightgrey')"
   ]
  },
  {
   "cell_type": "markdown",
   "metadata": {},
   "source": [
    "Now compare this to using Louvain clustering and show the 2-core of the cluster containing the selected vertex\n",
    "\n"
   ]
  },
  {
   "cell_type": "code",
   "execution_count": null,
   "metadata": {},
   "outputs": [],
   "source": [
    "m = g_und.vs[v]['ml']\n",
    "sg = g_und.subgraph([i for i in range(g_und.vcount()) if ml.membership[i]==m])\n",
    "sg.vs()['core'] = sg.coreness()\n",
    "sg.delete_vertices([v for v in sg.vs if v['core']<2])\n",
    "print(sg.vcount(),'nodes',sg.ecount(),'edges')\n",
    "ig.plot(sg,bbox=(0,0,300,300), vertex_size=8, edge_color='lightgrey')"
   ]
  },
  {
   "cell_type": "markdown",
   "metadata": {},
   "source": [
    "What happens if we prune nodes 3+ hops away?"
   ]
  },
  {
   "cell_type": "code",
   "execution_count": null,
   "metadata": {},
   "outputs": [],
   "source": [
    "v = sg.vs.find(color='black')\n",
    "ssg = sg.subgraph([i for i in sg.neighborhood(v,order=2)])\n",
    "ssg.vs()['core'] = ssg.coreness()\n",
    "ssg.delete_vertices([v for v in ssg.vs if v['core']<2])\n",
    "print(ssg.vcount(),'nodes',ssg.ecount(),'edges')\n",
    "ig.plot(ssg,bbox=(0,0,300,300), vertex_size=8, edge_color='lightgrey')"
   ]
  },
  {
   "cell_type": "markdown",
   "metadata": {},
   "source": [
    "### Questions\n",
    "\n",
    "#### 1. What are the most frequent states in each of the Louvain clusters (ml) we found?\n"
   ]
  },
  {
   "cell_type": "code",
   "execution_count": null,
   "metadata": {},
   "outputs": [],
   "source": []
  },
  {
   "cell_type": "code",
   "execution_count": null,
   "metadata": {},
   "outputs": [],
   "source": []
  },
  {
   "cell_type": "markdown",
   "metadata": {},
   "source": [
    "#### 2. Find all airports of degree at least 10 that have all of their neighbours in their own Louvain cluster. \n"
   ]
  },
  {
   "cell_type": "code",
   "execution_count": null,
   "metadata": {},
   "outputs": [],
   "source": []
  },
  {
   "cell_type": "code",
   "execution_count": null,
   "metadata": {},
   "outputs": [],
   "source": []
  },
  {
   "cell_type": "markdown",
   "metadata": {},
   "source": [
    "### Possible Solutions"
   ]
  },
  {
   "cell_type": "code",
   "execution_count": null,
   "metadata": {},
   "outputs": [],
   "source": [
    "## Louvain - most frequent states\n",
    "for sg in ml.subgraphs():\n",
    "    print('cluster:',sg.vcount(),'nodes, frequent states:',Counter(sg.vs['state']).most_common(5))\n",
    "    \n",
    "## store community and degree for each node for quick reference\n",
    "g_und.vs['ml'] = ml.membership\n",
    "g_und.vs['degree'] = g_und.degree()\n",
    "\n",
    "## compute number of neighbours in same community for each node\n",
    "for v in g_und.vs:\n",
    "    if len(set([g_und.vs[w]['ml'] for w in g_und.neighborhood(v)])) == 1:\n",
    "        if v['degree'] >= 10:\n",
    "            print(v['name'],v['city'],v['state'],v['degree'])"
   ]
  },
  {
   "cell_type": "code",
   "execution_count": null,
   "metadata": {},
   "outputs": [],
   "source": [
    "## clean-up\n",
    "del(g_und.vs['ml'])\n",
    "del(g_und.vs['degree'])"
   ]
  },
  {
   "cell_type": "markdown",
   "metadata": {},
   "source": [
    "# To go further\n",
    "\n",
    "More topics can be found in:\n",
    "* book: https://www.ryerson.ca/mining-complex-networks\n",
    "* notebooks: https://github.com/ftheberge/GraphMiningNotebooks\n",
    "    \n",
    "including:   \n",
    "* more centrality measures\n",
    "* clustering: overlapping clusters, outliers    \n",
    "* degree assortativity\n",
    "* vertex and graph embedding\n",
    "* hypergraphs\n",
    "* network robustness\n",
    "* road networks\n"
   ]
  },
  {
   "cell_type": "markdown",
   "metadata": {},
   "source": [
    "## 2.4 Bonus module - Community-based anomaly detection"
   ]
  },
  {
   "cell_type": "markdown",
   "metadata": {},
   "source": [
    "### New dataset -- American College Football Graph\n",
    "\n",
    "This is a nice, small graph for illustrating anomaly detection methods.\n",
    "\n",
    "The graph consists of 115 US college football teams (nodes) playing games (edges).\n",
    "\n",
    "Teams are part of 12 conferences (the 'communities'):\n",
    "*   0 = Atlantic Coast\n",
    "*   1 = Big East\n",
    "*   2 = Big Ten\n",
    "*   3 = Big Twelve\n",
    "*   4 = Conference USA\n",
    "*   5 = Independents\n",
    "*   6 = Mid-American\n",
    "*   7 = Mountain West\n",
    "*   8 = Pacific Ten\n",
    "*   9 = Southeastern\n",
    "*  10 = Sun Belt\n",
    "*  11 = Western Athletic\n",
    "\n",
    "14 teams out of 115 appear as \"anomalies\", namely:\n",
    "- the 5 teams in #5 conference (Independent) play teams in other conferences \n",
    "- the 7 teams in #10 conference (Sun Belt) are broken in 2 clumps \n",
    "- 2 teams from #11 conference play mainly with #10 conference\n",
    "\n",
    "[REF]: \"Community structure in social and biological networks\", M. Girvan and M. E. J. Newman\n",
    "PNAS June 11, 2002 99 (12) 7821-7826; https://doi.org/10.1073/pnas.122653799\n"
   ]
  },
  {
   "cell_type": "code",
   "execution_count": null,
   "metadata": {},
   "outputs": [],
   "source": [
    "cfg = ig.Graph.Read_Ncol(datadir+'Football/football.edgelist',directed=False)\n",
    "c = np.loadtxt(datadir+'Football/football.community',dtype='uint16',usecols=(0))\n",
    "cfg.vs['community'] = [c[int(x['name'])] for x in cfg.vs]"
   ]
  },
  {
   "cell_type": "markdown",
   "metadata": {},
   "source": [
    "Let's look at the College Football Graph and show communities in different colors, and anomalies as squares"
   ]
  },
  {
   "cell_type": "code",
   "execution_count": null,
   "metadata": {},
   "outputs": [],
   "source": [
    "cfg.vs['shape'] = 'circle'\n",
    "cfg.vs['anomaly'] = 0\n",
    "pal = ig.ClusterColoringPalette(n=max(cfg.vs['community'])+1) \n",
    "cfg.vs['color'] = [pal.get(int(i)) for i in cfg.vs['community']]\n",
    "for v in cfg.vs:\n",
    "    if v['community'] in [5,10] or v['name'] in ['28','58']:\n",
    "        v['shape']='square'\n",
    "        v['anomaly']=1\n",
    "ly = cfg.layout_fruchterman_reingold()\n",
    "ig.plot(cfg, layout=ly, bbox=(0,0,500,300), vertex_size=6, edge_color='lightgray')\n"
   ]
  },
  {
   "cell_type": "markdown",
   "metadata": {},
   "source": [
    "Find the participation coefficient, a high value indicative of outlier"
   ]
  },
  {
   "cell_type": "code",
   "execution_count": null,
   "metadata": {
    "scrolled": false
   },
   "outputs": [],
   "source": [
    "ec = cfg.community_ecg()\n",
    "cfg.vs['ecg'] = ec.membership\n",
    "for v in cfg.vs:\n",
    "    l = list(Counter([cfg.vs[x]['ecg'] for x in cfg.neighbors(v)]).values()) ## neighbour's communities\n",
    "    s = sum(l)\n",
    "    v['pc'] = 1-sum([i**2/s**2 for i in l]) ## measures the homogeneity \n",
    "plt.rcParams['font.size'] = '14'\n",
    "X = [v['pc'] for v in cfg.vs if v['anomaly']==0]\n",
    "Y = [v['pc'] for v in cfg.vs if v['anomaly']==1]\n",
    "plt.boxplot([X,Y],labels=['Regular','Outlier'],sym='.',whis=(0,100), widths=.5)\n",
    "plt.ylabel('Participation coefficient',fontsize=14);"
   ]
  },
  {
   "cell_type": "markdown",
   "metadata": {},
   "source": [
    "Use ECG: node strongly in a community has high ecg weights to neighbours"
   ]
  },
  {
   "cell_type": "code",
   "execution_count": null,
   "metadata": {},
   "outputs": [],
   "source": [
    "cfg.es['ecg_weight'] = ec.W\n",
    "for v in cfg.vs:\n",
    "    v['ecg'] = np.mean([cfg.es[e]['ecg_weight'] for e in cfg.incident(v)])\n",
    "X = [v['ecg'] for v in cfg.vs if v['anomaly']==0]\n",
    "Y = [v['ecg'] for v in cfg.vs if v['anomaly']==1]\n",
    "plt.boxplot([X,Y],labels=['Regular','Outlier'],sym='.',whis=(0,100), widths=.5)\n",
    "plt.ylabel('ECG weights',fontsize=14);\n"
   ]
  },
  {
   "cell_type": "code",
   "execution_count": null,
   "metadata": {},
   "outputs": [],
   "source": []
  }
 ],
 "metadata": {
  "kernelspec": {
   "display_name": "Python [conda env:MiningComplexNetworks_2022] *",
   "language": "python",
   "name": "conda-env-MiningComplexNetworks_2022-py"
  },
  "language_info": {
   "codemirror_mode": {
    "name": "ipython",
    "version": 3
   },
   "file_extension": ".py",
   "mimetype": "text/x-python",
   "name": "python",
   "nbconvert_exporter": "python",
   "pygments_lexer": "ipython3",
   "version": "3.7.9"
  }
 },
 "nbformat": 4,
 "nbformat_minor": 4
}
